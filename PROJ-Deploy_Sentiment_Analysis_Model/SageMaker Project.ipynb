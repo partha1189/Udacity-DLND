{
 "cells": [
  {
   "cell_type": "markdown",
   "metadata": {},
   "source": [
    "# Creating a Sentiment Analysis Web App\n",
    "## Using PyTorch and SageMaker\n",
    "\n",
    "_Deep Learning Nanodegree Program | Deployment_\n",
    "\n",
    "---\n",
    "\n",
    "Now that we have a basic understanding of how SageMaker works we will try to use it to construct a complete project from end to end. Our goal will be to have a simple web page which a user can use to enter a movie review. The web page will then send the review off to our deployed model which will predict the sentiment of the entered review.\n",
    "\n",
    "## Instructions\n",
    "\n",
    "Some template code has already been provided for you, and you will need to implement additional functionality to successfully complete this notebook. You will not need to modify the included code beyond what is requested. Sections that begin with '**TODO**' in the header indicate that you need to complete or implement some portion within them. Instructions will be provided for each section and the specifics of the implementation are marked in the code block with a `# TODO: ...` comment. Please be sure to read the instructions carefully!\n",
    "\n",
    "In addition to implementing code, there will be questions for you to answer which relate to the task and your implementation. Each section where you will answer a question is preceded by a '**Question:**' header. Carefully read each question and provide your answer below the '**Answer:**' header by editing the Markdown cell.\n",
    "\n",
    "> **Note**: Code and Markdown cells can be executed using the **Shift+Enter** keyboard shortcut. In addition, a cell can be edited by typically clicking it (double-click for Markdown cells) or by pressing **Enter** while it is highlighted.\n",
    "\n",
    "## General Outline\n",
    "\n",
    "Recall the general outline for SageMaker projects using a notebook instance.\n",
    "\n",
    "1. Download or otherwise retrieve the data.\n",
    "2. Process / Prepare the data.\n",
    "3. Upload the processed data to S3.\n",
    "4. Train a chosen model.\n",
    "5. Test the trained model (typically using a batch transform job).\n",
    "6. Deploy the trained model.\n",
    "7. Use the deployed model.\n",
    "\n",
    "For this project, you will be following the steps in the general outline with some modifications. \n",
    "\n",
    "First, you will not be testing the model in its own step. You will still be testing the model, however, you will do it by deploying your model and then using the deployed model by sending the test data to it. One of the reasons for doing this is so that you can make sure that your deployed model is working correctly before moving forward.\n",
    "\n",
    "In addition, you will deploy and use your trained model a second time. In the second iteration you will customize the way that your trained model is deployed by including some of your own code. In addition, your newly deployed model will be used in the sentiment analysis web app."
   ]
  },
  {
   "cell_type": "markdown",
   "metadata": {},
   "source": [
    "## Step 1: Downloading the data\n",
    "\n",
    "As in the XGBoost in SageMaker notebook, we will be using the [IMDb dataset](http://ai.stanford.edu/~amaas/data/sentiment/)\n",
    "\n",
    "> Maas, Andrew L., et al. [Learning Word Vectors for Sentiment Analysis](http://ai.stanford.edu/~amaas/data/sentiment/). In _Proceedings of the 49th Annual Meeting of the Association for Computational Linguistics: Human Language Technologies_. Association for Computational Linguistics, 2011."
   ]
  },
  {
   "cell_type": "code",
   "execution_count": 1,
   "metadata": {},
   "outputs": [
    {
     "name": "stdout",
     "output_type": "stream",
     "text": [
      "--2019-04-04 14:57:09--  http://ai.stanford.edu/~amaas/data/sentiment/aclImdb_v1.tar.gz\n",
      "Resolving ai.stanford.edu (ai.stanford.edu)... 171.64.68.10\n",
      "Connecting to ai.stanford.edu (ai.stanford.edu)|171.64.68.10|:80... connected.\n",
      "HTTP request sent, awaiting response... 200 OK\n",
      "Length: 84125825 (80M) [application/x-gzip]\n",
      "Saving to: ‘../data/aclImdb_v1.tar.gz’\n",
      "\n",
      "../data/aclImdb_v1. 100%[===================>]  80.23M  14.7MB/s    in 11s     \n",
      "\n",
      "2019-04-04 14:57:20 (7.49 MB/s) - ‘../data/aclImdb_v1.tar.gz’ saved [84125825/84125825]\n",
      "\n"
     ]
    }
   ],
   "source": [
    "%mkdir ../data\n",
    "!wget -O ../data/aclImdb_v1.tar.gz http://ai.stanford.edu/~amaas/data/sentiment/aclImdb_v1.tar.gz\n",
    "!tar -zxf ../data/aclImdb_v1.tar.gz -C ../data"
   ]
  },
  {
   "cell_type": "markdown",
   "metadata": {},
   "source": [
    "## Step 2: Preparing and Processing the data\n",
    "\n",
    "Also, as in the XGBoost notebook, we will be doing some initial data processing. The first few steps are the same as in the XGBoost example. To begin with, we will read in each of the reviews and combine them into a single input structure. Then, we will split the dataset into a training set and a testing set."
   ]
  },
  {
   "cell_type": "code",
   "execution_count": 1,
   "metadata": {},
   "outputs": [],
   "source": [
    "import os\n",
    "import glob\n",
    "\n",
    "def read_imdb_data(data_dir='../data/aclImdb'):\n",
    "    data = {}\n",
    "    labels = {}\n",
    "    \n",
    "    for data_type in ['train', 'test']:\n",
    "        data[data_type] = {}\n",
    "        labels[data_type] = {}\n",
    "        \n",
    "        for sentiment in ['pos', 'neg']:\n",
    "            data[data_type][sentiment] = []\n",
    "            labels[data_type][sentiment] = []\n",
    "            \n",
    "            path = os.path.join(data_dir, data_type, sentiment, '*.txt')\n",
    "            files = glob.glob(path)\n",
    "            \n",
    "            for f in files:\n",
    "                with open(f) as review:\n",
    "                    data[data_type][sentiment].append(review.read())\n",
    "                    # Here we represent a positive review by '1' and a negative review by '0'\n",
    "                    labels[data_type][sentiment].append(1 if sentiment == 'pos' else 0)\n",
    "                    \n",
    "            assert len(data[data_type][sentiment]) == len(labels[data_type][sentiment]), \\\n",
    "                    \"{}/{} data size does not match labels size\".format(data_type, sentiment)\n",
    "                \n",
    "    return data, labels"
   ]
  },
  {
   "cell_type": "code",
   "execution_count": 2,
   "metadata": {},
   "outputs": [
    {
     "name": "stdout",
     "output_type": "stream",
     "text": [
      "IMDB reviews: train = 12500 pos / 12500 neg, test = 12500 pos / 12500 neg\n"
     ]
    }
   ],
   "source": [
    "data, labels = read_imdb_data()\n",
    "print(\"IMDB reviews: train = {} pos / {} neg, test = {} pos / {} neg\".format(\n",
    "            len(data['train']['pos']), len(data['train']['neg']),\n",
    "            len(data['test']['pos']), len(data['test']['neg'])))"
   ]
  },
  {
   "cell_type": "markdown",
   "metadata": {},
   "source": [
    "Now that we've read the raw training and testing data from the downloaded dataset, we will combine the positive and negative reviews and shuffle the resulting records."
   ]
  },
  {
   "cell_type": "code",
   "execution_count": 3,
   "metadata": {},
   "outputs": [],
   "source": [
    "from sklearn.utils import shuffle\n",
    "\n",
    "def prepare_imdb_data(data, labels):\n",
    "    \"\"\"Prepare training and test sets from IMDb movie reviews.\"\"\"\n",
    "    \n",
    "    #Combine positive and negative reviews and labels\n",
    "    data_train = data['train']['pos'] + data['train']['neg']\n",
    "    data_test = data['test']['pos'] + data['test']['neg']\n",
    "    labels_train = labels['train']['pos'] + labels['train']['neg']\n",
    "    labels_test = labels['test']['pos'] + labels['test']['neg']\n",
    "    \n",
    "    #Shuffle reviews and corresponding labels within training and test sets\n",
    "    data_train, labels_train = shuffle(data_train, labels_train)\n",
    "    data_test, labels_test = shuffle(data_test, labels_test)\n",
    "    \n",
    "    # Return a unified training data, test data, training labels, test labets\n",
    "    return data_train, data_test, labels_train, labels_test"
   ]
  },
  {
   "cell_type": "code",
   "execution_count": 4,
   "metadata": {},
   "outputs": [
    {
     "name": "stdout",
     "output_type": "stream",
     "text": [
      "IMDb reviews (combined): train = 25000, test = 25000\n"
     ]
    }
   ],
   "source": [
    "train_X, test_X, train_y, test_y = prepare_imdb_data(data, labels)\n",
    "print(\"IMDb reviews (combined): train = {}, test = {}\".format(len(train_X), len(test_X)))"
   ]
  },
  {
   "cell_type": "markdown",
   "metadata": {},
   "source": [
    "Now that we have our training and testing sets unified and prepared, we should do a quick check and see an example of the data our model will be trained on. This is generally a good idea as it allows you to see how each of the further processing steps affects the reviews and it also ensures that the data has been loaded correctly."
   ]
  },
  {
   "cell_type": "code",
   "execution_count": 5,
   "metadata": {},
   "outputs": [
    {
     "name": "stdout",
     "output_type": "stream",
     "text": [
      "This is a family film, which to some people is an automatic turn off. It seems that too many people do not want to see films that are not loaded down with failing arms and legs, gratuitous violence and enough expletives to fill the New York phone book. This film is none of those. It is cliché, it is formula, but it is also fun. It doesn't ask you to think, it doesn't demand that you accept the film as reality. It simply does what a good film ought to do, which is to willingly suspend disbelief for two hours and enjoy the adventure. The cast is good, while not excellent. As another commenter pointed out the John Williams sound score was, as usual, excellent. And the fact that a lot of the film was shot in Huntsville at the real space camp made it even more believable. <br /><br />It was ironic that the original release of the film was delayed for some months due to the Challenger Shuttle disaster, which may have played a large part in it's original theatrical opening, but the film eventually has helped to focus the dreams of many young people back towards space and the possibilities that lie therein. SO sit back with your kids and prepare to enjoy.\n",
      "1\n"
     ]
    }
   ],
   "source": [
    "print(train_X[100])\n",
    "print(train_y[100])"
   ]
  },
  {
   "cell_type": "markdown",
   "metadata": {},
   "source": [
    "The first step in processing the reviews is to make sure that any html tags that appear should be removed. In addition we wish to tokenize our input, that way words such as *entertained* and *entertaining* are considered the same with regard to sentiment analysis."
   ]
  },
  {
   "cell_type": "code",
   "execution_count": 6,
   "metadata": {},
   "outputs": [],
   "source": [
    "import nltk\n",
    "from nltk.corpus import stopwords\n",
    "from nltk.stem.porter import *\n",
    "\n",
    "import re\n",
    "from bs4 import BeautifulSoup\n",
    "\n",
    "def review_to_words(review):\n",
    "    nltk.download(\"stopwords\", quiet=True)\n",
    "    stemmer = PorterStemmer()\n",
    "    \n",
    "    text = BeautifulSoup(review, \"html.parser\").get_text() # Remove HTML tags\n",
    "    text = re.sub(r\"[^a-zA-Z0-9]\", \" \", text.lower()) # Convert to lower case\n",
    "    words = text.split() # Split string into words\n",
    "    words = [w for w in words if w not in stopwords.words(\"english\")] # Remove stopwords\n",
    "    words = [PorterStemmer().stem(w) for w in words] # stem\n",
    "    \n",
    "    return words"
   ]
  },
  {
   "cell_type": "markdown",
   "metadata": {},
   "source": [
    "The `review_to_words` method defined above uses `BeautifulSoup` to remove any html tags that appear and uses the `nltk` package to tokenize the reviews. As a check to ensure we know how everything is working, try applying `review_to_words` to one of the reviews in the training set."
   ]
  },
  {
   "cell_type": "code",
   "execution_count": 7,
   "metadata": {},
   "outputs": [
    {
     "data": {
      "text/plain": [
       "['famili',\n",
       " 'film',\n",
       " 'peopl',\n",
       " 'automat',\n",
       " 'turn',\n",
       " 'seem',\n",
       " 'mani',\n",
       " 'peopl',\n",
       " 'want',\n",
       " 'see',\n",
       " 'film',\n",
       " 'load',\n",
       " 'fail',\n",
       " 'arm',\n",
       " 'leg',\n",
       " 'gratuit',\n",
       " 'violenc',\n",
       " 'enough',\n",
       " 'explet',\n",
       " 'fill',\n",
       " 'new',\n",
       " 'york',\n",
       " 'phone',\n",
       " 'book',\n",
       " 'film',\n",
       " 'none',\n",
       " 'clich',\n",
       " 'formula',\n",
       " 'also',\n",
       " 'fun',\n",
       " 'ask',\n",
       " 'think',\n",
       " 'demand',\n",
       " 'accept',\n",
       " 'film',\n",
       " 'realiti',\n",
       " 'simpli',\n",
       " 'good',\n",
       " 'film',\n",
       " 'ought',\n",
       " 'willingli',\n",
       " 'suspend',\n",
       " 'disbelief',\n",
       " 'two',\n",
       " 'hour',\n",
       " 'enjoy',\n",
       " 'adventur',\n",
       " 'cast',\n",
       " 'good',\n",
       " 'excel',\n",
       " 'anoth',\n",
       " 'comment',\n",
       " 'point',\n",
       " 'john',\n",
       " 'william',\n",
       " 'sound',\n",
       " 'score',\n",
       " 'usual',\n",
       " 'excel',\n",
       " 'fact',\n",
       " 'lot',\n",
       " 'film',\n",
       " 'shot',\n",
       " 'huntsvil',\n",
       " 'real',\n",
       " 'space',\n",
       " 'camp',\n",
       " 'made',\n",
       " 'even',\n",
       " 'believ',\n",
       " 'iron',\n",
       " 'origin',\n",
       " 'releas',\n",
       " 'film',\n",
       " 'delay',\n",
       " 'month',\n",
       " 'due',\n",
       " 'challeng',\n",
       " 'shuttl',\n",
       " 'disast',\n",
       " 'may',\n",
       " 'play',\n",
       " 'larg',\n",
       " 'part',\n",
       " 'origin',\n",
       " 'theatric',\n",
       " 'open',\n",
       " 'film',\n",
       " 'eventu',\n",
       " 'help',\n",
       " 'focu',\n",
       " 'dream',\n",
       " 'mani',\n",
       " 'young',\n",
       " 'peopl',\n",
       " 'back',\n",
       " 'toward',\n",
       " 'space',\n",
       " 'possibl',\n",
       " 'lie',\n",
       " 'therein',\n",
       " 'sit',\n",
       " 'back',\n",
       " 'kid',\n",
       " 'prepar',\n",
       " 'enjoy']"
      ]
     },
     "execution_count": 7,
     "metadata": {},
     "output_type": "execute_result"
    }
   ],
   "source": [
    "# TODO: Apply review_to_words to a review (train_X[100] or any other review)\n",
    "review_to_words(train_X[100])"
   ]
  },
  {
   "cell_type": "markdown",
   "metadata": {},
   "source": [
    "**Question:** Above we mentioned that `review_to_words` method removes html formatting and allows us to tokenize the words found in a review, for example, converting *entertained* and *entertaining* into *entertain* so that they are treated as though they are the same word. What else, if anything, does this method do to the input?"
   ]
  },
  {
   "cell_type": "markdown",
   "metadata": {},
   "source": [
    "**Answer:**  The method review_to_words Splits string into words,then converts the words to lowercase,remove the html tags,remove stopwords like 'an','in' & stem the words which convey same meaning"
   ]
  },
  {
   "cell_type": "markdown",
   "metadata": {},
   "source": [
    "The method below applies the `review_to_words` method to each of the reviews in the training and testing datasets. In addition it caches the results. This is because performing this processing step can take a long time. This way if you are unable to complete the notebook in the current session, you can come back without needing to process the data a second time."
   ]
  },
  {
   "cell_type": "code",
   "execution_count": 8,
   "metadata": {},
   "outputs": [],
   "source": [
    "import pickle\n",
    "\n",
    "cache_dir = os.path.join(\"../cache\", \"sentiment_analysis\")  # where to store cache files\n",
    "os.makedirs(cache_dir, exist_ok=True)  # ensure cache directory exists\n",
    "\n",
    "def preprocess_data(data_train, data_test, labels_train, labels_test,\n",
    "                    cache_dir=cache_dir, cache_file=\"preprocessed_data.pkl\"):\n",
    "    \"\"\"Convert each review to words; read from cache if available.\"\"\"\n",
    "\n",
    "    # If cache_file is not None, try to read from it first\n",
    "    cache_data = None\n",
    "    if cache_file is not None:\n",
    "        try:\n",
    "            with open(os.path.join(cache_dir, cache_file), \"rb\") as f:\n",
    "                cache_data = pickle.load(f)\n",
    "            print(\"Read preprocessed data from cache file:\", cache_file)\n",
    "        except:\n",
    "            pass  # unable to read from cache, but that's okay\n",
    "    \n",
    "    # If cache is missing, then do the heavy lifting\n",
    "    if cache_data is None:\n",
    "        # Preprocess training and test data to obtain words for each review\n",
    "        #words_train = list(map(review_to_words, data_train))\n",
    "        #words_test = list(map(review_to_words, data_test))\n",
    "        words_train = [review_to_words(review) for review in data_train]\n",
    "        words_test = [review_to_words(review) for review in data_test]\n",
    "        \n",
    "        # Write to cache file for future runs\n",
    "        if cache_file is not None:\n",
    "            cache_data = dict(words_train=words_train, words_test=words_test,\n",
    "                              labels_train=labels_train, labels_test=labels_test)\n",
    "            with open(os.path.join(cache_dir, cache_file), \"wb\") as f:\n",
    "                pickle.dump(cache_data, f)\n",
    "            print(\"Wrote preprocessed data to cache file:\", cache_file)\n",
    "    else:\n",
    "        # Unpack data loaded from cache file\n",
    "        words_train, words_test, labels_train, labels_test = (cache_data['words_train'],\n",
    "                cache_data['words_test'], cache_data['labels_train'], cache_data['labels_test'])\n",
    "    \n",
    "    return words_train, words_test, labels_train, labels_test"
   ]
  },
  {
   "cell_type": "code",
   "execution_count": 9,
   "metadata": {},
   "outputs": [
    {
     "name": "stdout",
     "output_type": "stream",
     "text": [
      "Read preprocessed data from cache file: preprocessed_data.pkl\n"
     ]
    }
   ],
   "source": [
    "# Preprocess data\n",
    "train_X, test_X, train_y, test_y = preprocess_data(train_X, test_X, train_y, test_y)"
   ]
  },
  {
   "cell_type": "markdown",
   "metadata": {},
   "source": [
    "## Transform the data\n",
    "\n",
    "In the XGBoost notebook we transformed the data from its word representation to a bag-of-words feature representation. For the model we are going to construct in this notebook we will construct a feature representation which is very similar. To start, we will represent each word as an integer. Of course, some of the words that appear in the reviews occur very infrequently and so likely don't contain much information for the purposes of sentiment analysis. The way we will deal with this problem is that we will fix the size of our working vocabulary and we will only include the words that appear most frequently. We will then combine all of the infrequent words into a single category and, in our case, we will label it as `1`.\n",
    "\n",
    "Since we will be using a recurrent neural network, it will be convenient if the length of each review is the same. To do this, we will fix a size for our reviews and then pad short reviews with the category 'no word' (which we will label `0`) and truncate long reviews."
   ]
  },
  {
   "cell_type": "markdown",
   "metadata": {},
   "source": [
    "### (TODO) Create a word dictionary\n",
    "\n",
    "To begin with, we need to construct a way to map words that appear in the reviews to integers. Here we fix the size of our vocabulary (including the 'no word' and 'infrequent' categories) to be `5000` but you may wish to change this to see how it affects the model.\n",
    "\n",
    "> **TODO:** Complete the implementation for the `build_dict()` method below. Note that even though the vocab_size is set to `5000`, we only want to construct a mapping for the most frequently appearing `4998` words. This is because we want to reserve the special labels `0` for 'no word' and `1` for 'infrequent word'."
   ]
  },
  {
   "cell_type": "code",
   "execution_count": 21,
   "metadata": {},
   "outputs": [],
   "source": [
    "import numpy as np\n",
    "from collections import Counter\n",
    "\n",
    "def build_dict(data, vocab_size = 5000):\n",
    "    \"\"\"Construct and return a dictionary mapping each of the most frequently appearing words to a unique integer.\"\"\"\n",
    "    \n",
    "    # TODO: Determine how often each word appears in `data`. Note that `data` is a list of sentences and that a\n",
    "    #       sentence is a list of words.\n",
    "    \n",
    "    word_count = {} # A dict storing the words that appear in the reviews along with how often they occur\n",
    "    \n",
    "    words = [word for sentence in data for word in sentence]\n",
    "    \n",
    "    # TODO: Sort the words found in `data` so that sorted_words[0] is the most frequently appearing word and\n",
    "    #       sorted_words[-1] is the least frequently appearing word.\n",
    "    word_count = Counter(words)\n",
    "    sorted_words = sorted(word_count, key=word_count.get, reverse=True)\n",
    "    #vocab_to_int = {word: ii for ii, word in enumerate(vocab, 1)}\n",
    "    \n",
    "    word_dict = {} # This is what we are building, a dictionary that translates words into integers\n",
    "    for idx, word in enumerate(sorted_words[:vocab_size - 2]): # The -2 is so that we save room for the 'no word'\n",
    "        word_dict[word] = idx + 2                              # 'infrequent' labels\n",
    "        \n",
    "    return word_dict"
   ]
  },
  {
   "cell_type": "code",
   "execution_count": 22,
   "metadata": {},
   "outputs": [],
   "source": [
    "word_dict = build_dict(train_X)\n",
    "#words = [[word for word in sentence]for sentence in train_X[:2]]\n",
    "#from collections import Counter\n",
    "#words = [word for sentence in train_X[:2] for word in sentence]\n",
    "#word_count = Counter(words)\n",
    "#sorted_words = sorted(word_count, key=word_count.get, reverse=True)\n",
    "#print(sorted_words)"
   ]
  },
  {
   "cell_type": "markdown",
   "metadata": {},
   "source": [
    "**Question:** What are the five most frequently appearing (tokenized) words in the training set? Does it makes sense that these words appear frequently in the training set?"
   ]
  },
  {
   "cell_type": "markdown",
   "metadata": {},
   "source": [
    "**Answer:** The five most frequently appearing words in the training set are 'movi','film','one','like','time'.These words makes sense because these are movie reviews."
   ]
  },
  {
   "cell_type": "code",
   "execution_count": 27,
   "metadata": {},
   "outputs": [
    {
     "name": "stdout",
     "output_type": "stream",
     "text": [
      "{'movi': 2, 'film': 3, 'one': 4, 'like': 5, 'time': 6, 'good': 7, 'make': 8, 'charact': 9, 'get': 10, 'see': 11, 'watch': 12, 'stori': 13, 'even': 14, 'would': 15, 'realli': 16, 'well': 17, 'scene': 18, 'look': 19, 'show': 20, 'much': 21, 'end': 22, 'peopl': 23, 'bad': 24, 'go': 25, 'great': 26, 'also': 27, 'first': 28, 'love': 29, 'think': 30, 'way': 31, 'act': 32, 'play': 33, 'made': 34, 'thing': 35, 'could': 36, 'know': 37, 'say': 38, 'seem': 39, 'work': 40, 'plot': 41, 'two': 42, 'actor': 43, 'year': 44, 'come': 45, 'mani': 46, 'seen': 47, 'take': 48, 'life': 49, 'want': 50, 'never': 51, 'littl': 52, 'best': 53, 'tri': 54, 'man': 55, 'ever': 56, 'give': 57, 'better': 58, 'still': 59, 'perform': 60, 'find': 61, 'feel': 62, 'part': 63, 'back': 64, 'use': 65, 'someth': 66, 'director': 67, 'actual': 68, 'interest': 69, 'lot': 70, 'real': 71, 'old': 72, 'cast': 73, 'though': 74, 'live': 75, 'star': 76, 'enjoy': 77, 'guy': 78, 'anoth': 79, 'new': 80, 'role': 81, 'noth': 82, '10': 83, 'funni': 84, 'music': 85, 'point': 86, 'start': 87, 'set': 88, 'girl': 89, 'origin': 90, 'day': 91, 'world': 92, 'everi': 93, 'believ': 94, 'turn': 95, 'quit': 96, 'direct': 97, 'us': 98, 'thought': 99, 'fact': 100, 'minut': 101, 'horror': 102, 'kill': 103, 'action': 104, 'comedi': 105, 'pretti': 106, 'young': 107, 'wonder': 108, 'happen': 109, 'around': 110, 'got': 111, 'effect': 112, 'right': 113, 'long': 114, 'howev': 115, 'big': 116, 'line': 117, 'famili': 118, 'enough': 119, 'seri': 120, 'may': 121, 'need': 122, 'fan': 123, 'bit': 124, 'script': 125, 'beauti': 126, 'person': 127, 'becom': 128, 'without': 129, 'must': 130, 'alway': 131, 'friend': 132, 'tell': 133, 'reason': 134, 'saw': 135, 'last': 136, 'final': 137, 'kid': 138, 'almost': 139, 'put': 140, 'least': 141, 'sure': 142, 'done': 143, 'whole': 144, 'place': 145, 'complet': 146, 'kind': 147, 'expect': 148, 'differ': 149, 'shot': 150, 'far': 151, 'mean': 152, 'anyth': 153, 'book': 154, 'laugh': 155, 'might': 156, 'name': 157, 'sinc': 158, 'begin': 159, '2': 160, 'probabl': 161, 'woman': 162, 'help': 163, 'entertain': 164, 'let': 165, 'screen': 166, 'call': 167, 'tv': 168, 'moment': 169, 'away': 170, 'read': 171, 'yet': 172, 'rather': 173, 'worst': 174, 'run': 175, 'fun': 176, 'lead': 177, 'hard': 178, 'audienc': 179, 'idea': 180, 'anyon': 181, 'episod': 182, 'american': 183, 'found': 184, 'appear': 185, 'bore': 186, 'especi': 187, 'although': 188, 'hope': 189, 'cours': 190, 'keep': 191, 'anim': 192, 'job': 193, 'goe': 194, 'move': 195, 'sens': 196, 'dvd': 197, 'version': 198, 'war': 199, 'money': 200, 'someon': 201, 'mind': 202, 'mayb': 203, 'problem': 204, 'true': 205, 'hous': 206, 'everyth': 207, 'nice': 208, 'second': 209, 'rate': 210, 'three': 211, 'night': 212, 'follow': 213, 'face': 214, 'recommend': 215, 'main': 216, 'product': 217, 'worth': 218, 'leav': 219, 'human': 220, 'special': 221, 'excel': 222, 'togeth': 223, 'wast': 224, 'sound': 225, 'everyon': 226, 'john': 227, 'hand': 228, '1': 229, 'father': 230, 'later': 231, 'eye': 232, 'said': 233, 'view': 234, 'instead': 235, 'review': 236, 'boy': 237, 'high': 238, 'hour': 239, 'miss': 240, 'classic': 241, 'talk': 242, 'wife': 243, 'understand': 244, 'left': 245, 'care': 246, 'black': 247, 'death': 248, 'open': 249, 'murder': 250, 'write': 251, 'half': 252, 'head': 253, 'rememb': 254, 'chang': 255, 'viewer': 256, 'fight': 257, 'gener': 258, 'surpris': 259, 'includ': 260, 'short': 261, 'die': 262, 'fall': 263, 'less': 264, 'els': 265, 'entir': 266, 'piec': 267, 'involv': 268, 'pictur': 269, 'simpli': 270, 'power': 271, 'top': 272, 'home': 273, 'total': 274, 'usual': 275, 'budget': 276, 'attempt': 277, 'suppos': 278, 'releas': 279, 'hollywood': 280, 'terribl': 281, 'song': 282, 'men': 283, 'possibl': 284, 'featur': 285, 'portray': 286, 'disappoint': 287, 'poor': 288, '3': 289, 'coupl': 290, 'stupid': 291, 'camera': 292, 'dead': 293, 'wrong': 294, 'produc': 295, 'low': 296, 'either': 297, 'video': 298, 'aw': 299, 'definit': 300, 'except': 301, 'rest': 302, 'given': 303, 'absolut': 304, 'women': 305, 'lack': 306, 'word': 307, 'writer': 308, 'titl': 309, 'talent': 310, 'decid': 311, 'full': 312, 'perfect': 313, 'along': 314, 'style': 315, 'close': 316, 'truli': 317, 'school': 318, 'save': 319, 'emot': 320, 'age': 321, 'sex': 322, 'next': 323, 'bring': 324, 'mr': 325, 'case': 326, 'killer': 327, 'heart': 328, 'comment': 329, 'sort': 330, 'creat': 331, 'perhap': 332, 'came': 333, 'brother': 334, 'sever': 335, 'joke': 336, 'art': 337, 'dialogu': 338, 'game': 339, 'small': 340, 'base': 341, 'flick': 342, 'written': 343, 'sequenc': 344, 'meet': 345, 'earli': 346, 'often': 347, 'other': 348, 'mother': 349, 'develop': 350, 'humor': 351, 'actress': 352, 'consid': 353, 'dark': 354, 'guess': 355, 'amaz': 356, 'unfortun': 357, 'lost': 358, 'light': 359, 'exampl': 360, 'cinema': 361, 'drama': 362, 'white': 363, 'ye': 364, 'experi': 365, 'imagin': 366, 'mention': 367, 'stop': 368, 'natur': 369, 'forc': 370, 'manag': 371, 'felt': 372, 'present': 373, 'cut': 374, 'children': 375, 'fail': 376, 'son': 377, 'support': 378, 'qualiti': 379, 'car': 380, 'ask': 381, 'hit': 382, 'side': 383, 'voic': 384, 'extrem': 385, 'impress': 386, 'evil': 387, 'wors': 388, 'stand': 389, 'went': 390, 'certainli': 391, 'basic': 392, 'oh': 393, 'overal': 394, 'favorit': 395, 'horribl': 396, 'mysteri': 397, 'number': 398, 'type': 399, 'danc': 400, 'wait': 401, 'hero': 402, '5': 403, 'alreadi': 404, 'learn': 405, 'matter': 406, '4': 407, 'michael': 408, 'genr': 409, 'fine': 410, 'despit': 411, 'throughout': 412, 'walk': 413, 'success': 414, 'histori': 415, 'question': 416, 'zombi': 417, 'town': 418, 'relationship': 419, 'realiz': 420, 'child': 421, 'past': 422, 'daughter': 423, 'late': 424, 'b': 425, 'wish': 426, 'hate': 427, 'credit': 428, 'event': 429, 'theme': 430, 'touch': 431, 'citi': 432, 'today': 433, 'sometim': 434, 'behind': 435, 'god': 436, 'twist': 437, 'sit': 438, 'annoy': 439, 'deal': 440, 'stay': 441, 'abl': 442, 'rent': 443, 'pleas': 444, 'edit': 445, 'blood': 446, 'deserv': 447, 'comic': 448, 'anyway': 449, 'appar': 450, 'soon': 451, 'gave': 452, 'etc': 453, 'level': 454, 'slow': 455, 'chanc': 456, 'score': 457, 'bodi': 458, 'brilliant': 459, 'incred': 460, 'figur': 461, 'situat': 462, 'self': 463, 'major': 464, 'stuff': 465, 'decent': 466, 'element': 467, 'dream': 468, 'return': 469, 'obvious': 470, 'continu': 471, 'order': 472, 'pace': 473, 'ridicul': 474, 'happi': 475, 'highli': 476, 'add': 477, 'group': 478, 'thank': 479, 'ladi': 480, 'novel': 481, 'speak': 482, 'pain': 483, 'career': 484, 'shoot': 485, 'strang': 486, 'heard': 487, 'sad': 488, 'husband': 489, 'polic': 490, 'import': 491, 'break': 492, 'took': 493, 'cannot': 494, 'strong': 495, 'robert': 496, 'predict': 497, 'violenc': 498, 'hilari': 499, 'recent': 500, 'countri': 501, 'known': 502, 'particularli': 503, 'pick': 504, 'documentari': 505, 'season': 506, 'critic': 507, 'jame': 508, 'compar': 509, 'obviou': 510, 'alon': 511, 'told': 512, 'state': 513, 'rock': 514, 'visual': 515, 'exist': 516, 'theater': 517, 'offer': 518, 'opinion': 519, 'gore': 520, 'hold': 521, 'crap': 522, 'result': 523, 'realiti': 524, 'room': 525, 'hear': 526, 'clich': 527, 'effort': 528, 'thriller': 529, 'caus': 530, 'serious': 531, 'sequel': 532, 'explain': 533, 'king': 534, 'local': 535, 'ago': 536, 'none': 537, 'hell': 538, 'note': 539, 'allow': 540, 'sister': 541, 'david': 542, 'simpl': 543, 'femal': 544, 'deliv': 545, 'ok': 546, 'convinc': 547, 'class': 548, 'check': 549, 'suspens': 550, 'win': 551, 'oscar': 552, 'buy': 553, 'huge': 554, 'valu': 555, 'sexual': 556, 'cool': 557, 'scari': 558, 'excit': 559, 'similar': 560, 'provid': 561, 'apart': 562, 'exactli': 563, 'avoid': 564, 'shown': 565, 'seriou': 566, 'english': 567, 'whose': 568, 'taken': 569, 'cinematographi': 570, 'shock': 571, 'polit': 572, 'spoiler': 573, 'offic': 574, 'across': 575, 'middl': 576, 'street': 577, 'pass': 578, 'messag': 579, 'charm': 580, 'somewhat': 581, 'silli': 582, 'modern': 583, 'filmmak': 584, 'confus': 585, 'form': 586, 'tale': 587, 'singl': 588, 'jack': 589, 'mostli': 590, 'william': 591, 'attent': 592, 'carri': 593, 'sing': 594, 'subject': 595, 'five': 596, 'prove': 597, 'richard': 598, 'team': 599, 'stage': 600, 'cop': 601, 'unlik': 602, 'georg': 603, 'monster': 604, 'televis': 605, 'earth': 606, 'cover': 607, 'villain': 608, 'pay': 609, 'marri': 610, 'toward': 611, 'build': 612, 'parent': 613, 'pull': 614, 'due': 615, 'fill': 616, 'respect': 617, 'dialog': 618, 'four': 619, 'remind': 620, 'futur': 621, 'typic': 622, 'weak': 623, '7': 624, 'cheap': 625, 'intellig': 626, 'atmospher': 627, 'british': 628, '80': 629, 'clearli': 630, 'paul': 631, 'non': 632, 'dog': 633, 'artist': 634, 'knew': 635, 'fast': 636, '8': 637, 'crime': 638, 'easili': 639, 'escap': 640, 'doubt': 641, 'adult': 642, 'detail': 643, 'date': 644, 'member': 645, 'romant': 646, 'fire': 647, 'drive': 648, 'gun': 649, 'straight': 650, 'fit': 651, 'beyond': 652, 'attack': 653, 'imag': 654, 'upon': 655, 'posit': 656, 'whether': 657, 'peter': 658, 'fantast': 659, 'appreci': 660, 'captur': 661, 'aspect': 662, 'ten': 663, 'plan': 664, 'discov': 665, 'remain': 666, 'near': 667, 'period': 668, 'air': 669, 'realist': 670, 'mark': 671, 'red': 672, 'dull': 673, 'adapt': 674, 'within': 675, 'spend': 676, 'lose': 677, 'color': 678, 'materi': 679, 'chase': 680, 'mari': 681, 'storylin': 682, 'forget': 683, 'bunch': 684, 'clear': 685, 'lee': 686, 'victim': 687, 'nearli': 688, 'box': 689, 'york': 690, 'match': 691, 'inspir': 692, 'finish': 693, 'mess': 694, 'standard': 695, 'easi': 696, 'truth': 697, 'suffer': 698, 'busi': 699, 'space': 700, 'bill': 701, 'dramat': 702, 'western': 703, 'e': 704, 'list': 705, 'battl': 706, 'notic': 707, 'de': 708, 'french': 709, 'ad': 710, '9': 711, 'tom': 712, 'larg': 713, 'among': 714, 'eventu': 715, 'accept': 716, 'train': 717, 'agre': 718, 'soundtrack': 719, 'spirit': 720, 'third': 721, 'teenag': 722, 'adventur': 723, 'soldier': 724, 'famou': 725, 'suggest': 726, 'drug': 727, 'sorri': 728, 'cri': 729, 'babi': 730, 'normal': 731, 'ultim': 732, 'troubl': 733, 'contain': 734, 'certain': 735, 'cultur': 736, 'romanc': 737, 'rare': 738, 'lame': 739, 'somehow': 740, 'mix': 741, 'disney': 742, 'gone': 743, 'cartoon': 744, 'student': 745, 'reveal': 746, 'fear': 747, 'suck': 748, 'kept': 749, 'attract': 750, 'appeal': 751, 'premis': 752, 'secret': 753, 'greatest': 754, 'design': 755, 'shame': 756, 'throw': 757, 'scare': 758, 'copi': 759, 'wit': 760, 'america': 761, 'admit': 762, 'particular': 763, 'brought': 764, 'relat': 765, 'screenplay': 766, 'whatev': 767, 'pure': 768, '70': 769, 'harri': 770, 'averag': 771, 'master': 772, 'describ': 773, 'male': 774, 'treat': 775, '20': 776, 'fantasi': 777, 'issu': 778, 'warn': 779, 'inde': 780, 'forward': 781, 'background': 782, 'free': 783, 'project': 784, 'memor': 785, 'japanes': 786, 'poorli': 787, 'award': 788, 'locat': 789, 'potenti': 790, 'amus': 791, 'struggl': 792, 'weird': 793, 'magic': 794, 'societi': 795, 'okay': 796, 'doctor': 797, 'imdb': 798, 'accent': 799, 'water': 800, 'hot': 801, 'express': 802, 'alien': 803, 'dr': 804, '30': 805, 'odd': 806, 'crazi': 807, 'choic': 808, 'studio': 809, 'fiction': 810, 'becam': 811, 'control': 812, 'masterpiec': 813, 'difficult': 814, 'fli': 815, 'joe': 816, 'scream': 817, 'costum': 818, 'lover': 819, 'uniqu': 820, 'refer': 821, 'remak': 822, 'vampir': 823, 'girlfriend': 824, 'prison': 825, 'execut': 826, 'wear': 827, 'jump': 828, 'unless': 829, 'wood': 830, 'creepi': 831, 'cheesi': 832, 'superb': 833, 'otherwis': 834, 'parti': 835, 'ghost': 836, 'roll': 837, 'mad': 838, 'public': 839, 'depict': 840, 'jane': 841, 'badli': 842, 'earlier': 843, 'moral': 844, 'week': 845, 'dumb': 846, 'fi': 847, 'flaw': 848, 'grow': 849, 'deep': 850, 'sci': 851, 'maker': 852, 'cat': 853, 'older': 854, 'footag': 855, 'connect': 856, 'bother': 857, 'plenti': 858, 'outsid': 859, 'stick': 860, 'gay': 861, 'catch': 862, 'plu': 863, 'co': 864, 'popular': 865, 'equal': 866, 'social': 867, 'quickli': 868, 'disturb': 869, 'perfectli': 870, 'dress': 871, '90': 872, 'era': 873, 'mistak': 874, 'lie': 875, 'ride': 876, 'previou': 877, 'combin': 878, 'band': 879, 'concept': 880, 'rich': 881, 'surviv': 882, 'answer': 883, 'front': 884, 'sweet': 885, 'christma': 886, 'insid': 887, 'bare': 888, 'eat': 889, 'concern': 890, 'ben': 891, 'listen': 892, 'beat': 893, 'c': 894, 'term': 895, 'serv': 896, 'meant': 897, 'la': 898, 'german': 899, 'hardli': 900, 'stereotyp': 901, 'law': 902, 'innoc': 903, 'desper': 904, 'promis': 905, 'memori': 906, 'cute': 907, 'intent': 908, 'variou': 909, 'steal': 910, 'inform': 911, 'brain': 912, 'post': 913, 'tone': 914, 'island': 915, 'amount': 916, 'track': 917, 'nuditi': 918, 'compani': 919, 'store': 920, 'claim': 921, 'hair': 922, 'flat': 923, '50': 924, 'land': 925, 'univers': 926, 'danger': 927, 'kick': 928, 'fairli': 929, 'scott': 930, 'player': 931, 'plain': 932, 'crew': 933, 'step': 934, 'toni': 935, 'share': 936, 'tast': 937, 'centuri': 938, 'achiev': 939, 'engag': 940, 'cold': 941, 'travel': 942, 'suit': 943, 'rip': 944, 'record': 945, 'manner': 946, 'sadli': 947, 'spot': 948, 'wrote': 949, 'tension': 950, 'fascin': 951, 'intens': 952, 'familiar': 953, 'burn': 954, 'remark': 955, 'depth': 956, 'histor': 957, 'destroy': 958, 'sleep': 959, 'purpos': 960, 'languag': 961, 'ruin': 962, 'ignor': 963, 'delight': 964, 'unbeliev': 965, 'italian': 966, 'collect': 967, 'soul': 968, 'abil': 969, 'clever': 970, 'detect': 971, 'violent': 972, 'rape': 973, 'reach': 974, 'door': 975, 'liter': 976, 'trash': 977, 'scienc': 978, 'caught': 979, 'reveng': 980, 'commun': 981, 'creatur': 982, 'approach': 983, 'trip': 984, 'intrigu': 985, 'fashion': 986, 'paint': 987, 'introduc': 988, 'skill': 989, 'complex': 990, 'channel': 991, 'camp': 992, 'christian': 993, 'extra': 994, 'hole': 995, 'ann': 996, 'limit': 997, 'mental': 998, 'immedi': 999, 'comput': 1000, '6': 1001, 'mere': 1002, 'million': 1003, 'slightli': 1004, 'slasher': 1005, 'conclus': 1006, 'imposs': 1007, 'suddenli': 1008, 'neither': 1009, 'teen': 1010, 'crimin': 1011, 'spent': 1012, 'physic': 1013, 'nation': 1014, 'respons': 1015, 'planet': 1016, 'receiv': 1017, 'fake': 1018, 'blue': 1019, 'sick': 1020, 'bizarr': 1021, 'embarrass': 1022, 'indian': 1023, 'ring': 1024, '15': 1025, 'pop': 1026, 'drop': 1027, 'drag': 1028, 'haunt': 1029, 'pointless': 1030, 'suspect': 1031, 'search': 1032, 'edg': 1033, 'handl': 1034, 'biggest': 1035, 'common': 1036, 'hurt': 1037, 'arriv': 1038, 'faith': 1039, 'technic': 1040, 'angel': 1041, 'dad': 1042, 'genuin': 1043, 'f': 1044, 'solid': 1045, 'awesom': 1046, 'focu': 1047, 'former': 1048, 'van': 1049, 'colleg': 1050, 'count': 1051, 'heavi': 1052, 'tear': 1053, 'wall': 1054, 'rais': 1055, 'younger': 1056, 'visit': 1057, 'laughabl': 1058, 'sign': 1059, 'excus': 1060, 'fair': 1061, 'cult': 1062, 'key': 1063, 'tough': 1064, 'motion': 1065, 'desir': 1066, 'super': 1067, 'addit': 1068, 'stun': 1069, 'cloth': 1070, 'exploit': 1071, 'tortur': 1072, 'smith': 1073, 'davi': 1074, 'race': 1075, 'cross': 1076, 'author': 1077, 'jim': 1078, 'compel': 1079, 'consist': 1080, 'minor': 1081, 'focus': 1082, 'chemistri': 1083, 'commit': 1084, 'pathet': 1085, 'park': 1086, 'obsess': 1087, 'frank': 1088, 'tradit': 1089, 'grade': 1090, 'asid': 1091, '60': 1092, 'brutal': 1093, 'somewher': 1094, 'steve': 1095, 'u': 1096, 'opportun': 1097, 'grant': 1098, 'depress': 1099, 'rule': 1100, 'explor': 1101, 'honest': 1102, 'besid': 1103, 'dub': 1104, 'anti': 1105, 'trailer': 1106, 'intend': 1107, 'bar': 1108, 'longer': 1109, 'regard': 1110, 'scientist': 1111, 'west': 1112, 'decad': 1113, 'judg': 1114, 'silent': 1115, 'creativ': 1116, 'armi': 1117, 'wild': 1118, 'g': 1119, 'stewart': 1120, 'south': 1121, 'draw': 1122, 'road': 1123, 'govern': 1124, 'ex': 1125, 'boss': 1126, 'practic': 1127, 'gang': 1128, 'club': 1129, 'festiv': 1130, 'motiv': 1131, 'surprisingli': 1132, 'green': 1133, 'page': 1134, 'redeem': 1135, 'london': 1136, 'aliv': 1137, 'idiot': 1138, 'display': 1139, 'militari': 1140, 'machin': 1141, 'thrill': 1142, 'repeat': 1143, 'nobodi': 1144, 'folk': 1145, 'yeah': 1146, '100': 1147, '40': 1148, 'garbag': 1149, 'journey': 1150, 'tire': 1151, 'smile': 1152, 'ground': 1153, 'bought': 1154, 'mood': 1155, 'sam': 1156, 'stone': 1157, 'cost': 1158, 'mouth': 1159, 'noir': 1160, 'agent': 1161, 'terrif': 1162, 'utterli': 1163, 'requir': 1164, 'honestli': 1165, 'sexi': 1166, 'area': 1167, 'report': 1168, 'geniu': 1169, 'humour': 1170, 'glad': 1171, 'enter': 1172, 'investig': 1173, 'serial': 1174, 'occasion': 1175, 'narr': 1176, 'passion': 1177, 'climax': 1178, 'marriag': 1179, 'industri': 1180, 'studi': 1181, 'demon': 1182, 'ship': 1183, 'nowher': 1184, 'center': 1185, 'charli': 1186, 'bear': 1187, 'loos': 1188, 'hors': 1189, 'wow': 1190, 'hang': 1191, 'graphic': 1192, 'giant': 1193, 'admir': 1194, 'send': 1195, 'damn': 1196, 'loud': 1197, 'nake': 1198, 'profession': 1199, 'subtl': 1200, 'rel': 1201, 'blow': 1202, 'bottom': 1203, 'insult': 1204, 'batman': 1205, 'r': 1206, 'doubl': 1207, 'boyfriend': 1208, 'kelli': 1209, 'initi': 1210, 'frame': 1211, 'gem': 1212, 'opera': 1213, 'cinemat': 1214, 'challeng': 1215, 'affect': 1216, 'drawn': 1217, 'church': 1218, 'j': 1219, 'evid': 1220, 'seek': 1221, 'l': 1222, 'nightmar': 1223, 'fulli': 1224, 'conflict': 1225, 'essenti': 1226, 'arm': 1227, 'wind': 1228, 'grace': 1229, 'christoph': 1230, 'henri': 1231, 'assum': 1232, 'narrat': 1233, 'witch': 1234, 'hunt': 1235, 'push': 1236, 'wise': 1237, 'chri': 1238, 'nomin': 1239, 'repres': 1240, 'month': 1241, 'hide': 1242, 'sceneri': 1243, 'affair': 1244, 'avail': 1245, 'thu': 1246, 'justic': 1247, 'bond': 1248, 'smart': 1249, 'outstand': 1250, 'flashback': 1251, 'interview': 1252, 'presenc': 1253, 'constantli': 1254, 'satisfi': 1255, 'bed': 1256, 'central': 1257, 'sell': 1258, 'content': 1259, 'iron': 1260, 'gag': 1261, 'everybodi': 1262, 'slowli': 1263, 'hotel': 1264, 'hire': 1265, 'system': 1266, 'thrown': 1267, 'hey': 1268, 'adam': 1269, 'individu': 1270, 'charl': 1271, 'mediocr': 1272, 'jone': 1273, 'allen': 1274, 'lesson': 1275, 'billi': 1276, 'ray': 1277, 'cameo': 1278, 'photographi': 1279, 'pari': 1280, 'fellow': 1281, 'strike': 1282, 'brief': 1283, 'absurd': 1284, 'rise': 1285, 'independ': 1286, 'neg': 1287, 'impact': 1288, 'phone': 1289, 'ill': 1290, 'born': 1291, 'model': 1292, 'angl': 1293, 'spoil': 1294, 'fresh': 1295, 'likabl': 1296, 'abus': 1297, 'discuss': 1298, 'hill': 1299, 'ahead': 1300, 'sight': 1301, 'photograph': 1302, 'sent': 1303, 'blame': 1304, 'occur': 1305, 'logic': 1306, 'shine': 1307, 'mainli': 1308, 'bruce': 1309, 'skip': 1310, 'commerci': 1311, 'forev': 1312, 'held': 1313, 'surround': 1314, 'teacher': 1315, 'segment': 1316, 'zero': 1317, 'blond': 1318, 'trap': 1319, 'resembl': 1320, 'satir': 1321, 'summer': 1322, 'queen': 1323, 'fool': 1324, 'ball': 1325, 'six': 1326, 'sub': 1327, 'twice': 1328, 'tragedi': 1329, 'reaction': 1330, 'pack': 1331, 'bomb': 1332, 'protagonist': 1333, 'will': 1334, 'hospit': 1335, 'sport': 1336, 'mile': 1337, 'jerri': 1338, 'drink': 1339, 'mom': 1340, 'trust': 1341, 'vote': 1342, 'encount': 1343, 'plane': 1344, 'current': 1345, 'program': 1346, 'station': 1347, 'al': 1348, 'martin': 1349, 'choos': 1350, 'celebr': 1351, 'join': 1352, 'favourit': 1353, 'round': 1354, 'lord': 1355, 'tragic': 1356, 'field': 1357, 'jean': 1358, 'vision': 1359, 'robot': 1360, 'tie': 1361, 'arthur': 1362, 'fortun': 1363, 'roger': 1364, 'random': 1365, 'psycholog': 1366, 'intern': 1367, 'dread': 1368, 'epic': 1369, 'prefer': 1370, 'nonsens': 1371, 'improv': 1372, 'pleasur': 1373, 'formula': 1374, 'legend': 1375, 'highlight': 1376, '11': 1377, 'tape': 1378, 'dollar': 1379, 'porn': 1380, 'thin': 1381, 'fox': 1382, 'object': 1383, 'wide': 1384, 'gorgeou': 1385, 'ugli': 1386, 'buddi': 1387, 'influenc': 1388, 'nasti': 1389, 'ii': 1390, 'prepar': 1391, 'supposedli': 1392, 'reflect': 1393, 'progress': 1394, 'warm': 1395, 'worthi': 1396, 'youth': 1397, 'latter': 1398, 'unusu': 1399, 'length': 1400, 'crash': 1401, 'shop': 1402, 'childhood': 1403, 'superior': 1404, 'seven': 1405, 'remot': 1406, 'theatr': 1407, 'funniest': 1408, 'paid': 1409, 'pilot': 1410, 'disgust': 1411, 'fell': 1412, 'convers': 1413, 'castl': 1414, 'trick': 1415, 'disast': 1416, 'rob': 1417, 'establish': 1418, 'gangster': 1419, 'mine': 1420, 'ident': 1421, 'disappear': 1422, 'heaven': 1423, 'suicid': 1424, 'tend': 1425, 'heroin': 1426, 'mask': 1427, 'singer': 1428, 'decis': 1429, 'forgotten': 1430, 'partner': 1431, 'brian': 1432, 'desert': 1433, 'recogn': 1434, 'alan': 1435, 'stuck': 1436, 'thoroughli': 1437, 'p': 1438, 'ms': 1439, 'sky': 1440, 'accur': 1441, 'replac': 1442, 'market': 1443, 'eddi': 1444, 'danni': 1445, 'clue': 1446, 'seemingli': 1447, 'andi': 1448, 'uncl': 1449, 'commentari': 1450, 'jackson': 1451, 'devil': 1452, 'that': 1453, 'pair': 1454, 'therefor': 1455, 'refus': 1456, 'ed': 1457, 'unit': 1458, 'accid': 1459, 'fault': 1460, 'fate': 1461, 'river': 1462, 'afraid': 1463, 'tune': 1464, 'russian': 1465, 'clean': 1466, 'hidden': 1467, 'stephen': 1468, 'convey': 1469, 'instanc': 1470, 'quick': 1471, 'irrit': 1472, 'test': 1473, 'captain': 1474, 'readi': 1475, 'european': 1476, 'daniel': 1477, 'insan': 1478, 'frustrat': 1479, '1950': 1480, 'rescu': 1481, 'chines': 1482, 'food': 1483, 'wed': 1484, 'angri': 1485, 'lock': 1486, 'dirti': 1487, 'joy': 1488, 'price': 1489, 'steven': 1490, 'cage': 1491, 'bland': 1492, 'rang': 1493, 'anymor': 1494, 'wooden': 1495, 'jason': 1496, 'rush': 1497, 'news': 1498, 'n': 1499, 'twenti': 1500, 'martial': 1501, '12': 1502, 'led': 1503, 'board': 1504, 'worri': 1505, 'transform': 1506, 'cgi': 1507, 'hunter': 1508, 'symbol': 1509, 'invent': 1510, 'piti': 1511, 'onto': 1512, 'sentiment': 1513, 'x': 1514, 'johnni': 1515, 'explan': 1516, 'attitud': 1517, 'process': 1518, 'awar': 1519, 'owner': 1520, 'aim': 1521, 'necessari': 1522, 'favor': 1523, 'floor': 1524, 'energi': 1525, 'target': 1526, 'opposit': 1527, 'religi': 1528, 'insight': 1529, 'chick': 1530, 'window': 1531, 'blind': 1532, 'movement': 1533, 'possess': 1534, 'comparison': 1535, 'deepli': 1536, 'research': 1537, 'mountain': 1538, 'rain': 1539, 'comed': 1540, 'whatsoev': 1541, 'grand': 1542, 'shadow': 1543, 'began': 1544, 'mid': 1545, 'bank': 1546, 'princ': 1547, 'parodi': 1548, 'friendship': 1549, 'weapon': 1550, 'taylor': 1551, 'pre': 1552, 'credibl': 1553, 'teach': 1554, 'dougla': 1555, 'flesh': 1556, 'terror': 1557, 'hint': 1558, 'bloodi': 1559, 'protect': 1560, 'marvel': 1561, 'anybodi': 1562, 'leader': 1563, 'load': 1564, 'drunk': 1565, 'accord': 1566, 'superman': 1567, 'watchabl': 1568, 'brown': 1569, 'freddi': 1570, 'appropri': 1571, 'tim': 1572, 'seat': 1573, 'jeff': 1574, 'hitler': 1575, 'charg': 1576, 'knock': 1577, 'villag': 1578, 'unknown': 1579, 'keaton': 1580, 'enemi': 1581, 'media': 1582, 'england': 1583, 'unnecessari': 1584, 'empti': 1585, 'perspect': 1586, 'buck': 1587, 'dare': 1588, 'utter': 1589, 'strength': 1590, 'wave': 1591, 'craft': 1592, 'nativ': 1593, 'correct': 1594, 'kiss': 1595, 'contrast': 1596, 'ford': 1597, 'knowledg': 1598, 'anywher': 1599, 'chill': 1600, 'distract': 1601, 'magnific': 1602, 'nazi': 1603, 'soap': 1604, 'speed': 1605, 'fred': 1606, 'breath': 1607, 'mission': 1608, 'ice': 1609, '1980': 1610, 'joan': 1611, 'crowd': 1612, 'moon': 1613, 'jr': 1614, '000': 1615, 'frighten': 1616, 'soft': 1617, 'kate': 1618, 'nick': 1619, 'dan': 1620, 'hundr': 1621, 'dick': 1622, 'somebodi': 1623, 'simon': 1624, 'radio': 1625, 'dozen': 1626, 'academi': 1627, 'loss': 1628, 'thousand': 1629, 'andrew': 1630, 'shakespear': 1631, 'vehicl': 1632, 'sum': 1633, 'account': 1634, 'root': 1635, 'quot': 1636, 'convent': 1637, 'behavior': 1638, 'leg': 1639, '1970': 1640, 'gold': 1641, 'regular': 1642, 'compet': 1643, 'pretenti': 1644, 'demand': 1645, 'worker': 1646, 'notabl': 1647, 'stretch': 1648, 'japan': 1649, 'privat': 1650, 'interpret': 1651, 'candi': 1652, 'lynch': 1653, 'explos': 1654, 'debut': 1655, 'constant': 1656, 'tarzan': 1657, 'sea': 1658, 'translat': 1659, 'prais': 1660, 'revolv': 1661, 'spi': 1662, 'jesu': 1663, 'failur': 1664, 'ass': 1665, 'sat': 1666, 'quiet': 1667, 'threaten': 1668, 'franc': 1669, 'technolog': 1670, 'punch': 1671, 'met': 1672, 'kevin': 1673, 'aid': 1674, 'higher': 1675, 'toy': 1676, 'vh': 1677, 'mike': 1678, 'interact': 1679, 'abandon': 1680, 'separ': 1681, 'bet': 1682, 'confront': 1683, 'command': 1684, 'site': 1685, 'servic': 1686, 'belong': 1687, 'recal': 1688, 'gotten': 1689, 'techniqu': 1690, 'stunt': 1691, 'foot': 1692, 'freak': 1693, 'bug': 1694, 'cabl': 1695, 'jimmi': 1696, 'african': 1697, 'fu': 1698, 'bright': 1699, 'capabl': 1700, 'stock': 1701, 'succeed': 1702, 'fat': 1703, 'presid': 1704, 'boat': 1705, 'clark': 1706, 'spanish': 1707, 'structur': 1708, 'gene': 1709, 'paper': 1710, 'kidnap': 1711, 'belief': 1712, 'whilst': 1713, 'factor': 1714, 'educ': 1715, 'bob': 1716, 'realis': 1717, 'tree': 1718, 'witti': 1719, 'attend': 1720, 'realism': 1721, 'complic': 1722, 'assist': 1723, 'finest': 1724, 'broken': 1725, 'santa': 1726, 'smoke': 1727, 'depart': 1728, 'up': 1729, 'observ': 1730, 'v': 1731, 'determin': 1732, 'lewi': 1733, 'routin': 1734, 'domin': 1735, 'hat': 1736, 'oper': 1737, 'rubbish': 1738, 'fame': 1739, 'foreign': 1740, 'advanc': 1741, 'kinda': 1742, 'safe': 1743, 'morgan': 1744, 'hook': 1745, 'lone': 1746, 'numer': 1747, 'rank': 1748, 'rose': 1749, 'shape': 1750, 'vs': 1751, 'washington': 1752, 'shallow': 1753, 'werewolf': 1754, 'civil': 1755, 'morn': 1756, 'gari': 1757, 'accomplish': 1758, 'winner': 1759, 'kong': 1760, 'ordinari': 1761, 'virtual': 1762, 'grab': 1763, 'peac': 1764, 'whenev': 1765, 'luck': 1766, 'offens': 1767, 'h': 1768, 'unfunni': 1769, 'bigger': 1770, 'welcom': 1771, 'contriv': 1772, 'patient': 1773, 'complain': 1774, 'activ': 1775, 'dimension': 1776, 'pretend': 1777, 'trek': 1778, 'con': 1779, 'flash': 1780, 'code': 1781, 'eric': 1782, 'wake': 1783, 'dri': 1784, 'lesbian': 1785, 'cain': 1786, 'statu': 1787, 'corrupt': 1788, 'guard': 1789, 'albert': 1790, 'manipul': 1791, 'dancer': 1792, 'sourc': 1793, 'context': 1794, 'speech': 1795, 'signific': 1796, 'awkward': 1797, 'gain': 1798, 'anthoni': 1799, 'sean': 1800, 'psycho': 1801, 'corni': 1802, '13': 1803, 'clip': 1804, 'advic': 1805, 'reli': 1806, 'priest': 1807, 'w': 1808, 'theatric': 1809, 'curiou': 1810, 'religion': 1811, 'addict': 1812, 'flow': 1813, 'asian': 1814, 'howard': 1815, 'skin': 1816, 'specif': 1817, 'jennif': 1818, 'secur': 1819, 'golden': 1820, 'promot': 1821, 'organ': 1822, 'luke': 1823, 'comfort': 1824, 'core': 1825, 'cash': 1826, 'lucki': 1827, 'cheat': 1828, 'lower': 1829, 'associ': 1830, 'dislik': 1831, 'devic': 1832, 'balanc': 1833, 'wing': 1834, 'contribut': 1835, 'degre': 1836, 'regret': 1837, 'spell': 1838, 'frequent': 1839, 'frankli': 1840, 'forgiv': 1841, 'print': 1842, 'sake': 1843, 'lake': 1844, 'betti': 1845, 'mass': 1846, 'thoma': 1847, 'unexpect': 1848, 'gordon': 1849, 'crack': 1850, 'categori': 1851, 'unfold': 1852, 'grown': 1853, 'invit': 1854, 'construct': 1855, 'depend': 1856, 'amateur': 1857, 'walter': 1858, 'intellectu': 1859, 'matur': 1860, 'honor': 1861, 'anna': 1862, 'grew': 1863, 'condit': 1864, 'veteran': 1865, 'sudden': 1866, 'spectacular': 1867, 'mirror': 1868, 'sole': 1869, 'gift': 1870, 'meanwhil': 1871, 'robin': 1872, 'experienc': 1873, 'demonstr': 1874, 'liner': 1875, 'card': 1876, 'overli': 1877, 'freedom': 1878, 'grip': 1879, 'colour': 1880, 'oliv': 1881, 'sheriff': 1882, 'crappi': 1883, 'subtitl': 1884, 'theori': 1885, 'circumst': 1886, 'drew': 1887, 'unabl': 1888, 'brilliantli': 1889, 'section': 1890, 'altern': 1891, 'parker': 1892, 'cook': 1893, 'laughter': 1894, 'pile': 1895, 'matt': 1896, 'sheer': 1897, 'path': 1898, 'hall': 1899, 'treatment': 1900, 'defin': 1901, 'sinatra': 1902, 'wander': 1903, 'accident': 1904, 'lawyer': 1905, 'relief': 1906, 'dragon': 1907, 'captiv': 1908, 'hank': 1909, 'halloween': 1910, 'moor': 1911, 'gratuit': 1912, 'barbara': 1913, 'broadway': 1914, 'kung': 1915, 'cowboy': 1916, 'wayn': 1917, 'k': 1918, 'unintent': 1919, 'jacki': 1920, 'wound': 1921, 'statement': 1922, 'winter': 1923, 'spoof': 1924, 'surreal': 1925, 'canadian': 1926, 'cheer': 1927, 'treasur': 1928, 'fare': 1929, 'compos': 1930, 'gonna': 1931, 'fish': 1932, 'unrealist': 1933, 'sensit': 1934, 'emerg': 1935, 'victor': 1936, 'woodi': 1937, 'ran': 1938, 'sympathet': 1939, 'driven': 1940, 'neighbor': 1941, 'menac': 1942, 'topic': 1943, 'overlook': 1944, 'authent': 1945, 'glass': 1946, 'expos': 1947, 'gross': 1948, 'handsom': 1949, 'ancient': 1950, 'chief': 1951, 'michel': 1952, 'pleasant': 1953, 'stranger': 1954, 'cinderella': 1955, 'built': 1956, 'russel': 1957, 'nevertheless': 1958, 'comedian': 1959, 'contemporari': 1960, 'feet': 1961, 'network': 1962, 'gori': 1963, 'underr': 1964, 'consider': 1965, 'blockbust': 1966, 'letter': 1967, 'earn': 1968, 'miser': 1969, 'endless': 1970, 'brook': 1971, 'switch': 1972, 'solv': 1973, 'victoria': 1974, 'virgin': 1975, 'bullet': 1976, 'convict': 1977, 'edward': 1978, 'joseph': 1979, 'scenario': 1980, '0': 1981, 'chosen': 1982, 'cynic': 1983, 'alex': 1984, 'scale': 1985, 'curs': 1986, 'sword': 1987, 'outrag': 1988, 'com': 1989, 'gut': 1990, 'uk': 1991, 'wrap': 1992, 'proper': 1993, 'driver': 1994, 'screenwrit': 1995, 'substanc': 1996, 'juli': 1997, 'monkey': 1998, 'court': 1999, 'remov': 2000, 'indic': 2001, 'par': 2002, 'bird': 2003, 'consequ': 2004, 'rental': 2005, 'advertis': 2006, 'naiv': 2007, 'loser': 2008, 'inevit': 2009, 'grave': 2010, 'roy': 2011, 'nanci': 2012, 'fatal': 2013, 'slap': 2014, 'germani': 2015, 'bridg': 2016, 'brave': 2017, 'invis': 2018, 'le': 2019, 'anger': 2020, 'provok': 2021, 'footbal': 2022, 'ador': 2023, 'loui': 2024, 'anderson': 2025, 'alcohol': 2026, 'chan': 2027, 'stumbl': 2028, 'ryan': 2029, 'professor': 2030, 'willi': 2031, 'australian': 2032, '1930': 2033, 'bat': 2034, 'assassin': 2035, 'patrick': 2036, 'sharp': 2037, 'saturday': 2038, 'ape': 2039, 'deni': 2040, 'cell': 2041, 'amateurish': 2042, 'eight': 2043, 'refresh': 2044, 'liber': 2045, 'strongli': 2046, 'trilog': 2047, 'heck': 2048, 'lousi': 2049, 'sin': 2050, 'vagu': 2051, 'justifi': 2052, 'san': 2053, 'resid': 2054, 'indi': 2055, 'defeat': 2056, 'mini': 2057, 'sympathi': 2058, 'reput': 2059, 'terrifi': 2060, 'creator': 2061, 'task': 2062, 'endur': 2063, 'expert': 2064, 'tediou': 2065, 'tabl': 2066, 'prevent': 2067, 'basebal': 2068, 'employ': 2069, 'rival': 2070, 'trial': 2071, 'offend': 2072, 'che': 2073, 'imit': 2074, 'max': 2075, 'weekend': 2076, 'dig': 2077, 'pitch': 2078, 'europ': 2079, 'beach': 2080, 'fairi': 2081, 'complaint': 2082, 'murphi': 2083, 'format': 2084, 'purchas': 2085, 'risk': 2086, 'harsh': 2087, 'titan': 2088, 'tini': 2089, 'reminisc': 2090, 'glimps': 2091, 'powel': 2092, 'bite': 2093, 'hype': 2094, 'nois': 2095, 'asleep': 2096, 'fals': 2097, 'north': 2098, 'till': 2099, 'strip': 2100, 'prime': 2101, '14': 2102, 'revel': 2103, 'africa': 2104, 'texa': 2105, 'descript': 2106, 'destruct': 2107, 'surfac': 2108, 'excess': 2109, 'inner': 2110, 'semi': 2111, 'spin': 2112, 'arrest': 2113, 'uninterest': 2114, 'sitcom': 2115, 'hitchcock': 2116, 'twin': 2117, 'massiv': 2118, 'dinosaur': 2119, 'makeup': 2120, 'controversi': 2121, 'maintain': 2122, 'argu': 2123, 'insist': 2124, 'stare': 2125, 'melodrama': 2126, 'expens': 2127, 'kim': 2128, 'reject': 2129, 'ideal': 2130, 'ludicr': 2131, 'columbo': 2132, 'nail': 2133, 'ala': 2134, 'host': 2135, 'erot': 2136, 'subplot': 2137, 'atroci': 2138, 'press': 2139, 'ga': 2140, 'forest': 2141, 'supernatur': 2142, 'presum': 2143, 'dude': 2144, 'notch': 2145, 'identifi': 2146, 'cant': 2147, 'plagu': 2148, 'closer': 2149, 'forgett': 2150, 'method': 2151, 'crude': 2152, 'guest': 2153, 'character': 2154, 'beast': 2155, 'princess': 2156, 'landscap': 2157, 'foster': 2158, 'ear': 2159, 'border': 2160, 'lion': 2161, 'bound': 2162, 'storytel': 2163, 'urban': 2164, 'accus': 2165, 'previous': 2166, 'damag': 2167, 'aunt': 2168, 'birth': 2169, 'jungl': 2170, 'pacino': 2171, 'nude': 2172, 'thirti': 2173, 'doll': 2174, 'guid': 2175, 'propaganda': 2176, 'chose': 2177, 'emma': 2178, 'jess': 2179, 'mate': 2180, 'whoever': 2181, 'warrior': 2182, 'pet': 2183, '25': 2184, 'mainstream': 2185, 'size': 2186, 'poster': 2187, 'upset': 2188, 'exact': 2189, 'deadli': 2190, 'latest': 2191, 'gritti': 2192, 'friday': 2193, 'cooper': 2194, 'merit': 2195, 'citizen': 2196, 'contact': 2197, 'sun': 2198, 'warner': 2199, 'buff': 2200, 'corps': 2201, 'rough': 2202, '1990': 2203, 'contest': 2204, 'ton': 2205, 'wilson': 2206, 'settl': 2207, 'blend': 2208, 'popul': 2209, 'environ': 2210, 'rat': 2211, 'overcom': 2212, 'widow': 2213, 'select': 2214, 'pitt': 2215, 'mgm': 2216, 'bu': 2217, 'alic': 2218, 'metal': 2219, 'lift': 2220, 'particip': 2221, 'guilti': 2222, 'revolut': 2223, 'ted': 2224, 'link': 2225, 'corner': 2226, 'johnson': 2227, 'prostitut': 2228, 'afternoon': 2229, 'accompani': 2230, 'exagger': 2231, 'corpor': 2232, 'moron': 2233, '1960': 2234, 'matrix': 2235, 'friendli': 2236, 'multipl': 2237, 'hood': 2238, 'holm': 2239, 'doom': 2240, 'instal': 2241, 'leagu': 2242, 'clair': 2243, 'sincer': 2244, 'advis': 2245, 'string': 2246, 'aka': 2247, 'irish': 2248, 'campi': 2249, 'sunday': 2250, 'examin': 2251, 'junk': 2252, 'grim': 2253, 'defend': 2254, 'hip': 2255, 'blah': 2256, 'lugosi': 2257, 'shake': 2258, 'shut': 2259, 'tight': 2260, 'icon': 2261, 'varieti': 2262, 'confid': 2263, 'rachel': 2264, 'pro': 2265, 'medic': 2266, 'jaw': 2267, 'sullivan': 2268, 'directli': 2269, 'attach': 2270, 'denni': 2271, 'goal': 2272, 'mexican': 2273, 'terrorist': 2274, 'dean': 2275, 'truck': 2276, 'sentenc': 2277, 'prior': 2278, 'courag': 2279, 'legendari': 2280, 'sarah': 2281, 'breast': 2282, 'vietnam': 2283, 'duke': 2284, 'bourn': 2285, 'split': 2286, 'un': 2287, 'entri': 2288, 'donald': 2289, 'nose': 2290, 'proceed': 2291, 'behav': 2292, 'hong': 2293, 'yell': 2294, 'unconvinc': 2295, 'borrow': 2296, 'gather': 2297, 'forth': 2298, 'buri': 2299, 'swim': 2300, 'crush': 2301, 'jerk': 2302, 'everywher': 2303, 'concentr': 2304, 'lifetim': 2305, 'confess': 2306, 'stolen': 2307, 'pan': 2308, 'turkey': 2309, 'deliveri': 2310, 'lip': 2311, 'spite': 2312, 'julia': 2313, 'california': 2314, 'quest': 2315, 'freeman': 2316, 'offici': 2317, 'reward': 2318, 'china': 2319, 'flight': 2320, 'proud': 2321, 'downright': 2322, 'hoffman': 2323, 'betray': 2324, 'worthwhil': 2325, 'fabul': 2326, 'fade': 2327, 'encourag': 2328, 'lazi': 2329, 'sink': 2330, 'jon': 2331, 'sir': 2332, 'inept': 2333, 'jail': 2334, 'notori': 2335, 'teeth': 2336, 'retard': 2337, 'bell': 2338, 'shower': 2339, 'relev': 2340, 'survivor': 2341, 'imageri': 2342, 'branagh': 2343, 'cousin': 2344, 'storm': 2345, 'susan': 2346, 'lisa': 2347, 'bag': 2348, 'trade': 2349, 'quirki': 2350, 'facial': 2351, 'alright': 2352, 'toler': 2353, 'hugh': 2354, 'bride': 2355, 'finger': 2356, 'tremend': 2357, 'stab': 2358, 'summari': 2359, 'mexico': 2360, 'shark': 2361, 'blown': 2362, 'ha': 2363, 'bitter': 2364, 'hyster': 2365, 'pose': 2366, 'von': 2367, 'christ': 2368, 'afterward': 2369, 'ned': 2370, 'bone': 2371, 'address': 2372, 'scheme': 2373, 'cruel': 2374, 'ron': 2375, 'larri': 2376, 'feed': 2377, 'pursu': 2378, 'screw': 2379, 'tour': 2380, 'swear': 2381, 'thumb': 2382, 'beg': 2383, 'snake': 2384, 'distinct': 2385, 'traci': 2386, 'chair': 2387, 'photo': 2388, 'occas': 2389, 'obscur': 2390, 'raw': 2391, 'stomach': 2392, 'mechan': 2393, 'sidney': 2394, 'resist': 2395, 'heavili': 2396, 'argument': 2397, 'hardi': 2398, 'southern': 2399, 'cabin': 2400, 'chain': 2401, 'necessarili': 2402, 'render': 2403, 'gruesom': 2404, 'holiday': 2405, 'indulg': 2406, 'philip': 2407, 'satan': 2408, 'racist': 2409, 'india': 2410, 'understood': 2411, 'fourth': 2412, 'stalk': 2413, 'lay': 2414, 'belov': 2415, 'integr': 2416, 'outfit': 2417, 'forgot': 2418, 'obnoxi': 2419, 'pregnant': 2420, 'tongu': 2421, 'midnight': 2422, 'garden': 2423, 'magazin': 2424, 'deeper': 2425, 'ticket': 2426, 'slapstick': 2427, '17': 2428, 'inhabit': 2429, 'restor': 2430, 'carol': 2431, 'shoe': 2432, 'brad': 2433, 'devot': 2434, 'lincoln': 2435, 'incid': 2436, 'divorc': 2437, 'underground': 2438, 'anticip': 2439, 'sandler': 2440, 'elizabeth': 2441, 'maria': 2442, 'benefit': 2443, 'guarante': 2444, 'disbelief': 2445, 'lili': 2446, 'capit': 2447, 'cring': 2448, 'greater': 2449, 'mildli': 2450, 'princip': 2451, 'bbc': 2452, 'amazingli': 2453, 'slave': 2454, 'creation': 2455, 'explod': 2456, 'lesli': 2457, 'introduct': 2458, 'halfway': 2459, 'extraordinari': 2460, 'funnier': 2461, 'transfer': 2462, 'extent': 2463, 'punish': 2464, 'tap': 2465, 'advantag': 2466, 'enhanc': 2467, 'wreck': 2468, 'overwhelm': 2469, 'text': 2470, 'jessica': 2471, 'error': 2472, 'dynam': 2473, 'deliber': 2474, 'east': 2475, 'preview': 2476, 'lo': 2477, 'horrif': 2478, 'lane': 2479, 'plant': 2480, 'homosexu': 2481, 'vacat': 2482, 'miller': 2483, 'sophist': 2484, 'ensu': 2485, 'basi': 2486, 'appli': 2487, '2000': 2488, 'vincent': 2489, 'miscast': 2490, 'sleazi': 2491, 'via': 2492, 'elev': 2493, 'spoken': 2494, 'extend': 2495, 'reed': 2496, 'measur': 2497, 'mansion': 2498, 'bollywood': 2499, 'steel': 2500, 'uncomfort': 2501, 'daili': 2502, 'stanley': 2503, 'overact': 2504, 'alter': 2505, 'beer': 2506, 'fix': 2507, 'mous': 2508, 'assign': 2509, 'conceiv': 2510, 'breathtak': 2511, 'dentist': 2512, 'hippi': 2513, 'blair': 2514, 'cathol': 2515, 'goofi': 2516, 'savag': 2517, 'melt': 2518, 'sacrific': 2519, 'properli': 2520, 'subsequ': 2521, 'nowaday': 2522, 'oppos': 2523, 'burt': 2524, 'succe': 2525, 'inspector': 2526, 'everyday': 2527, 'carpent': 2528, 'massacr': 2529, 'neck': 2530, 'circl': 2531, 'block': 2532, 'laura': 2533, 'portrait': 2534, 'christi': 2535, 'fallen': 2536, 'concert': 2537, 'pool': 2538, 'access': 2539, 'grey': 2540, 'seagal': 2541, 'lesser': 2542, 'fay': 2543, 'mob': 2544, 'sinist': 2545, 'jake': 2546, 'competit': 2547, 'isol': 2548, 'usa': 2549, 'chees': 2550, 'react': 2551, 'jewish': 2552, 'relax': 2553, 'lyric': 2554, 'stink': 2555, 'immens': 2556, 'suitabl': 2557, 'nonetheless': 2558, 'creep': 2559, 'appal': 2560, 'chop': 2561, 'ironi': 2562, 'spiritu': 2563, 'nine': 2564, '2006': 2565, 'nut': 2566, 'retir': 2567, 'rage': 2568, 'user': 2569, 'showcas': 2570, 'adopt': 2571, 'spring': 2572, 'luci': 2573, 'sold': 2574, 'navi': 2575, 'reduc': 2576, 'needless': 2577, 'shirt': 2578, 'franchis': 2579, 'nurs': 2580, 'jay': 2581, 'per': 2582, 'stanwyck': 2583, 'zone': 2584, 'bulli': 2585, 'bath': 2586, 'uninspir': 2587, 'digit': 2588, 'asham': 2589, 'upper': 2590, '2001': 2591, 'amongst': 2592, '1940': 2593, 'sutherland': 2594, 'oddli': 2595, 'broadcast': 2596, 'illustr': 2597, 'laid': 2598, 'stylish': 2599, 'aspir': 2600, 'fulfil': 2601, 'disguis': 2602, 'baker': 2603, 'brando': 2604, 'throat': 2605, 'impli': 2606, 'em': 2607, 'wanna': 2608, '18': 2609, 'pound': 2610, 'pride': 2611, 'endear': 2612, 'nobl': 2613, 'neighborhood': 2614, 'wwii': 2615, 'thief': 2616, 'bo': 2617, 'coher': 2618, 'prop': 2619, 'albeit': 2620, 'bett': 2621, 'cinematograph': 2622, 'tens': 2623, 'diseas': 2624, 'distribut': 2625, '16': 2626, 'dinner': 2627, 'shoulder': 2628, 'shift': 2629, 'dawn': 2630, 'rochest': 2631, 'function': 2632, 'forti': 2633, 'contract': 2634, 'wash': 2635, 'snow': 2636, 'shout': 2637, 'rebel': 2638, 'surf': 2639, 'silenc': 2640, 'knife': 2641, 'poignant': 2642, 'matthau': 2643, 'eeri': 2644, 'instinct': 2645, 'silver': 2646, 'henc': 2647, 'horrend': 2648, 'cancel': 2649, 'mindless': 2650, 'heat': 2651, 'height': 2652, 'derek': 2653, 'cannib': 2654, 'internet': 2655, 'proof': 2656, 'duti': 2657, 'elvira': 2658, 'reunion': 2659, 'chuck': 2660, 'widmark': 2661, 'neat': 2662, 'incoher': 2663, 'innov': 2664, 'repetit': 2665, 'absorb': 2666, 'alik': 2667, 'spielberg': 2668, 'musician': 2669, 'mill': 2670, 'torn': 2671, 'elvi': 2672, 'glori': 2673, 'etern': 2674, 'premier': 2675, 'greatli': 2676, 'pie': 2677, 'trite': 2678, 'crisi': 2679, 'wealthi': 2680, 'announc': 2681, 'fbi': 2682, 'racism': 2683, 'redempt': 2684, 'nelson': 2685, 'lovabl': 2686, 'infam': 2687, 'horrifi': 2688, 'burton': 2689, 'britain': 2690, 'itali': 2691, 'bang': 2692, 'precis': 2693, 'blank': 2694, 'diamond': 2695, 'homag': 2696, 'dedic': 2697, 'parallel': 2698, 'helen': 2699, 'happili': 2700, 'flop': 2701, 'chaplin': 2702, 'resolut': 2703, 'hammer': 2704, 'wilder': 2705, 'ensembl': 2706, 'pat': 2707, 'streisand': 2708, 'oil': 2709, 'broke': 2710, 'carter': 2711, 'conclud': 2712, 'mar': 2713, 'st': 2714, 'disagre': 2715, 'plastic': 2716, 'factori': 2717, 'triumph': 2718, 'cube': 2719, 'rocket': 2720, 'bush': 2721, 'chuckl': 2722, 'own': 2723, 'row': 2724, 'fighter': 2725, 'vega': 2726, 'climb': 2727, 'weight': 2728, 'march': 2729, 'boot': 2730, 'lust': 2731, 'sensibl': 2732, 'thug': 2733, 'kurt': 2734, 'unforgett': 2735, 'spare': 2736, 'wherea': 2737, 'dane': 2738, 'enorm': 2739, 'luca': 2740, 'dump': 2741, 'mst3k': 2742, 'meaning': 2743, 'fifti': 2744, 'butt': 2745, 'engin': 2746, 'adequ': 2747, 'stress': 2748, 'dear': 2749, 'caricatur': 2750, 'difficulti': 2751, 'threat': 2752, 'bobbi': 2753, 'arnold': 2754, 'brand': 2755, 'rap': 2756, 'karloff': 2757, 'swing': 2758, 'homeless': 2759, 'fest': 2760, 'ego': 2761, 'secretari': 2762, 'journalist': 2763, 'arrog': 2764, 'hamlet': 2765, 'polish': 2766, 'elabor': 2767, 'flynn': 2768, 'ralph': 2769, 'barri': 2770, 'induc': 2771, 'puppet': 2772, 'grate': 2773, 'arrang': 2774, 'resort': 2775, 'conspiraci': 2776, 'tool': 2777, 'unbear': 2778, 'spike': 2779, 'fanci': 2780, 'float': 2781, 'simpson': 2782, 'exercis': 2783, 'tribut': 2784, 'cruis': 2785, 'guilt': 2786, 'basement': 2787, 'pig': 2788, 'choreograph': 2789, 'phillip': 2790, 'boll': 2791, 'muppet': 2792, 'babe': 2793, 'item': 2794, 'ward': 2795, 'medium': 2796, 'fianc': 2797, 'tower': 2798, 'scarecrow': 2799, 'puzzl': 2800, 'korean': 2801, 'slip': 2802, 'stan': 2803, 'layer': 2804, 'document': 2805, 'editor': 2806, 'toilet': 2807, '24': 2808, 'ham': 2809, 'file': 2810, 'librari': 2811, 'assur': 2812, 'larger': 2813, 'inexplic': 2814, 'transit': 2815, 'catherin': 2816, 'spark': 2817, 'glover': 2818, 'persona': 2819, 'denzel': 2820, 'minim': 2821, 'superfici': 2822, 'territori': 2823, 'doc': 2824, 'orient': 2825, 'portion': 2826, 'philosoph': 2827, 'slaughter': 2828, 'financi': 2829, 'wolf': 2830, 'walken': 2831, 'sneak': 2832, 'jeremi': 2833, 'dorothi': 2834, 'shi': 2835, 'jet': 2836, 'owe': 2837, 'boredom': 2838, 'curti': 2839, 'pg': 2840, 'ban': 2841, 'backdrop': 2842, 'metaphor': 2843, 'hudson': 2844, 'whale': 2845, 'multi': 2846, 'eleph': 2847, 'profound': 2848, 'cusack': 2849, 'ambigu': 2850, 'notion': 2851, 'elsewher': 2852, 'union': 2853, 'ultra': 2854, 'viru': 2855, 'stiff': 2856, 'gadget': 2857, 'implaus': 2858, 'birthday': 2859, 'hack': 2860, '2005': 2861, 'rave': 2862, 'afford': 2863, 'poison': 2864, 'urg': 2865, 'newspap': 2866, 'squar': 2867, 'eva': 2868, 'hawk': 2869, 'slight': 2870, 'superhero': 2871, 'canada': 2872, 'distanc': 2873, 'reader': 2874, 'pad': 2875, 'eastwood': 2876, 'disc': 2877, 'bibl': 2878, 'deriv': 2879, '1st': 2880, 'lloyd': 2881, 'cure': 2882, 'sadist': 2883, 'skit': 2884, 'button': 2885, 'spread': 2886, 'restaur': 2887, 'montag': 2888, 'huh': 2889, 'essenc': 2890, 'heston': 2891, 'health': 2892, 'charisma': 2893, 'drown': 2894, 'godfath': 2895, 'estat': 2896, 'fetch': 2897, 'lab': 2898, 'dealt': 2899, 'invest': 2900, 'maniac': 2901, 'gradual': 2902, 'peak': 2903, 'companion': 2904, 'muslim': 2905, 'scoobi': 2906, 'kane': 2907, 'countless': 2908, 'gothic': 2909, 'cup': 2910, 'alli': 2911, 'ritter': 2912, 'tea': 2913, 'subtleti': 2914, 'miik': 2915, 'servant': 2916, 'salli': 2917, 'electr': 2918, 'briefli': 2919, 'charismat': 2920, 'heroic': 2921, 'elect': 2922, 'iii': 2923, 'nuanc': 2924, 'resourc': 2925, 'grandmoth': 2926, 'toss': 2927, 'admittedli': 2928, 'tender': 2929, 'ingredi': 2930, 'wannab': 2931, 'bud': 2932, 'reel': 2933, 'neil': 2934, 'cole': 2935, 'pit': 2936, 'stronger': 2937, 'poverti': 2938, 'kubrick': 2939, 'mild': 2940, 'mafia': 2941, 'punk': 2942, 'reev': 2943, 'carrey': 2944, 'gate': 2945, 'stood': 2946, 'label': 2947, 'pauli': 2948, 'shall': 2949, 'dawson': 2950, 'useless': 2951, 'updat': 2952, 'tag': 2953, 'outcom': 2954, 'smooth': 2955, 'astair': 2956, 'smash': 2957, 'cox': 2958, 'assault': 2959, 'burst': 2960, 'easier': 2961, 'cardboard': 2962, 'ian': 2963, 'bakshi': 2964, 'fond': 2965, 'terri': 2966, 'qualifi': 2967, 'coincid': 2968, 'vari': 2969, 'sketch': 2970, 'exchang': 2971, 'rex': 2972, 'divers': 2973, '2002': 2974, 'increasingli': 2975, 'melodramat': 2976, 'resolv': 2977, 'fist': 2978, 'samurai': 2979, 'vulner': 2980, 'tame': 2981, 'templ': 2982, 'insert': 2983, 'luckili': 2984, 'blast': 2985, 'scratch': 2986, 'suspend': 2987, 'be': 2988, 'reynold': 2989, 'conveni': 2990, 'brillianc': 2991, 'gotta': 2992, 'farm': 2993, 'strictli': 2994, 'coach': 2995, 'walker': 2996, 'fisher': 2997, 'seventi': 2998, 'jami': 2999, 'nuclear': 3000, 'meat': 3001, 'ambiti': 3002, 'soprano': 3003, 'matthew': 3004, 'hamilton': 3005, 'pin': 3006, 'discoveri': 3007, 'closet': 3008, 'ninja': 3009, 'worthless': 3010, 'butcher': 3011, 'revers': 3012, 'eccentr': 3013, 'recreat': 3014, 'cave': 3015, 'clock': 3016, 'empir': 3017, 'instantli': 3018, 'spooki': 3019, 'monk': 3020, 'convolut': 3021, 'timeless': 3022, 'struck': 3023, 'kudo': 3024, 'brosnan': 3025, 'grasp': 3026, 'joey': 3027, 'declar': 3028, 'fifteen': 3029, 'inconsist': 3030, 'selfish': 3031, 'evok': 3032, 'miracl': 3033, 'seller': 3034, 'bleak': 3035, 'sloppi': 3036, 'eighti': 3037, 'communist': 3038, 'mitchel': 3039, 'importantli': 3040, 'cliff': 3041, 'sidekick': 3042, 'clown': 3043, 'pal': 3044, 'partli': 3045, 'wipe': 3046, 'gray': 3047, 'norman': 3048, 'chew': 3049, 'enthusiast': 3050, 'destin': 3051, 'australia': 3052, 'debat': 3053, 'flawless': 3054, 'psychiatrist': 3055, 'lifestyl': 3056, 'piano': 3057, 'cheek': 3058, 'stoog': 3059, 'aforement': 3060, 'superbl': 3061, 'websit': 3062, 'ho': 3063, 'farc': 3064, 'seed': 3065, '45': 3066, 'anni': 3067, 'regardless': 3068, 'dire': 3069, 'kitchen': 3070, 'bash': 3071, 'wrestl': 3072, 'emili': 3073, 'drivel': 3074, 'soviet': 3075, 'slice': 3076, 'wick': 3077, 'dash': 3078, 'pressur': 3079, 'directori': 3080, 'abc': 3081, 'splatter': 3082, 'incompet': 3083, 'akshay': 3084, 'glow': 3085, 'prize': 3086, 'distant': 3087, 'seduc': 3088, 'flower': 3089, 'recov': 3090, 'doo': 3091, 'cameron': 3092, 'chapter': 3093, 'helicopt': 3094, 'suppli': 3095, 'mann': 3096, 'artifici': 3097, 'jar': 3098, 'blob': 3099, 'ken': 3100, 'cia': 3101, 'curios': 3102, 'dave': 3103, 'boil': 3104, 'judi': 3105, 'increas': 3106, 'pleasantli': 3107, 'beaten': 3108, 'duo': 3109, 'cagney': 3110, 'lou': 3111, 'turner': 3112, 'ellen': 3113, 'craig': 3114, 'drunken': 3115, 'web': 3116, 'splendid': 3117, 'goldberg': 3118, 'eleg': 3119, 'craven': 3120, 'psychot': 3121, 'francisco': 3122, 'ranger': 3123, 'panic': 3124, 'laurel': 3125, 'glenn': 3126, 'combat': 3127, 'perri': 3128, 'favour': 3129, 'hop': 3130, 'modesti': 3131, 'alexand': 3132, 'plausibl': 3133, 'wizard': 3134, 'fx': 3135, '20th': 3136, 'falk': 3137, 'shortli': 3138, 'flip': 3139, 'greek': 3140, 'hatr': 3141, 'gentl': 3142, 'gandhi': 3143, 'rid': 3144, 'philosophi': 3145, 'min': 3146, 'slightest': 3147, 'graduat': 3148, 'ruth': 3149, 'futurist': 3150, 'lend': 3151, 'unpleas': 3152, 'fund': 3153, 'legal': 3154, 'dracula': 3155, 'ocean': 3156, 'holi': 3157, 'tall': 3158, 'knight': 3159, 'we': 3160, 'felix': 3161, 'preciou': 3162, 'manhattan': 3163, 'harm': 3164, 'jealou': 3165, 'bless': 3166, 'mock': 3167, 'reviv': 3168, 'digniti': 3169, 'thread': 3170, 'giallo': 3171, 'explicit': 3172, 'nod': 3173, 'overdon': 3174, 'scientif': 3175, 'childish': 3176, 'ami': 3177, 'tank': 3178, 'forbidden': 3179, 'verhoeven': 3180, 'unwatch': 3181, 'awe': 3182, 'fever': 3183, 'elderli': 3184, '99': 3185, 'yesterday': 3186, '2004': 3187, 'margaret': 3188, 'torment': 3189, 'broad': 3190, 'eve': 3191, 'awaken': 3192, 'repeatedli': 3193, 'pirat': 3194, 'thick': 3195, 'nerv': 3196, 'mel': 3197, 'kay': 3198, 'automat': 3199, 'ah': 3200, 'stiller': 3201, 'royal': 3202, 'rivet': 3203, 'custom': 3204, 'bin': 3205, 'publish': 3206, 'launch': 3207, 'timothi': 3208, 'griffith': 3209, 'uniform': 3210, 'romero': 3211, 'absenc': 3212, 'eas': 3213, 'politician': 3214, 'roman': 3215, 'lean': 3216, 'ambit': 3217, 'acclaim': 3218, 'purpl': 3219, 'stinker': 3220, 'transport': 3221, 'warren': 3222, 'sunshin': 3223, 'gabriel': 3224, 'bathroom': 3225, 'homicid': 3226, 'pierc': 3227, 'wallac': 3228, 'phrase': 3229, 'darker': 3230, 'crook': 3231, 'pulp': 3232, 'antic': 3233, 'termin': 3234, 'foul': 3235, 'tomato': 3236, 'album': 3237, 'horrid': 3238, 'hollow': 3239, 'choreographi': 3240, 'viciou': 3241, '2003': 3242, 'contrari': 3243, 'rambo': 3244, 'kenneth': 3245, 'juvenil': 3246, 'sixti': 3247, 'li': 3248, 'pray': 3249, 'packag': 3250, 'awak': 3251, 'marin': 3252, 'brazil': 3253, 'karen': 3254, 'revolutionari': 3255, 'evolv': 3256, 'ought': 3257, 'q': 3258, 'coloni': 3259, 'donna': 3260, 'saint': 3261, 'eyr': 3262, 'prom': 3263, 'blade': 3264, 'option': 3265, 'mildr': 3266, 'twelv': 3267, 'dose': 3268, 'conserv': 3269, 'ireland': 3270, 'boast': 3271, 'beatti': 3272, 'defi': 3273, 'candid': 3274, 'kapoor': 3275, 'overr': 3276, 'mummi': 3277, 'stole': 3278, 'ramon': 3279, 'nerd': 3280, 'jazz': 3281, 'confirm': 3282, 'funer': 3283, 'fulci': 3284, 'flame': 3285, 'protest': 3286, 'kirk': 3287, 'natali': 3288, 'collabor': 3289, 'trio': 3290, 'astonish': 3291, 'detract': 3292, 'altman': 3293, 'global': 3294, 'leap': 3295, 'whip': 3296, 'mystic': 3297, 'shade': 3298, 'yellow': 3299, 'nicholson': 3300, 'delici': 3301, 'racial': 3302, 'bull': 3303, 'tommi': 3304, 'enterpris': 3305, 'bottl': 3306, 'audio': 3307, 'spit': 3308, 'destini': 3309, 'blake': 3310, 'vivid': 3311, 'fonda': 3312, 'visibl': 3313, 'threw': 3314, 'adolesc': 3315, 'pseudo': 3316, 'meaningless': 3317, 'staff': 3318, 'reunit': 3319, 'enchant': 3320, 'bedroom': 3321, 'merci': 3322, 'todd': 3323, 'inherit': 3324, 'swedish': 3325, 'popcorn': 3326, 'neo': 3327, 'altogeth': 3328, 'harder': 3329, 'lawrenc': 3330, 'befriend': 3331, 'respond': 3332, 'uneven': 3333, 'reserv': 3334, 'moodi': 3335, 'bust': 3336, 'madonna': 3337, 'fanat': 3338, 'kennedi': 3339, 'voight': 3340, 'decor': 3341, 'leonard': 3342, 'ruthless': 3343, 'wire': 3344, 'suspici': 3345, 'await': 3346, 'atlanti': 3347, 'jew': 3348, 'tip': 3349, 'exhibit': 3350, 'edi': 3351, 'roommat': 3352, 'synopsi': 3353, 'crocodil': 3354, 'lemmon': 3355, 'holli': 3356, 'abysm': 3357, 'rural': 3358, 'bargain': 3359, 'garner': 3360, 'ventur': 3361, 'incident': 3362, 'audit': 3363, 'centr': 3364, 'clint': 3365, 'dimens': 3366, 'unsettl': 3367, 'chao': 3368, 'carl': 3369, '2007': 3370, 'bold': 3371, 'voyag': 3372, 'clumsi': 3373, 'bradi': 3374, 'palma': 3375, 'immigr': 3376, 'versu': 3377, 'characterist': 3378, 'troop': 3379, 'poetic': 3380, 'cuba': 3381, 'neglect': 3382, 'imperson': 3383, 'echo': 3384, 'lit': 3385, '2nd': 3386, 'elimin': 3387, 'daddi': 3388, 'nearbi': 3389, 'humili': 3390, 'cd': 3391, 'wealth': 3392, 'acknowledg': 3393, 'cari': 3394, 'tiger': 3395, 'trail': 3396, 'hart': 3397, 'ant': 3398, 'mall': 3399, 'timon': 3400, 'marshal': 3401, 'prejudic': 3402, 'collaps': 3403, 'pun': 3404, 'domest': 3405, 'infect': 3406, 'repuls': 3407, 'jeffrey': 3408, 'mickey': 3409, 'solo': 3410, 'celluloid': 3411, 'paus': 3412, 'mistaken': 3413, 'saga': 3414, 'homer': 3415, 'chest': 3416, 'pant': 3417, 'leon': 3418, 'inappropri': 3419, 'sore': 3420, 'coffe': 3421, 'ginger': 3422, 'interrupt': 3423, 'coat': 3424, 'harvey': 3425, 'promin': 3426, '1996': 3427, 'inan': 3428, 'apolog': 3429, 'tribe': 3430, 'undoubtedli': 3431, 'hbo': 3432, 'gear': 3433, 'olivi': 3434, 'assembl': 3435, 'cake': 3436, 'milk': 3437, 'equip': 3438, 'exot': 3439, 'embrac': 3440, 'solut': 3441, 'primari': 3442, 'vulgar': 3443, 'consum': 3444, 'jenni': 3445, 'colleagu': 3446, 'trace': 3447, 'furthermor': 3448, 'devast': 3449, 'pot': 3450, 'pen': 3451, 'humbl': 3452, 'airplan': 3453, 'instant': 3454, 'florida': 3455, 'colonel': 3456, 'institut': 3457, 'highest': 3458, 'maggi': 3459, 'brooklyn': 3460, 'aveng': 3461, 'retain': 3462, 'polanski': 3463, 'smaller': 3464, 'wive': 3465, 'illog': 3466, 'dutch': 3467, 'descend': 3468, 'disabl': 3469, 'gender': 3470, 'sale': 3471, 'principl': 3472, 'rick': 3473, 'linda': 3474, 'bowl': 3475, '3rd': 3476, 'outer': 3477, 'dian': 3478, '1999': 3479, 'poke': 3480, 'strain': 3481, 'ya': 3482, 'godzilla': 3483, 'cope': 3484, 'seduct': 3485, 'mixtur': 3486, 'dive': 3487, 'beneath': 3488, 'blatant': 3489, 'secondli': 3490, 'bubbl': 3491, 'primarili': 3492, 'yard': 3493, 'inferior': 3494, 'vast': 3495, 'cue': 3496, 'devoid': 3497, 'hal': 3498, 'gloriou': 3499, 'dud': 3500, 'lol': 3501, 'scope': 3502, 'glamor': 3503, 'predecessor': 3504, 'rabbit': 3505, 'gundam': 3506, 'simplist': 3507, 'z': 3508, 'alfr': 3509, 'senseless': 3510, 'myer': 3511, 'streep': 3512, 'domino': 3513, 'shelf': 3514, 'disjoint': 3515, 'breed': 3516, 'aggress': 3517, 'trademark': 3518, 'pearl': 3519, 'april': 3520, 'countrysid': 3521, 'invas': 3522, 'alert': 3523, 'casual': 3524, 'arab': 3525, 'shirley': 3526, 'hideou': 3527, 'talki': 3528, 'museum': 3529, 'et': 3530, 'grinch': 3531, 'garbo': 3532, 'hardcor': 3533, 'disgrac': 3534, 'obtain': 3535, 'mail': 3536, 'illeg': 3537, 'stellar': 3538, 'experiment': 3539, 'applaud': 3540, 'hopeless': 3541, 'robberi': 3542, 'unhappi': 3543, 'maci': 3544, 'slide': 3545, 'defens': 3546, 'robinson': 3547, 'acid': 3548, 'vanish': 3549, 'khan': 3550, 'stack': 3551, 'mayor': 3552, 'sh': 3553, 'stir': 3554, 'loyal': 3555, 'boom': 3556, 'oz': 3557, 'uwe': 3558, 'rendit': 3559, 'blew': 3560, 'tempt': 3561, 'emphasi': 3562, 'topless': 3563, 'wont': 3564, 'dismiss': 3565, 'soccer': 3566, 'craze': 3567, 'counter': 3568, 'fri': 3569, 'recruit': 3570, 'berlin': 3571, 'span': 3572, 'declin': 3573, 'hartley': 3574, 'psychic': 3575, 'incomprehens': 3576, 'spider': 3577, 'dicken': 3578, 'scroog': 3579, 'grandfath': 3580, 'diana': 3581, 'rifl': 3582, 'tenant': 3583, 'amanda': 3584, 'parad': 3585, 'bitch': 3586, 'ethnic': 3587, 'ration': 3588, 'goer': 3589, 'lumet': 3590, 'revolt': 3591, 'faster': 3592, 'trashi': 3593, 'sympath': 3594, 'woo': 3595, 'shaw': 3596, 'niro': 3597, 'riot': 3598, 'intim': 3599, 'shed': 3600, 'wet': 3601, 'porno': 3602, 'resurrect': 3603, 'justin': 3604, 'sibl': 3605, 'dealer': 3606, 'lena': 3607, 'enlighten': 3608, 'farmer': 3609, 'slick': 3610, 'rider': 3611, '00': 3612, 'partial': 3613, 'eager': 3614, 'feminist': 3615, 'ensur': 3616, 'honesti': 3617, 'patriot': 3618, 'immort': 3619, 'gap': 3620, 'region': 3621, 'steam': 3622, 'mario': 3623, 'ballet': 3624, 'wheel': 3625, 'weakest': 3626, 'wendi': 3627, 'worm': 3628, 'hesit': 3629, 'choru': 3630, 'biographi': 3631, 'jonathan': 3632, 'nephew': 3633, 'commend': 3634, 'unreal': 3635, 'andr': 3636, 'hopper': 3637, 'repress': 3638, 'sandra': 3639, 'kingdom': 3640, 'properti': 3641, 'confin': 3642, 'blunt': 3643, 'wore': 3644, 'morri': 3645, 'owen': 3646, 'sappi': 3647, 'similarli': 3648, 'composit': 3649, 'mutant': 3650, 'hung': 3651, 'snap': 3652, 'vice': 3653, 'util': 3654, 'skull': 3655, 'safeti': 3656, 'victori': 3657, 'leo': 3658, 'prequel': 3659, 'nostalg': 3660, 'psychopath': 3661, 'franco': 3662, 'charlott': 3663, 'macarthur': 3664, 'miseri': 3665, 'dust': 3666, 'tail': 3667, 'drain': 3668, 'snl': 3669, 'compens': 3670, 'compass': 3671, 'strand': 3672, 'emperor': 3673, 'bow': 3674, 'deed': 3675, 'whoopi': 3676, 'heartbreak': 3677, 'thru': 3678, 'repli': 3679, 'recycl': 3680, 'rocki': 3681, 'bergman': 3682, 'farrel': 3683, 'rambl': 3684, 'exit': 3685, 'del': 3686, 'nervou': 3687, 'kyle': 3688, 'campbel': 3689, '1972': 3690, 'tad': 3691, 'acquir': 3692, 'speci': 3693, 'hyde': 3694, 'rope': 3695, 'bonu': 3696, 'drum': 3697, 'pattern': 3698, 'bumbl': 3699, 'latin': 3700, 'despair': 3701, 'montana': 3702, 'valuabl': 3703, 'cg': 3704, 'dalton': 3705, 'orson': 3706, 'percept': 3707, 'contempl': 3708, 'radic': 3709, 'wacki': 3710, 'rotten': 3711, 'bleed': 3712, 'mistress': 3713, 'romp': 3714, 'airport': 3715, 'chess': 3716, 'pour': 3717, '35': 3718, 'olli': 3719, 'gimmick': 3720, 'roth': 3721, 'da': 3722, 'gal': 3723, 'martian': 3724, 'tonight': 3725, 'downhil': 3726, 'rapist': 3727, 'carradin': 3728, 'oppress': 3729, 'slug': 3730, 'arguabl': 3731, 'tooth': 3732, 'taught': 3733, 'pervert': 3734, 'stilt': 3735, 'champion': 3736, 'arc': 3737, 'mislead': 3738, 'pursuit': 3739, 'tackl': 3740, 'heal': 3741, 'banal': 3742, 'edgar': 3743, 'slash': 3744, 'preach': 3745, 'attorney': 3746, 'unpredict': 3747, 'pervers': 3748, '1983': 3749, 'programm': 3750, 'melodi': 3751, 'dazzl': 3752, 'shelley': 3753, 'paltrow': 3754, 'belt': 3755, 'closest': 3756, 'mesmer': 3757, 'vengeanc': 3758, 'vocal': 3759, 'uplift': 3760, 'maid': 3761, 'duval': 3762, 'franki': 3763, 'graham': 3764, 'poem': 3765, 'orang': 3766, 'plight': 3767, 'passeng': 3768, 'tiresom': 3769, 'employe': 3770, 'raymond': 3771, 'cleverli': 3772, 'chicken': 3773, 'rubi': 3774, 'virginia': 3775, 'conneri': 3776, 'sensat': 3777, 'bela': 3778, 'gambl': 3779, 'marti': 3780, 'dixon': 3781, 'clone': 3782, 'secretli': 3783, 'inject': 3784, 'tube': 3785, 'monologu': 3786, 'quarter': 3787, 'convincingli': 3788, 'paranoia': 3789, 'extens': 3790, 'profan': 3791, 'amitabh': 3792, 'swallow': 3793, 'whine': 3794, 'numb': 3795, 'engross': 3796, 'abraham': 3797, 'crystal': 3798, 'outing': 3799, 'giggl': 3800, 'mute': 3801, '1968': 3802, 'sirk': 3803, 'suffic': 3804, 'lundgren': 3805, 'yawn': 3806, 'scottish': 3807, 'volum': 3808, 'bay': 3809, 'gerard': 3810, 'pokemon': 3811, 'calm': 3812, 'climact': 3813, 'habit': 3814, 'iran': 3815, 'surpass': 3816, 'nichola': 3817, 'trend': 3818, 'linger': 3819, 'expand': 3820, 'franci': 3821, 'earl': 3822, 'lowest': 3823, 'grotesqu': 3824, 'poetri': 3825, 'fed': 3826, 'richardson': 3827, 'dispos': 3828, 'plod': 3829, 'chicago': 3830, 'profess': 3831, 'abort': 3832, 'frankenstein': 3833, 'underst': 3834, 'ethan': 3835, 'austen': 3836, 'taxi': 3837, 'meander': 3838, 'bend': 3839, 'septemb': 3840, 'im': 3841, 'backward': 3842, 'junior': 3843, 'spock': 3844, 'descent': 3845, 'waitress': 3846, 'literatur': 3847, 'dysfunct': 3848, 'instrument': 3849, 'econom': 3850, 'myth': 3851, 'catchi': 3852, 'rubber': 3853, 'der': 3854, 'tourist': 3855, 'cannon': 3856, 'household': 3857, 'stallon': 3858, 'spoke': 3859, 'simplic': 3860, 'compliment': 3861, 'greedi': 3862, 'mundan': 3863, 'lure': 3864, 'hum': 3865, 'muddl': 3866, 'sue': 3867, 'eugen': 3868, 'rant': 3869, 'nostalgia': 3870, 'firstli': 3871, 'equival': 3872, 'duck': 3873, 'eaten': 3874, 'omen': 3875, 'phoni': 3876, 'mortal': 3877, 'recognit': 3878, 'dictat': 3879, 'insur': 3880, 'stale': 3881, 'occupi': 3882, 'irrelev': 3883, 'coast': 3884, 'recognis': 3885, 'cent': 3886, 'june': 3887, 'dement': 3888, 'deaf': 3889, 'bacal': 3890, 'alongsid': 3891, 'map': 3892, 'flee': 3893, 'damon': 3894, 'mankind': 3895, 'furi': 3896, 'crucial': 3897, 'hello': 3898, 'molli': 3899, 'phantom': 3900, 'sissi': 3901, 'randi': 3902, 'lang': 3903, 'louis': 3904, 'carel': 3905, 'onlin': 3906, 'labor': 3907, 'daisi': 3908, 'loyalti': 3909, 'buffalo': 3910, 'ashley': 3911, 'lengthi': 3912, '1973': 3913, 'reign': 3914, 'damm': 3915, 'dreari': 3916, 'heel': 3917, 'freez': 3918, 'bike': 3919, 'biko': 3920, 'antwon': 3921, 'twilight': 3922, 'distinguish': 3923, 'grayson': 3924, 'newli': 3925, 'cyborg': 3926, 'bump': 3927, 'rooney': 3928, 'rude': 3929, 'blackmail': 3930, 'drake': 3931, 'likewis': 3932, 'wisdom': 3933, 'ridden': 3934, 'exposur': 3935, 'basketbal': 3936, 'boxer': 3937, 'incorpor': 3938, 'approv': 3939, 'vein': 3940, 'nineti': 3941, 'butler': 3942, 'keith': 3943, 'startl': 3944, 'baddi': 3945, 'sailor': 3946, 'provoc': 3947, 'inher': 3948, 'worn': 3949, 'unorigin': 3950, 'emphas': 3951, 'interior': 3952, 'tunnel': 3953, 'pink': 3954, 'proce': 3955, 'prey': 3956, 'chronicl': 3957, 'barrymor': 3958, 'attribut': 3959, 'analysi': 3960, 'degrad': 3961, 'meg': 3962, 'improvis': 3963, 'mighti': 3964, 'barrel': 3965, 'bunni': 3966, 'stalker': 3967, 'predat': 3968, 'fleet': 3969, 'nicol': 3970, 'elm': 3971, 'substitut': 3972, 'mormon': 3973, 'drift': 3974, 'unrel': 3975, 'condemn': 3976, 'carla': 3977, 'hypnot': 3978, 'simmon': 3979, 'er': 3980, 'millionair': 3981, 'undeni': 3982, 'belushi': 3983, 'robbin': 3984, 'indiffer': 3985, 'othello': 3986, 'walsh': 3987, 'julian': 3988, 'meyer': 3989, 'underli': 3990, 'exquisit': 3991, 'enthusiasm': 3992, 'vital': 3993, 'rukh': 3994, 'novak': 3995, 'palac': 3996, 'mtv': 3997, 'lampoon': 3998, 'disord': 3999, 'unawar': 4000, 'shove': 4001, 'marion': 4002, 'agenda': 4003, 'firm': 4004, 'edgi': 4005, 'roof': 4006, 'dolph': 4007, 'errol': 4008, 'priceless': 4009, 'reid': 4010, 'warmth': 4011, 'greed': 4012, 'watson': 4013, 'alison': 4014, 'alarm': 4015, '3d': 4016, 'hay': 4017, 'nyc': 4018, 'cassidi': 4019, 'spain': 4020, 'championship': 4021, 'gestur': 4022, 'eastern': 4023, 'what': 4024, 'distort': 4025, 'peril': 4026, 'glanc': 4027, 'thompson': 4028, 'preserv': 4029, 'unleash': 4030, 'simultan': 4031, 'randomli': 4032, 'sergeant': 4033, 'iraq': 4034, 'minimum': 4035, 'coup': 4036, 'petti': 4037, 'crown': 4038, 'drip': 4039, 'testament': 4040, 'campaign': 4041, 'valentin': 4042, 'israel': 4043, 'profit': 4044, 'orlean': 4045, 'session': 4046, 'peck': 4047, 'ponder': 4048, '1933': 4049, 'angela': 4050, 'pamela': 4051, '13th': 4052, 'beatl': 4053, 'showdown': 4054, 'nun': 4055, 'zizek': 4056, 'valley': 4057, 'regist': 4058, 'travesti': 4059, 'reson': 4060, 'gentleman': 4061, 'perpetu': 4062, 'restrain': 4063, 'cream': 4064, 'stroke': 4065, 'shootout': 4066, 'stake': 4067, 'scotland': 4068, 'cooki': 4069, 'exposit': 4070, 'bro': 4071, 'crawl': 4072, 'buster': 4073, 'realm': 4074, 'represent': 4075, 'wig': 4076, 'climat': 4077, '1984': 4078, 'calib': 4079, 'mon': 4080, 'contradict': 4081, 'unimagin': 4082, 'sabrina': 4083, 'crow': 4084, 'jan': 4085, 'din': 4086, 'han': 4087, 'brenda': 4088, 'rout': 4089, 'kurosawa': 4090, 'quinn': 4091, 'empathi': 4092, 'fido': 4093, 'miyazaki': 4094, 'femm': 4095, 'tacki': 4096, 'unseen': 4097, 'shoddi': 4098, 'unsatisfi': 4099, 'painter': 4100, 'pole': 4101, 'delic': 4102, 'perceiv': 4103, 'traumat': 4104, 'demis': 4105, 'businessman': 4106, 'meryl': 4107, 'compromis': 4108, 'mclaglen': 4109, 'derang': 4110, 'geek': 4111, '1987': 4112, 'sucker': 4113, 'passabl': 4114, 'greg': 4115, 'censor': 4116, 'warrant': 4117, 'baldwin': 4118, 'stargat': 4119, 'sammi': 4120, 'josh': 4121, 'monoton': 4122, '1997': 4123, 'abomin': 4124, 'shaki': 4125, 'soderbergh': 4126, 'distress': 4127, 'ustinov': 4128, 'wax': 4129, 'absent': 4130, 'ross': 4131, 'dana': 4132, 'crawford': 4133, 'darren': 4134, 'pretens': 4135, 'cloud': 4136, 'spacey': 4137, 'fuller': 4138, 'deceas': 4139, 'verbal': 4140, 'primit': 4141, 'fenc': 4142, 'norm': 4143, 'accuraci': 4144, 'dee': 4145, 'polici': 4146, 'click': 4147, 'reluct': 4148, 'wholli': 4149, 'furiou': 4150, 'seal': 4151, '1993': 4152, 'valid': 4153, 'jewel': 4154, 'exclus': 4155, 'fog': 4156, 'tarantino': 4157, 'uncov': 4158, 'correctli': 4159, 'deniro': 4160, 'clash': 4161, 'sid': 4162, 'austin': 4163, 'judgment': 4164, 'expedit': 4165, 'unravel': 4166, 'antonioni': 4167, 'tech': 4168, 'kumar': 4169, 'nathan': 4170, 'anchor': 4171, 'alec': 4172, 'clerk': 4173, 'trait': 4174, 'wang': 4175, 'seldom': 4176, 'enforc': 4177, 'ritual': 4178, 'patienc': 4179, 'fought': 4180, 'fabric': 4181, 'hallucin': 4182, '2008': 4183, 'sand': 4184, 'nicola': 4185, 'pocket': 4186, 'conduct': 4187, 'behold': 4188, 'tax': 4189, 'dreck': 4190, 'logan': 4191, 'roller': 4192, 'shanghai': 4193, 'malon': 4194, 'crippl': 4195, 'sunni': 4196, 'mode': 4197, 'sheet': 4198, '1995': 4199, 'debt': 4200, 'bake': 4201, 'fart': 4202, '1971': 4203, 'wretch': 4204, 'slam': 4205, '3000': 4206, 'sustain': 4207, 'temper': 4208, 'darn': 4209, 'unfair': 4210, 'joel': 4211, 'murray': 4212, 'vanc': 4213, 'outlin': 4214, 'canyon': 4215, 'fundament': 4216, 'legaci': 4217, 'sweep': 4218, 'robber': 4219, 'soup': 4220, 'divid': 4221, 'phil': 4222, 'exhaust': 4223, 'technicolor': 4224, 'bias': 4225, 'stuart': 4226, 'guitar': 4227, 'critiqu': 4228, 'tactic': 4229, 'helpless': 4230, 'rita': 4231, 'shell': 4232, 'despis': 4233, 'scriptwrit': 4234, 'stark': 4235, 'clau': 4236, 'squad': 4237, 'penni': 4238, 'pete': 4239, 'conscious': 4240, 'runner': 4241, 'schedul': 4242, 'isabel': 4243, 'preston': 4244, 'preposter': 4245, 'bridget': 4246, 'grief': 4247, 'implic': 4248, 'rear': 4249, 'bloom': 4250, 'drove': 4251, 'sniper': 4252, 'rehash': 4253, 'alley': 4254, 'newman': 4255, 'marc': 4256, 'liberti': 4257, 'delv': 4258, 'connor': 4259, 'jacket': 4260, 'propos': 4261, 'cigarett': 4262, 'passag': 4263, 'culmin': 4264, 'sugar': 4265, 'alicia': 4266, 'downey': 4267, 'agenc': 4268, 'invad': 4269, 'russia': 4270, 'consciou': 4271, 'inabl': 4272, 'gregori': 4273, 'jodi': 4274, 'lacklust': 4275, 'unexpectedli': 4276, 'restrict': 4277, 'palanc': 4278, 'flair': 4279, 'kansa': 4280, 'vomit': 4281, 'boyl': 4282, 'sentinel': 4283, 'chainsaw': 4284, 'improb': 4285, 'behaviour': 4286, 'pale': 4287, 'wrench': 4288, 'rehears': 4289, 'cap': 4290, 'foxx': 4291, 'tripe': 4292, 'asylum': 4293, 'arrow': 4294, 'vet': 4295, 'feat': 4296, 'aesthet': 4297, 'horn': 4298, '22': 4299, 'delet': 4300, 'rampag': 4301, 'ladder': 4302, '1936': 4303, 'lush': 4304, 'karl': 4305, 'bacon': 4306, 'awhil': 4307, 'yeti': 4308, 'tendenc': 4309, 'rod': 4310, 'kolchak': 4311, 'mccoy': 4312, 'sharon': 4313, 'paramount': 4314, '1978': 4315, 'hackney': 4316, 'rhythm': 4317, 'scoop': 4318, 'prank': 4319, '19th': 4320, 'aristocrat': 4321, 'hungri': 4322, '1988': 4323, 'suffici': 4324, 'conscienc': 4325, 'fright': 4326, '1920': 4327, 'rumor': 4328, 'weav': 4329, 'spice': 4330, 'filler': 4331, 'sung': 4332, 'newcom': 4333, 'shortcom': 4334, 'coaster': 4335, 'stream': 4336, 'lurk': 4337, 'wildli': 4338, 'visitor': 4339, 'suspicion': 4340, 'elit': 4341, 'paradis': 4342, 'basing': 4343, 'tasteless': 4344, 'underneath': 4345, 'el': 4346, 'tomorrow': 4347, 'globe': 4348, 'minu': 4349, 'financ': 4350, 'amazon': 4351, 'loneli': 4352, 'hulk': 4353, 'wagner': 4354, 'thunderbird': 4355, 'paxton': 4356, '75': 4357, 'dirt': 4358, 'springer': 4359, 'cancer': 4360, 'chamberlain': 4361, 'ingeni': 4362, 'abrupt': 4363, 'straightforward': 4364, 'grudg': 4365, 'rub': 4366, 'choppi': 4367, 'atroc': 4368, 'lectur': 4369, '1989': 4370, 'counterpart': 4371, 'naughti': 4372, 'couch': 4373, 'immers': 4374, 'brit': 4375, 'recogniz': 4376, 'bread': 4377, 'quietli': 4378, 'posey': 4379, 'teas': 4380, 'ram': 4381, 'entranc': 4382, 'heist': 4383, 'chavez': 4384, 'wwe': 4385, 'iv': 4386, 'impos': 4387, 'en': 4388, '1939': 4389, 'smell': 4390, 'secondari': 4391, 'leigh': 4392, 'literari': 4393, 'curli': 4394, 'hopkin': 4395, 'minist': 4396, 'worship': 4397, 'inmat': 4398, 'penn': 4399, 'tierney': 4400, 'standout': 4401, 'beverli': 4402, 'convert': 4403, 'esther': 4404, 'heartfelt': 4405, 'watcher': 4406, 'quaid': 4407, 'sublim': 4408, 'clan': 4409, 'attenborough': 4410, 'transcend': 4411, 'enthral': 4412, 'morbid': 4413, 'duel': 4414, 'nemesi': 4415, 'skeptic': 4416, 'ace': 4417, 'yearn': 4418, 'variat': 4419, 'sassi': 4420, 'moreov': 4421, 'bernard': 4422, '1986': 4423, 'misguid': 4424, 'policeman': 4425, 'missil': 4426, 'net': 4427, 'injuri': 4428, 'geni': 4429, 'ratso': 4430, 'cattl': 4431, 'nolan': 4432, 'laurenc': 4433, 'lindsay': 4434, 'entitl': 4435, 'artsi': 4436, 'hopelessli': 4437, 'graini': 4438, 'setup': 4439, 'enabl': 4440, 'bye': 4441, 'dont': 4442, 'youngest': 4443, 'kidman': 4444, 'egg': 4445, 'poe': 4446, '1979': 4447, 'uncut': 4448, 'hk': 4449, 'unexplain': 4450, 'buzz': 4451, 'reliabl': 4452, 'out': 4453, 'steadi': 4454, 'puppi': 4455, 'characteris': 4456, 'bean': 4457, 'cruelti': 4458, 'vader': 4459, 'brood': 4460, 'facil': 4461, 'tyler': 4462, 'obstacl': 4463, 'moder': 4464, 'kitti': 4465, 'rosemari': 4466, 'spiral': 4467, 'diari': 4468, 'mytholog': 4469, 'carlito': 4470, 'grin': 4471, 'baffl': 4472, 'gina': 4473, 'athlet': 4474, 'narrow': 4475, 'oblig': 4476, 'effici': 4477, 'kline': 4478, 'hammi': 4479, 'heap': 4480, '1969': 4481, 'acquaint': 4482, 'spontan': 4483, 'exterior': 4484, 'disastr': 4485, 'martha': 4486, 'despic': 4487, 'bounc': 4488, 'fuel': 4489, 'decept': 4490, 'bewar': 4491, 'clueless': 4492, 'christin': 4493, 'weather': 4494, 'underworld': 4495, 'gillian': 4496, 'patricia': 4497, 'bronson': 4498, 'sweat': 4499, 'preming': 4500, 'hain': 4501, 'niec': 4502, 'brendan': 4503, 'mermaid': 4504, 'candl': 4505, 'insipid': 4506, 'outlaw': 4507, 'circu': 4508, 'taboo': 4509, 'loath': 4510, 'injur': 4511, 'trigger': 4512, 'virtu': 4513, 'uh': 4514, 'enlist': 4515, 'viewpoint': 4516, 'angst': 4517, 'preachi': 4518, 'loi': 4519, 'mayhem': 4520, 'harmless': 4521, '19': 4522, 'sooner': 4523, 'headach': 4524, 'goof': 4525, 'suprem': 4526, 'dilemma': 4527, 'dandi': 4528, 'lester': 4529, 'housewif': 4530, 'biker': 4531, 'sleepwalk': 4532, 'tick': 4533, 'analyz': 4534, 'astound': 4535, 'shatter': 4536, 'rome': 4537, 'hepburn': 4538, 'renaiss': 4539, 'fontain': 4540, 'scar': 4541, '73': 4542, 'boston': 4543, 'guin': 4544, 'steer': 4545, 'surgeri': 4546, 'phenomenon': 4547, 'stair': 4548, 'immatur': 4549, 'oldest': 4550, 'macho': 4551, 'bent': 4552, 'hooker': 4553, 'hostag': 4554, 'corbett': 4555, 'hokey': 4556, 'contempt': 4557, 'whore': 4558, 'ebert': 4559, 'fluff': 4560, 'claustrophob': 4561, 'idol': 4562, 'overlong': 4563, 'zoom': 4564, 'intric': 4565, 'slimi': 4566, 'filth': 4567, 'foolish': 4568, 'stimul': 4569, 'glorifi': 4570, 'dish': 4571, 'amor': 4572, 'tripl': 4573, 'sox': 4574, 'dismal': 4575, 'camcord': 4576, 'redund': 4577, 'spade': 4578, 'ariel': 4579, 'cassavet': 4580, 'salt': 4581, 'scorses': 4582, 'gere': 4583, 'rhyme': 4584, 'transplant': 4585, 'harold': 4586, 'beard': 4587, 'zane': 4588, 'flirt': 4589, 'schlock': 4590, 'margin': 4591, 'shield': 4592, 'mount': 4593, 'strongest': 4594, 'muscl': 4595, 'flashi': 4596, 'spree': 4597, 'messi': 4598, 'antagonist': 4599, 'frantic': 4600, 'mutual': 4601, 'perman': 4602, 'cohen': 4603, '1981': 4604, 'corman': 4605, 'joker': 4606, 'radiat': 4607, 'dwarf': 4608, 'cow': 4609, 'cush': 4610, 'astronaut': 4611, 'widescreen': 4612, 'gasp': 4613, 'proport': 4614, 'fascist': 4615, 'obligatori': 4616, 'spinal': 4617, 'preced': 4618, '1976': 4619, 'alvin': 4620, 'faint': 4621, 'trivia': 4622, 'assert': 4623, 'conquer': 4624, 'shred': 4625, 'flag': 4626, 'down': 4627, 'nolt': 4628, 'remad': 4629, 'gabl': 4630, 'naschi': 4631, 'keen': 4632, 'resum': 4633, 'carey': 4634, 'info': 4635, 'claud': 4636, 'brush': 4637, '28': 4638, 'divin': 4639, 'danish': 4640, 'discern': 4641, 'someday': 4642, 'interestingli': 4643, 'bitten': 4644, 'departur': 4645, 'bachelor': 4646, 'mobil': 4647, 'deer': 4648, 'raj': 4649, 'boob': 4650, 'sensual': 4651, 'barn': 4652, 'ritchi': 4653, '95': 4654, 'scandal': 4655, 'instruct': 4656, 'www': 4657, 'hara': 4658, 'triangl': 4659, 'vaniti': 4660, 'neurot': 4661, 'wield': 4662, 'archiv': 4663, 'fishburn': 4664, 'inflict': 4665, 'strive': 4666, 'off': 4667, '1945': 4668, 'repris': 4669, 'persuad': 4670, 'mol': 4671, 'aborigin': 4672, 'flock': 4673, 'proclaim': 4674, 'jade': 4675, 'artwork': 4676, 'earnest': 4677, 'rot': 4678, 'parson': 4679, 'senior': 4680, 'neill': 4681, 'ish': 4682, 'submit': 4683, 'pickford': 4684, 'colin': 4685, 'cycl': 4686, 'vibrant': 4687, 'recit': 4688, 'kathryn': 4689, 'dylan': 4690, 'wendigo': 4691, 'heartwarm': 4692, 'hapless': 4693, 'miracul': 4694, 'dame': 4695, 'traffic': 4696, 'axe': 4697, 'clad': 4698, 'luka': 4699, 'fragil': 4700, 'cher': 4701, 'harrison': 4702, 'melissa': 4703, 'timberlak': 4704, 'cliffhang': 4705, 'biblic': 4706, 'dim': 4707, 'helm': 4708, 'hug': 4709, 'mobster': 4710, 'anton': 4711, 'hilar': 4712, 'frontier': 4713, 'casino': 4714, 'loretta': 4715, 'bate': 4716, 'undermin': 4717, 'pixar': 4718, 'banter': 4719, 'pacif': 4720, 'prophet': 4721, 'cb': 4722, 'carlo': 4723, 'europa': 4724, 'bondag': 4725, 'blatantli': 4726, 'foil': 4727, 'vile': 4728, 'cerebr': 4729, 'jordan': 4730, 'orphan': 4731, 'legitim': 4732, 'venom': 4733, 'uma': 4734, 'estrang': 4735, 'lucil': 4736, 'rooki': 4737, 'misfortun': 4738, 'bikini': 4739, 'token': 4740, 'mason': 4741, 'feast': 4742, 'akin': 4743, 'marlon': 4744, 'alexandr': 4745, 'illus': 4746, 'razor': 4747, 'winchest': 4748, 'shepherd': 4749, 'pc': 4750, 'antholog': 4751, 'eli': 4752, 'http': 4753, 'milo': 4754, 'electron': 4755, 'toronto': 4756, 'redneck': 4757, 'flavor': 4758, 'static': 4759, 'northern': 4760, 'seedi': 4761, 'mathieu': 4762, 'nope': 4763, 'wardrob': 4764, 'articl': 4765, 'choke': 4766, 'lui': 4767, 'holocaust': 4768, 'jo': 4769, 'vanessa': 4770, 'aris': 4771, 'trier': 4772, 'breakfast': 4773, 'isra': 4774, 'sicken': 4775, 'disregard': 4776, 'oppon': 4777, 'linear': 4778, 'turd': 4779, 'ideolog': 4780, 'glare': 4781, 'clinic': 4782, 'smack': 4783, 'wrestler': 4784, 'retriev': 4785, 'dudley': 4786, 'huston': 4787, 'feminin': 4788, 'abund': 4789, 'knightley': 4790, 'highway': 4791, 'leather': 4792, 'outdat': 4793, 'psych': 4794, 'swept': 4795, 'shorter': 4796, 'fifth': 4797, 'gilbert': 4798, 'howl': 4799, 'peer': 4800, 'charlton': 4801, 'nightclub': 4802, 'deem': 4803, 'styliz': 4804, 'gunga': 4805, 'affleck': 4806, 'cartoonish': 4807, 'ceremoni': 4808, 'magician': 4809, 'audrey': 4810, 'boyer': 4811, 'comprehend': 4812, 'frog': 4813, 'tack': 4814, 'spine': 4815, 'compris': 4816, 'bastard': 4817, 'braveheart': 4818, 'cemeteri': 4819, 'greet': 4820, 'evolut': 4821, 'snatch': 4822, 'collector': 4823, 'newer': 4824, 'phenomen': 4825, 'lifeless': 4826, 'btw': 4827, 'corn': 4828, 'monument': 4829, 'deliver': 4830, 'energet': 4831, '1994': 4832, 'lighter': 4833, 'lavish': 4834, 'bogu': 4835, 'summar': 4836, 'toe': 4837, 'client': 4838, 'spawn': 4839, 'conrad': 4840, 'potter': 4841, 'salman': 4842, 'plate': 4843, 'cuban': 4844, 'goldsworthi': 4845, '1991': 4846, 'breakdown': 4847, 'moe': 4848, 'chip': 4849, 'whack': 4850, 'boo': 4851, '4th': 4852, 'durat': 4853, 'sleaz': 4854, 'senat': 4855, 'uniformli': 4856, 'mitch': 4857, 'tara': 4858, 'einstein': 4859, 'luxuri': 4860, 'cecil': 4861, 'trauma': 4862, 'neatli': 4863, 'jare': 4864, 'creek': 4865, 'sorrow': 4866, 'embark': 4867, 'armstrong': 4868, 'occup': 4869, 'constitut': 4870, 'liu': 4871, 'pronounc': 4872, 'inaccuraci': 4873, 'spectacl': 4874, 'appl': 4875, 'firmli': 4876, 'bulk': 4877, 'nina': 4878, 'undertak': 4879, 'lex': 4880, 'wtf': 4881, 'ie': 4882, 'alleg': 4883, 'replay': 4884, 'jam': 4885, 'healthi': 4886, 'ol': 4887, 'outright': 4888, 'kent': 4889, 'capot': 4890, 'bori': 4891, 'signal': 4892, '1977': 4893, 'historian': 4894, 'randolph': 4895, 'belli': 4896, 'evelyn': 4897, 'eleven': 4898, 'jedi': 4899, 'fluid': 4900, 'mcqueen': 4901, 'clara': 4902, 'undead': 4903, '1974': 4904, 'kazan': 4905, 'gilliam': 4906, 'judd': 4907, 'jule': 4908, 'paula': 4909, 'fruit': 4910, 'groan': 4911, 'knee': 4912, 'conan': 4913, 'vain': 4914, 'ash': 4915, 'poker': 4916, 'meal': 4917, 'unsuspect': 4918, '1985': 4919, 'roar': 4920, 'pioneer': 4921, 'cape': 4922, 'bsg': 4923, 'inaccur': 4924, 'truman': 4925, 'id': 4926, 'antonio': 4927, 'porter': 4928, 'lauren': 4929, 'subtli': 4930, 'propheci': 4931, 'comprehens': 4932, 'goldblum': 4933, 'sidewalk': 4934, 'inclus': 4935, 'decapit': 4936, 'genet': 4937, 'comb': 4938, 'pepper': 4939, 'vignett': 4940, 'forgiven': 4941, 'unattract': 4942, 'lanc': 4943, 'kiddi': 4944, 'basket': 4945, 'spray': 4946, 'miami': 4947, 'rosario': 4948, 'curtain': 4949, 'walt': 4950, 'abound': 4951, 'sacrif': 4952, 'bait': 4953, 'galaxi': 4954, 'congratul': 4955, 'palm': 4956, 'mum': 4957, 'tokyo': 4958, 'blur': 4959, 'miniseri': 4960, 'carmen': 4961, 'relentless': 4962, 'aussi': 4963, 'scariest': 4964, 'asset': 4965, 'weari': 4966, 'handicap': 4967, 'spill': 4968, 'frontal': 4969, 'growth': 4970, 'masterson': 4971, 'weaker': 4972, 'orchestr': 4973, 'hackman': 4974, 'optimist': 4975, 'hostil': 4976, 'epitom': 4977, 'monti': 4978, 'vastli': 4979, 'macabr': 4980, 'modest': 4981, 'detach': 4982, 'dubiou': 4983, 'sparkl': 4984, 'jill': 4985, 'drone': 4986, 'mice': 4987, 'casper': 4988, 'profil': 4989, 'scarfac': 4990, 'substanti': 4991, 'ingrid': 4992, 'ghetto': 4993, 'bravo': 4994, 'incorrect': 4995, '21st': 4996, 'sophi': 4997, 'omin': 4998, 'assort': 4999}\n"
     ]
    }
   ],
   "source": [
    "# TODO: Use this space to determine the five most frequently appearing words in the training set.\n",
    "print(word_dict)"
   ]
  },
  {
   "cell_type": "markdown",
   "metadata": {},
   "source": [
    "### Save `word_dict`\n",
    "\n",
    "Later on when we construct an endpoint which processes a submitted review we will need to make use of the `word_dict` which we have created. As such, we will save it to a file now for future use."
   ]
  },
  {
   "cell_type": "code",
   "execution_count": 28,
   "metadata": {},
   "outputs": [],
   "source": [
    "data_dir = '../data/pytorch' # The folder we will use for storing data\n",
    "if not os.path.exists(data_dir): # Make sure that the folder exists\n",
    "    os.makedirs(data_dir)"
   ]
  },
  {
   "cell_type": "code",
   "execution_count": 29,
   "metadata": {},
   "outputs": [],
   "source": [
    "with open(os.path.join(data_dir, 'word_dict.pkl'), \"wb\") as f:\n",
    "    pickle.dump(word_dict, f)"
   ]
  },
  {
   "cell_type": "markdown",
   "metadata": {},
   "source": [
    "### Transform the reviews\n",
    "\n",
    "Now that we have our word dictionary which allows us to transform the words appearing in the reviews into integers, it is time to make use of it and convert our reviews to their integer sequence representation, making sure to pad or truncate to a fixed length, which in our case is `500`."
   ]
  },
  {
   "cell_type": "code",
   "execution_count": 30,
   "metadata": {},
   "outputs": [],
   "source": [
    "def convert_and_pad(word_dict, sentence, pad=500):\n",
    "    NOWORD = 0 # We will use 0 to represent the 'no word' category\n",
    "    INFREQ = 1 # and we use 1 to represent the infrequent words, i.e., words not appearing in word_dict\n",
    "    \n",
    "    working_sentence = [NOWORD] * pad\n",
    "    \n",
    "    for word_index, word in enumerate(sentence[:pad]):\n",
    "        if word in word_dict:\n",
    "            working_sentence[word_index] = word_dict[word]\n",
    "        else:\n",
    "            working_sentence[word_index] = INFREQ\n",
    "            \n",
    "    return working_sentence, min(len(sentence), pad)\n",
    "\n",
    "def convert_and_pad_data(word_dict, data, pad=500):\n",
    "    result = []\n",
    "    lengths = []\n",
    "    \n",
    "    for sentence in data:\n",
    "        converted, leng = convert_and_pad(word_dict, sentence, pad)\n",
    "        result.append(converted)\n",
    "        lengths.append(leng)\n",
    "        \n",
    "    return np.array(result), np.array(lengths)"
   ]
  },
  {
   "cell_type": "code",
   "execution_count": 31,
   "metadata": {},
   "outputs": [],
   "source": [
    "train_X, train_X_len = convert_and_pad_data(word_dict, train_X)\n",
    "test_X, test_X_len = convert_and_pad_data(word_dict, test_X)"
   ]
  },
  {
   "cell_type": "markdown",
   "metadata": {},
   "source": [
    "As a quick check to make sure that things are working as intended, check to see what one of the reviews in the training set looks like after having been processeed. Does this look reasonable? What is the length of a review in the training set?"
   ]
  },
  {
   "cell_type": "code",
   "execution_count": 35,
   "metadata": {},
   "outputs": [
    {
     "name": "stdout",
     "output_type": "stream",
     "text": [
      "[ 752  356   32 1647 2917    1 1799    1  580    3  667 3181   85  225\n",
      "   45  330    1  783 3906 1685 2554  343 4584    1  249    1  594 1063\n",
      "   30  121    3  594    1  140   85  338   16  291 2678    2   40   53\n",
      "   68  242   71 2896  357    1  347  291    1 1327   41  184  549   12\n",
      "    1   28 1500  101 1148  108   56   25   22    0    0    0    0    0\n",
      "    0    0    0    0    0    0    0    0    0    0    0    0    0    0\n",
      "    0    0    0    0    0    0    0    0    0    0    0    0    0    0\n",
      "    0    0    0    0    0    0    0    0    0    0    0    0    0    0\n",
      "    0    0    0    0    0    0    0    0    0    0    0    0    0    0\n",
      "    0    0    0    0    0    0    0    0    0    0    0    0    0    0\n",
      "    0    0    0    0    0    0    0    0    0    0    0    0    0    0\n",
      "    0    0    0    0    0    0    0    0    0    0    0    0    0    0\n",
      "    0    0    0    0    0    0    0    0    0    0    0    0    0    0\n",
      "    0    0    0    0    0    0    0    0    0    0    0    0    0    0\n",
      "    0    0    0    0    0    0    0    0    0    0    0    0    0    0\n",
      "    0    0    0    0    0    0    0    0    0    0    0    0    0    0\n",
      "    0    0    0    0    0    0    0    0    0    0    0    0    0    0\n",
      "    0    0    0    0    0    0    0    0    0    0    0    0    0    0\n",
      "    0    0    0    0    0    0    0    0    0    0    0    0    0    0\n",
      "    0    0    0    0    0    0    0    0    0    0    0    0    0    0\n",
      "    0    0    0    0    0    0    0    0    0    0    0    0    0    0\n",
      "    0    0    0    0    0    0    0    0    0    0    0    0    0    0\n",
      "    0    0    0    0    0    0    0    0    0    0    0    0    0    0\n",
      "    0    0    0    0    0    0    0    0    0    0    0    0    0    0\n",
      "    0    0    0    0    0    0    0    0    0    0    0    0    0    0\n",
      "    0    0    0    0    0    0    0    0    0    0    0    0    0    0\n",
      "    0    0    0    0    0    0    0    0    0    0    0    0    0    0\n",
      "    0    0    0    0    0    0    0    0    0    0    0    0    0    0\n",
      "    0    0    0    0    0    0    0    0    0    0    0    0    0    0\n",
      "    0    0    0    0    0    0    0    0    0    0    0    0    0    0\n",
      "    0    0    0    0    0    0    0    0    0    0    0    0    0    0\n",
      "    0    0    0    0    0    0    0    0    0    0    0    0    0    0\n",
      "    0    0    0    0    0    0    0    0    0    0    0    0    0    0\n",
      "    0    0    0    0    0    0    0    0    0    0    0    0    0    0\n",
      "    0    0    0    0    0    0    0    0    0    0    0    0    0    0\n",
      "    0    0    0    0    0    0    0    0    0    0]\n",
      "500\n"
     ]
    }
   ],
   "source": [
    "# Use this cell to examine one of the processed reviews to make sure everything is working as intended.\n",
    "print(train_X[2])\n",
    "print(len(train_X[2]))"
   ]
  },
  {
   "cell_type": "markdown",
   "metadata": {},
   "source": [
    "**Question:** In the cells above we use the `preprocess_data` and `convert_and_pad_data` methods to process both the training and testing set. Why or why not might this be a problem?"
   ]
  },
  {
   "cell_type": "markdown",
   "metadata": {},
   "source": [
    "**Answer:** These methods are used to process both the training and testing set and that is the correct way because both training and test data should come from same distribution and should be processed similarly or else it would lead to lot of issues in training"
   ]
  },
  {
   "cell_type": "markdown",
   "metadata": {},
   "source": [
    "## Step 3: Upload the data to S3\n",
    "\n",
    "As in the XGBoost notebook, we will need to upload the training dataset to S3 in order for our training code to access it. For now we will save it locally and we will upload to S3 later on.\n",
    "\n",
    "### Save the processed training dataset locally\n",
    "\n",
    "It is important to note the format of the data that we are saving as we will need to know it when we write the training code. In our case, each row of the dataset has the form `label`, `length`, `review[500]` where `review[500]` is a sequence of `500` integers representing the words in the review."
   ]
  },
  {
   "cell_type": "code",
   "execution_count": 36,
   "metadata": {},
   "outputs": [],
   "source": [
    "import pandas as pd\n",
    "    \n",
    "pd.concat([pd.DataFrame(train_y), pd.DataFrame(train_X_len), pd.DataFrame(train_X)], axis=1) \\\n",
    "        .to_csv(os.path.join(data_dir, 'train.csv'), header=False, index=False)"
   ]
  },
  {
   "cell_type": "markdown",
   "metadata": {},
   "source": [
    "### Uploading the training data\n",
    "\n",
    "\n",
    "Next, we need to upload the training data to the SageMaker default S3 bucket so that we can provide access to it while training our model."
   ]
  },
  {
   "cell_type": "code",
   "execution_count": 37,
   "metadata": {},
   "outputs": [],
   "source": [
    "import sagemaker\n",
    "\n",
    "sagemaker_session = sagemaker.Session()\n",
    "\n",
    "bucket = sagemaker_session.default_bucket()\n",
    "prefix = 'sagemaker/sentiment_rnn'\n",
    "\n",
    "role = sagemaker.get_execution_role()"
   ]
  },
  {
   "cell_type": "code",
   "execution_count": 38,
   "metadata": {},
   "outputs": [],
   "source": [
    "input_data = sagemaker_session.upload_data(path=data_dir, bucket=bucket, key_prefix=prefix)"
   ]
  },
  {
   "cell_type": "markdown",
   "metadata": {},
   "source": [
    "**NOTE:** The cell above uploads the entire contents of our data directory. This includes the `word_dict.pkl` file. This is fortunate as we will need this later on when we create an endpoint that accepts an arbitrary review. For now, we will just take note of the fact that it resides in the data directory (and so also in the S3 training bucket) and that we will need to make sure it gets saved in the model directory."
   ]
  },
  {
   "cell_type": "markdown",
   "metadata": {},
   "source": [
    "## Step 4: Build and Train the PyTorch Model\n",
    "\n",
    "In the XGBoost notebook we discussed what a model is in the SageMaker framework. In particular, a model comprises three objects\n",
    "\n",
    " - Model Artifacts,\n",
    " - Training Code, and\n",
    " - Inference Code,\n",
    " \n",
    "each of which interact with one another. In the XGBoost example we used training and inference code that was provided by Amazon. Here we will still be using containers provided by Amazon with the added benefit of being able to include our own custom code.\n",
    "\n",
    "We will start by implementing our own neural network in PyTorch along with a training script. For the purposes of this project we have provided the necessary model object in the `model.py` file, inside of the `train` folder. You can see the provided implementation by running the cell below."
   ]
  },
  {
   "cell_type": "code",
   "execution_count": 39,
   "metadata": {},
   "outputs": [
    {
     "name": "stdout",
     "output_type": "stream",
     "text": [
      "\u001b[34mimport\u001b[39;49;00m \u001b[04m\u001b[36mtorch.nn\u001b[39;49;00m \u001b[34mas\u001b[39;49;00m \u001b[04m\u001b[36mnn\u001b[39;49;00m\r\n",
      "\r\n",
      "\u001b[34mclass\u001b[39;49;00m \u001b[04m\u001b[32mLSTMClassifier\u001b[39;49;00m(nn.Module):\r\n",
      "    \u001b[33m\"\"\"\u001b[39;49;00m\r\n",
      "\u001b[33m    This is the simple RNN model we will be using to perform Sentiment Analysis.\u001b[39;49;00m\r\n",
      "\u001b[33m    \"\"\"\u001b[39;49;00m\r\n",
      "\r\n",
      "    \u001b[34mdef\u001b[39;49;00m \u001b[32m__init__\u001b[39;49;00m(\u001b[36mself\u001b[39;49;00m, embedding_dim, hidden_dim, vocab_size):\r\n",
      "        \u001b[33m\"\"\"\u001b[39;49;00m\r\n",
      "\u001b[33m        Initialize the model by settingg up the various layers.\u001b[39;49;00m\r\n",
      "\u001b[33m        \"\"\"\u001b[39;49;00m\r\n",
      "        \u001b[36msuper\u001b[39;49;00m(LSTMClassifier, \u001b[36mself\u001b[39;49;00m).\u001b[32m__init__\u001b[39;49;00m()\r\n",
      "\r\n",
      "        \u001b[36mself\u001b[39;49;00m.embedding = nn.Embedding(vocab_size, embedding_dim, padding_idx=\u001b[34m0\u001b[39;49;00m)\r\n",
      "        \u001b[36mself\u001b[39;49;00m.lstm = nn.LSTM(embedding_dim, hidden_dim)\r\n",
      "        \u001b[36mself\u001b[39;49;00m.dense = nn.Linear(in_features=hidden_dim, out_features=\u001b[34m1\u001b[39;49;00m)\r\n",
      "        \u001b[36mself\u001b[39;49;00m.sig = nn.Sigmoid()\r\n",
      "        \r\n",
      "        \u001b[36mself\u001b[39;49;00m.word_dict = \u001b[36mNone\u001b[39;49;00m\r\n",
      "\r\n",
      "    \u001b[34mdef\u001b[39;49;00m \u001b[32mforward\u001b[39;49;00m(\u001b[36mself\u001b[39;49;00m, x):\r\n",
      "        \u001b[33m\"\"\"\u001b[39;49;00m\r\n",
      "\u001b[33m        Perform a forward pass of our model on some input.\u001b[39;49;00m\r\n",
      "\u001b[33m        \"\"\"\u001b[39;49;00m\r\n",
      "        x = x.t()\r\n",
      "        lengths = x[\u001b[34m0\u001b[39;49;00m,:]\r\n",
      "        reviews = x[\u001b[34m1\u001b[39;49;00m:,:]\r\n",
      "        embeds = \u001b[36mself\u001b[39;49;00m.embedding(reviews)\r\n",
      "        lstm_out, _ = \u001b[36mself\u001b[39;49;00m.lstm(embeds)\r\n",
      "        out = \u001b[36mself\u001b[39;49;00m.dense(lstm_out)\r\n",
      "        out = out[lengths - \u001b[34m1\u001b[39;49;00m, \u001b[36mrange\u001b[39;49;00m(\u001b[36mlen\u001b[39;49;00m(lengths))]\r\n",
      "        \u001b[34mreturn\u001b[39;49;00m \u001b[36mself\u001b[39;49;00m.sig(out.squeeze())\r\n"
     ]
    }
   ],
   "source": [
    "!pygmentize train/model.py"
   ]
  },
  {
   "cell_type": "markdown",
   "metadata": {},
   "source": [
    "The important takeaway from the implementation provided is that there are three parameters that we may wish to tweak to improve the performance of our model. These are the embedding dimension, the hidden dimension and the size of the vocabulary. We will likely want to make these parameters configurable in the training script so that if we wish to modify them we do not need to modify the script itself. We will see how to do this later on. To start we will write some of the training code in the notebook so that we can more easily diagnose any issues that arise.\n",
    "\n",
    "First we will load a small portion of the training data set to use as a sample. It would be very time consuming to try and train the model completely in the notebook as we do not have access to a gpu and the compute instance that we are using is not particularly powerful. However, we can work on a small bit of the data to get a feel for how our training script is behaving."
   ]
  },
  {
   "cell_type": "code",
   "execution_count": 40,
   "metadata": {},
   "outputs": [],
   "source": [
    "import torch\n",
    "import torch.utils.data\n",
    "\n",
    "# Read in only the first 250 rows\n",
    "train_sample = pd.read_csv(os.path.join(data_dir, 'train.csv'), header=None, names=None, nrows=250)\n",
    "\n",
    "# Turn the input pandas dataframe into tensors\n",
    "train_sample_y = torch.from_numpy(train_sample[[0]].values).float().squeeze()\n",
    "train_sample_X = torch.from_numpy(train_sample.drop([0], axis=1).values).long()\n",
    "\n",
    "# Build the dataset\n",
    "train_sample_ds = torch.utils.data.TensorDataset(train_sample_X, train_sample_y)\n",
    "# Build the dataloader\n",
    "train_sample_dl = torch.utils.data.DataLoader(train_sample_ds, batch_size=50)"
   ]
  },
  {
   "cell_type": "markdown",
   "metadata": {},
   "source": [
    "### (TODO) Writing the training method\n",
    "\n",
    "Next we need to write the training code itself. This should be very similar to training methods that you have written before to train PyTorch models. We will leave any difficult aspects such as model saving / loading and parameter loading until a little later."
   ]
  },
  {
   "cell_type": "code",
   "execution_count": 41,
   "metadata": {},
   "outputs": [],
   "source": [
    "def train(model, train_loader, epochs, optimizer, loss_fn, device):\n",
    "    for epoch in range(1, epochs + 1):\n",
    "        model.train()\n",
    "        total_loss = 0\n",
    "        for batch in train_loader:         \n",
    "            batch_X, batch_y = batch\n",
    "            \n",
    "            batch_X = batch_X.to(device)\n",
    "            batch_y = batch_y.to(device)\n",
    "            \n",
    "            # TODO: Complete this train method to train the model provided.\n",
    "            optimizer.zero_grad()\n",
    "            y_hat = model(batch_X)\n",
    "            loss = loss_fn(y_hat, batch_y)\n",
    "            loss.backward()\n",
    "            optimizer.step()\n",
    "            \n",
    "            total_loss += loss.data.item()\n",
    "        print(\"Epoch: {}, BCELoss: {}\".format(epoch, total_loss / len(train_loader)))"
   ]
  },
  {
   "cell_type": "markdown",
   "metadata": {},
   "source": [
    "Supposing we have the training method above, we will test that it is working by writing a bit of code in the notebook that executes our training method on the small sample training set that we loaded earlier. The reason for doing this in the notebook is so that we have an opportunity to fix any errors that arise early when they are easier to diagnose."
   ]
  },
  {
   "cell_type": "code",
   "execution_count": 42,
   "metadata": {},
   "outputs": [
    {
     "name": "stdout",
     "output_type": "stream",
     "text": [
      "Epoch: 1, BCELoss: 0.697085690498352\n",
      "Epoch: 2, BCELoss: 0.6848868727684021\n",
      "Epoch: 3, BCELoss: 0.6738934636116027\n",
      "Epoch: 4, BCELoss: 0.6615555167198182\n",
      "Epoch: 5, BCELoss: 0.6464633703231811\n"
     ]
    }
   ],
   "source": [
    "import torch.optim as optim\n",
    "from train.model import LSTMClassifier\n",
    "\n",
    "device = torch.device(\"cuda\" if torch.cuda.is_available() else \"cpu\")\n",
    "model = LSTMClassifier(32, 100, 5000).to(device)\n",
    "optimizer = optim.Adam(model.parameters())\n",
    "loss_fn = torch.nn.BCELoss()\n",
    "\n",
    "train(model, train_sample_dl, 5, optimizer, loss_fn, device)"
   ]
  },
  {
   "cell_type": "markdown",
   "metadata": {},
   "source": [
    "In order to construct a PyTorch model using SageMaker we must provide SageMaker with a training script. We may optionally include a directory which will be copied to the container and from which our training code will be run. When the training container is executed it will check the uploaded directory (if there is one) for a `requirements.txt` file and install any required Python libraries, after which the training script will be run."
   ]
  },
  {
   "cell_type": "markdown",
   "metadata": {},
   "source": [
    "### (TODO) Training the model\n",
    "\n",
    "When a PyTorch model is constructed in SageMaker, an entry point must be specified. This is the Python file which will be executed when the model is trained. Inside of the `train` directory is a file called `train.py` which has been provided and which contains most of the necessary code to train our model. The only thing that is missing is the implementation of the `train()` method which you wrote earlier in this notebook.\n",
    "\n",
    "**TODO**: Copy the `train()` method written above and paste it into the `train/train.py` file where required.\n",
    "\n",
    "The way that SageMaker passes hyperparameters to the training script is by way of arguments. These arguments can then be parsed and used in the training script. To see how this is done take a look at the provided `train/train.py` file."
   ]
  },
  {
   "cell_type": "code",
   "execution_count": 43,
   "metadata": {},
   "outputs": [],
   "source": [
    "from sagemaker.pytorch import PyTorch\n",
    "\n",
    "estimator = PyTorch(entry_point=\"train.py\",\n",
    "                    source_dir=\"train\",\n",
    "                    role=role,\n",
    "                    framework_version='0.4.0',\n",
    "                    train_instance_count=1,\n",
    "                    train_instance_type='ml.p2.xlarge',\n",
    "                    hyperparameters={\n",
    "                        'epochs': 10,\n",
    "                        'hidden_dim': 200,\n",
    "                    })"
   ]
  },
  {
   "cell_type": "code",
   "execution_count": 44,
   "metadata": {},
   "outputs": [
    {
     "name": "stderr",
     "output_type": "stream",
     "text": [
      "INFO:sagemaker:Creating training-job with name: sagemaker-pytorch-2019-04-06-05-22-59-671\n"
     ]
    },
    {
     "name": "stdout",
     "output_type": "stream",
     "text": [
      "2019-04-06 05:23:01 Starting - Starting the training job...\n",
      "2019-04-06 05:23:03 Starting - Launching requested ML instances......\n",
      "2019-04-06 05:24:11 Starting - Preparing the instances for training......\n",
      "2019-04-06 05:25:18 Downloading - Downloading input data...\n",
      "2019-04-06 05:25:35 Training - Downloading the training image...\n",
      "2019-04-06 05:26:24 Training - Training image download completed. Training in progress.\n",
      "\u001b[31mbash: cannot set terminal process group (-1): Inappropriate ioctl for device\u001b[0m\n",
      "\u001b[31mbash: no job control in this shell\u001b[0m\n",
      "\u001b[31m2019-04-06 05:26:24,855 sagemaker-containers INFO     Imported framework sagemaker_pytorch_container.training\u001b[0m\n",
      "\u001b[31m2019-04-06 05:26:24,883 sagemaker_pytorch_container.training INFO     Block until all host DNS lookups succeed.\u001b[0m\n",
      "\u001b[31m2019-04-06 05:26:25,091 sagemaker_pytorch_container.training INFO     Invoking user training script.\u001b[0m\n",
      "\u001b[31m2019-04-06 05:26:25,329 sagemaker-containers INFO     Module train does not provide a setup.py. \u001b[0m\n",
      "\u001b[31mGenerating setup.py\u001b[0m\n",
      "\u001b[31m2019-04-06 05:26:25,329 sagemaker-containers INFO     Generating setup.cfg\u001b[0m\n",
      "\u001b[31m2019-04-06 05:26:25,329 sagemaker-containers INFO     Generating MANIFEST.in\u001b[0m\n",
      "\u001b[31m2019-04-06 05:26:25,330 sagemaker-containers INFO     Installing module with the following command:\u001b[0m\n",
      "\u001b[31m/usr/bin/python -m pip install -U . -r requirements.txt\u001b[0m\n",
      "\u001b[31mProcessing /opt/ml/code\u001b[0m\n",
      "\u001b[31mCollecting pandas (from -r requirements.txt (line 1))\n",
      "  Downloading https://files.pythonhosted.org/packages/74/24/0cdbf8907e1e3bc5a8da03345c23cbed7044330bb8f73bb12e711a640a00/pandas-0.24.2-cp35-cp35m-manylinux1_x86_64.whl (10.0MB)\u001b[0m\n",
      "\u001b[31mCollecting numpy (from -r requirements.txt (line 2))\n",
      "  Downloading https://files.pythonhosted.org/packages/e3/18/4f013c3c3051f4e0ffbaa4bf247050d6d5e527fe9cb1907f5975b172f23f/numpy-1.16.2-cp35-cp35m-manylinux1_x86_64.whl (17.2MB)\u001b[0m\n",
      "\u001b[31mCollecting nltk (from -r requirements.txt (line 3))\n",
      "  Downloading https://files.pythonhosted.org/packages/6f/ed/9c755d357d33bc1931e157f537721efb5b88d2c583fe593cc09603076cc3/nltk-3.4.zip (1.4MB)\u001b[0m\n",
      "\u001b[31mCollecting beautifulsoup4 (from -r requirements.txt (line 4))\n",
      "  Downloading https://files.pythonhosted.org/packages/1d/5d/3260694a59df0ec52f8b4883f5d23b130bc237602a1411fa670eae12351e/beautifulsoup4-4.7.1-py3-none-any.whl (94kB)\u001b[0m\n",
      "\u001b[31mCollecting html5lib (from -r requirements.txt (line 5))\n",
      "  Downloading https://files.pythonhosted.org/packages/a5/62/bbd2be0e7943ec8504b517e62bab011b4946e1258842bc159e5dfde15b96/html5lib-1.0.1-py2.py3-none-any.whl (117kB)\u001b[0m\n",
      "\u001b[31mCollecting pytz>=2011k (from pandas->-r requirements.txt (line 1))\n",
      "  Downloading https://files.pythonhosted.org/packages/61/28/1d3920e4d1d50b19bc5d24398a7cd85cc7b9a75a490570d5a30c57622d34/pytz-2018.9-py2.py3-none-any.whl (510kB)\u001b[0m\n",
      "\u001b[31mRequirement already satisfied, skipping upgrade: python-dateutil>=2.5.0 in /usr/local/lib/python3.5/dist-packages (from pandas->-r requirements.txt (line 1)) (2.7.5)\u001b[0m\n",
      "\u001b[31mRequirement already satisfied, skipping upgrade: six in /usr/local/lib/python3.5/dist-packages (from nltk->-r requirements.txt (line 3)) (1.11.0)\u001b[0m\n",
      "\u001b[31mCollecting singledispatch (from nltk->-r requirements.txt (line 3))\n",
      "  Downloading https://files.pythonhosted.org/packages/c5/10/369f50bcd4621b263927b0a1519987a04383d4a98fb10438042ad410cf88/singledispatch-3.4.0.3-py2.py3-none-any.whl\u001b[0m\n",
      "\u001b[31mCollecting soupsieve>=1.2 (from beautifulsoup4->-r requirements.txt (line 4))\n",
      "  Downloading https://files.pythonhosted.org/packages/c9/f8/e54b1d771ed4fab66b3fa1c178e137a3c73d84fb6f64329bddf0da5a371c/soupsieve-1.9-py2.py3-none-any.whl\u001b[0m\n",
      "\u001b[31mCollecting webencodings (from html5lib->-r requirements.txt (line 5))\n",
      "  Downloading https://files.pythonhosted.org/packages/f4/24/2a3e3df732393fed8b3ebf2ec078f05546de641fe1b667ee316ec1dcf3b7/webencodings-0.5.1-py2.py3-none-any.whl\u001b[0m\n",
      "\u001b[31mBuilding wheels for collected packages: nltk, train\n",
      "  Running setup.py bdist_wheel for nltk: started\n",
      "  Running setup.py bdist_wheel for nltk: finished with status 'done'\n",
      "  Stored in directory: /root/.cache/pip/wheels/4b/c8/24/b2343664bcceb7147efeb21c0b23703a05b23fcfeaceaa2a1e\u001b[0m\n",
      "\u001b[31m  Running setup.py bdist_wheel for train: started\n",
      "  Running setup.py bdist_wheel for train: finished with status 'done'\n",
      "  Stored in directory: /tmp/pip-ephem-wheel-cache-kzilps3c/wheels/35/24/16/37574d11bf9bde50616c67372a334f94fa8356bc7164af8ca3\u001b[0m\n",
      "\u001b[31mSuccessfully built nltk train\u001b[0m\n",
      "\u001b[31mInstalling collected packages: pytz, numpy, pandas, singledispatch, nltk, soupsieve, beautifulsoup4, webencodings, html5lib, train\n",
      "  Found existing installation: numpy 1.15.4\n",
      "    Uninstalling numpy-1.15.4:\u001b[0m\n",
      "\u001b[31m      Successfully uninstalled numpy-1.15.4\u001b[0m\n",
      "\u001b[31mSuccessfully installed beautifulsoup4-4.7.1 html5lib-1.0.1 nltk-3.4 numpy-1.16.2 pandas-0.24.2 pytz-2018.9 singledispatch-3.4.0.3 soupsieve-1.9 train-1.0.0 webencodings-0.5.1\u001b[0m\n",
      "\u001b[31mYou are using pip version 18.1, however version 19.0.3 is available.\u001b[0m\n",
      "\u001b[31mYou should consider upgrading via the 'pip install --upgrade pip' command.\u001b[0m\n",
      "\u001b[31m2019-04-06 05:26:36,540 sagemaker-containers INFO     Invoking user script\n",
      "\u001b[0m\n",
      "\u001b[31mTraining Env:\n",
      "\u001b[0m\n",
      "\u001b[31m{\n",
      "    \"module_dir\": \"s3://sagemaker-ap-northeast-1-239310740539/sagemaker-pytorch-2019-04-06-05-22-59-671/source/sourcedir.tar.gz\",\n",
      "    \"network_interface_name\": \"ethwe\",\n",
      "    \"resource_config\": {\n",
      "        \"network_interface_name\": \"ethwe\",\n",
      "        \"hosts\": [\n",
      "            \"algo-1\"\n",
      "        ],\n",
      "        \"current_host\": \"algo-1\"\n",
      "    },\n",
      "    \"job_name\": \"sagemaker-pytorch-2019-04-06-05-22-59-671\",\n",
      "    \"user_entry_point\": \"train.py\",\n",
      "    \"current_host\": \"algo-1\",\n",
      "    \"input_dir\": \"/opt/ml/input\",\n",
      "    \"input_config_dir\": \"/opt/ml/input/config\",\n",
      "    \"channel_input_dirs\": {\n",
      "        \"training\": \"/opt/ml/input/data/training\"\n",
      "    },\n",
      "    \"hyperparameters\": {\n",
      "        \"epochs\": 10,\n",
      "        \"hidden_dim\": 200\n",
      "    },\n",
      "    \"num_gpus\": 1,\n",
      "    \"additional_framework_parameters\": {},\n",
      "    \"output_data_dir\": \"/opt/ml/output/data\",\n",
      "    \"output_dir\": \"/opt/ml/output\",\n",
      "    \"framework_module\": \"sagemaker_pytorch_container.training:main\",\n",
      "    \"module_name\": \"train\",\n",
      "    \"model_dir\": \"/opt/ml/model\",\n",
      "    \"input_data_config\": {\n",
      "        \"training\": {\n",
      "            \"S3DistributionType\": \"FullyReplicated\",\n",
      "            \"TrainingInputMode\": \"File\",\n",
      "            \"RecordWrapperType\": \"None\"\n",
      "        }\n",
      "    },\n",
      "    \"num_cpus\": 4,\n",
      "    \"output_intermediate_dir\": \"/opt/ml/output/intermediate\",\n",
      "    \"log_level\": 20,\n",
      "    \"hosts\": [\n",
      "        \"algo-1\"\n",
      "    ]\u001b[0m\n",
      "\u001b[31m}\n",
      "\u001b[0m\n",
      "\u001b[31mEnvironment variables:\n",
      "\u001b[0m\n",
      "\u001b[31mSM_CHANNEL_TRAINING=/opt/ml/input/data/training\u001b[0m\n",
      "\u001b[31mSM_INPUT_DATA_CONFIG={\"training\":{\"RecordWrapperType\":\"None\",\"S3DistributionType\":\"FullyReplicated\",\"TrainingInputMode\":\"File\"}}\u001b[0m\n",
      "\u001b[31mSM_CHANNELS=[\"training\"]\u001b[0m\n",
      "\u001b[31mSM_OUTPUT_INTERMEDIATE_DIR=/opt/ml/output/intermediate\u001b[0m\n",
      "\u001b[31mSM_INPUT_CONFIG_DIR=/opt/ml/input/config\u001b[0m\n",
      "\u001b[31mSM_TRAINING_ENV={\"additional_framework_parameters\":{},\"channel_input_dirs\":{\"training\":\"/opt/ml/input/data/training\"},\"current_host\":\"algo-1\",\"framework_module\":\"sagemaker_pytorch_container.training:main\",\"hosts\":[\"algo-1\"],\"hyperparameters\":{\"epochs\":10,\"hidden_dim\":200},\"input_config_dir\":\"/opt/ml/input/config\",\"input_data_config\":{\"training\":{\"RecordWrapperType\":\"None\",\"S3DistributionType\":\"FullyReplicated\",\"TrainingInputMode\":\"File\"}},\"input_dir\":\"/opt/ml/input\",\"job_name\":\"sagemaker-pytorch-2019-04-06-05-22-59-671\",\"log_level\":20,\"model_dir\":\"/opt/ml/model\",\"module_dir\":\"s3://sagemaker-ap-northeast-1-239310740539/sagemaker-pytorch-2019-04-06-05-22-59-671/source/sourcedir.tar.gz\",\"module_name\":\"train\",\"network_interface_name\":\"ethwe\",\"num_cpus\":4,\"num_gpus\":1,\"output_data_dir\":\"/opt/ml/output/data\",\"output_dir\":\"/opt/ml/output\",\"output_intermediate_dir\":\"/opt/ml/output/intermediate\",\"resource_config\":{\"current_host\":\"algo-1\",\"hosts\":[\"algo-1\"],\"network_interface_name\":\"ethwe\"},\"user_entry_point\":\"train.py\"}\u001b[0m\n",
      "\u001b[31mSM_MODULE_DIR=s3://sagemaker-ap-northeast-1-239310740539/sagemaker-pytorch-2019-04-06-05-22-59-671/source/sourcedir.tar.gz\u001b[0m\n",
      "\u001b[31mSM_CURRENT_HOST=algo-1\u001b[0m\n",
      "\u001b[31mSM_NETWORK_INTERFACE_NAME=ethwe\u001b[0m\n",
      "\u001b[31mSM_MODULE_NAME=train\u001b[0m\n",
      "\u001b[31mSM_MODEL_DIR=/opt/ml/model\u001b[0m\n",
      "\u001b[31mSM_FRAMEWORK_MODULE=sagemaker_pytorch_container.training:main\u001b[0m\n",
      "\u001b[31mSM_HP_EPOCHS=10\u001b[0m\n",
      "\u001b[31mSM_OUTPUT_DATA_DIR=/opt/ml/output/data\u001b[0m\n",
      "\u001b[31mSM_FRAMEWORK_PARAMS={}\u001b[0m\n",
      "\u001b[31mSM_LOG_LEVEL=20\u001b[0m\n",
      "\u001b[31mSM_HPS={\"epochs\":10,\"hidden_dim\":200}\u001b[0m\n",
      "\u001b[31mSM_INPUT_DIR=/opt/ml/input\u001b[0m\n",
      "\u001b[31mSM_HP_HIDDEN_DIM=200\u001b[0m\n",
      "\u001b[31mPYTHONPATH=/usr/local/bin:/usr/lib/python35.zip:/usr/lib/python3.5:/usr/lib/python3.5/plat-x86_64-linux-gnu:/usr/lib/python3.5/lib-dynload:/usr/local/lib/python3.5/dist-packages:/usr/lib/python3/dist-packages\u001b[0m\n",
      "\u001b[31mSM_USER_ARGS=[\"--epochs\",\"10\",\"--hidden_dim\",\"200\"]\u001b[0m\n",
      "\u001b[31mSM_USER_ENTRY_POINT=train.py\u001b[0m\n",
      "\u001b[31mSM_OUTPUT_DIR=/opt/ml/output\u001b[0m\n",
      "\u001b[31mSM_NUM_CPUS=4\u001b[0m\n",
      "\u001b[31mSM_HOSTS=[\"algo-1\"]\u001b[0m\n",
      "\u001b[31mSM_RESOURCE_CONFIG={\"current_host\":\"algo-1\",\"hosts\":[\"algo-1\"],\"network_interface_name\":\"ethwe\"}\u001b[0m\n",
      "\u001b[31mSM_NUM_GPUS=1\n",
      "\u001b[0m\n",
      "\u001b[31mInvoking script with the following command:\n",
      "\u001b[0m\n",
      "\u001b[31m/usr/bin/python -m train --epochs 10 --hidden_dim 200\n",
      "\n",
      "\u001b[0m\n",
      "\u001b[31mUsing device cuda.\u001b[0m\n",
      "\u001b[31mGet train data loader.\u001b[0m\n"
     ]
    },
    {
     "name": "stdout",
     "output_type": "stream",
     "text": [
      "\u001b[31mModel loaded with embedding_dim 32, hidden_dim 200, vocab_size 5000.\u001b[0m\n",
      "\u001b[31mEpoch: 1, BCELoss: 0.6760476924935166\u001b[0m\n",
      "\u001b[31mEpoch: 2, BCELoss: 0.6369554388279818\u001b[0m\n",
      "\u001b[31mEpoch: 3, BCELoss: 0.5715734283534848\u001b[0m\n",
      "\u001b[31mEpoch: 4, BCELoss: 0.4802026213431845\u001b[0m\n",
      "\u001b[31mEpoch: 5, BCELoss: 0.4240288418166491\u001b[0m\n",
      "\u001b[31mEpoch: 6, BCELoss: 0.3749091278533546\u001b[0m\n",
      "\u001b[31mEpoch: 7, BCELoss: 0.3567876146764171\u001b[0m\n",
      "\u001b[31mEpoch: 8, BCELoss: 0.34185351279317117\u001b[0m\n",
      "\u001b[31mEpoch: 9, BCELoss: 0.33472277436937603\u001b[0m\n",
      "\u001b[31mEpoch: 10, BCELoss: 0.29792246496190833\u001b[0m\n",
      "\u001b[31m2019-04-06 05:29:35,878 sagemaker-containers INFO     Reporting training SUCCESS\u001b[0m\n",
      "\n",
      "2019-04-06 05:29:42 Uploading - Uploading generated training model\n",
      "2019-04-06 05:29:42 Completed - Training job completed\n",
      "Billable seconds: 264\n"
     ]
    }
   ],
   "source": [
    "estimator.fit({'training': input_data})"
   ]
  },
  {
   "cell_type": "markdown",
   "metadata": {},
   "source": [
    "## Step 5: Testing the model\n",
    "\n",
    "As mentioned at the top of this notebook, we will be testing this model by first deploying it and then sending the testing data to the deployed endpoint. We will do this so that we can make sure that the deployed model is working correctly.\n",
    "\n",
    "## Step 6: Deploy the model for testing\n",
    "\n",
    "Now that we have trained our model, we would like to test it to see how it performs. Currently our model takes input of the form `review_length, review[500]` where `review[500]` is a sequence of `500` integers which describe the words present in the review, encoded using `word_dict`. Fortunately for us, SageMaker provides built-in inference code for models with simple inputs such as this.\n",
    "\n",
    "There is one thing that we need to provide, however, and that is a function which loads the saved model. This function must be called `model_fn()` and takes as its only parameter a path to the directory where the model artifacts are stored. This function must also be present in the python file which we specified as the entry point. In our case the model loading function has been provided and so no changes need to be made.\n",
    "\n",
    "**NOTE**: When the built-in inference code is run it must import the `model_fn()` method from the `train.py` file. This is why the training code is wrapped in a main guard ( ie, `if __name__ == '__main__':` )\n",
    "\n",
    "Since we don't need to change anything in the code that was uploaded during training, we can simply deploy the current model as-is.\n",
    "\n",
    "**NOTE:** When deploying a model you are asking SageMaker to launch an compute instance that will wait for data to be sent to it. As a result, this compute instance will continue to run until *you* shut it down. This is important to know since the cost of a deployed endpoint depends on how long it has been running for.\n",
    "\n",
    "In other words **If you are no longer using a deployed endpoint, shut it down!**\n",
    "\n",
    "**TODO:** Deploy the trained model."
   ]
  },
  {
   "cell_type": "code",
   "execution_count": 45,
   "metadata": {},
   "outputs": [
    {
     "name": "stderr",
     "output_type": "stream",
     "text": [
      "INFO:sagemaker:Creating model with name: sagemaker-pytorch-2019-04-06-05-22-59-671\n",
      "INFO:sagemaker:Creating endpoint with name sagemaker-pytorch-2019-04-06-05-22-59-671\n"
     ]
    },
    {
     "name": "stdout",
     "output_type": "stream",
     "text": [
      "----------------------------------------------------------------------------!"
     ]
    }
   ],
   "source": [
    "# TODO: Deploy the trained model\n",
    "predictor = estimator.deploy(initial_instance_count = 1, instance_type = 'ml.m4.xlarge')"
   ]
  },
  {
   "cell_type": "markdown",
   "metadata": {},
   "source": [
    "## Step 7 - Use the model for testing\n",
    "\n",
    "Once deployed, we can read in the test data and send it off to our deployed model to get some results. Once we collect all of the results we can determine how accurate our model is."
   ]
  },
  {
   "cell_type": "code",
   "execution_count": 46,
   "metadata": {},
   "outputs": [],
   "source": [
    "test_X = pd.concat([pd.DataFrame(test_X_len), pd.DataFrame(test_X)], axis=1)"
   ]
  },
  {
   "cell_type": "code",
   "execution_count": 47,
   "metadata": {},
   "outputs": [],
   "source": [
    "# We split the data into chunks and send each chunk seperately, accumulating the results.\n",
    "\n",
    "def predict(data, rows=512):\n",
    "    split_array = np.array_split(data, int(data.shape[0] / float(rows) + 1))\n",
    "    predictions = np.array([])\n",
    "    for array in split_array:\n",
    "        predictions = np.append(predictions, predictor.predict(array))\n",
    "    \n",
    "    return predictions"
   ]
  },
  {
   "cell_type": "code",
   "execution_count": 48,
   "metadata": {},
   "outputs": [],
   "source": [
    "predictions = predict(test_X.values)\n",
    "predictions = [round(num) for num in predictions]"
   ]
  },
  {
   "cell_type": "code",
   "execution_count": 49,
   "metadata": {},
   "outputs": [
    {
     "data": {
      "text/plain": [
       "0.85192"
      ]
     },
     "execution_count": 49,
     "metadata": {},
     "output_type": "execute_result"
    }
   ],
   "source": [
    "from sklearn.metrics import accuracy_score\n",
    "accuracy_score(test_y, predictions)"
   ]
  },
  {
   "cell_type": "markdown",
   "metadata": {},
   "source": [
    "**Question:** How does this model compare to the XGBoost model you created earlier? Why might these two models perform differently on this dataset? Which do *you* think is better for sentiment analysis?"
   ]
  },
  {
   "cell_type": "markdown",
   "metadata": {},
   "source": [
    "**Answer:** XGBoost uses BOW(bag of words) and this model(LSTM) uses embedding vectors and makes predictions on words occuring more frequently which is better suited for sentiment Analysis"
   ]
  },
  {
   "cell_type": "markdown",
   "metadata": {},
   "source": [
    "### (TODO) More testing\n",
    "\n",
    "We now have a trained model which has been deployed and which we can send processed reviews to and which returns the predicted sentiment. However, ultimately we would like to be able to send our model an unprocessed review. That is, we would like to send the review itself as a string. For example, suppose we wish to send the following review to our model."
   ]
  },
  {
   "cell_type": "code",
   "execution_count": 50,
   "metadata": {},
   "outputs": [],
   "source": [
    "test_review = 'The simplest pleasures in life are the best, and this film is one of them. Combining a rather basic storyline of love and adventure this movie transcends the usual weekend fair with wit and unmitigated charm.'"
   ]
  },
  {
   "cell_type": "markdown",
   "metadata": {},
   "source": [
    "The question we now need to answer is, how do we send this review to our model?\n",
    "\n",
    "Recall in the first section of this notebook we did a bunch of data processing to the IMDb dataset. In particular, we did two specific things to the provided reviews.\n",
    " - Removed any html tags and stemmed the input\n",
    " - Encoded the review as a sequence of integers using `word_dict`\n",
    " \n",
    "In order process the review we will need to repeat these two steps.\n",
    "\n",
    "**TODO**: Using the `review_to_words` and `convert_and_pad` methods from section one, convert `test_review` into a numpy array `test_data` suitable to send to our model. Remember that our model expects input of the form `review_length, review[500]`."
   ]
  },
  {
   "cell_type": "code",
   "execution_count": 51,
   "metadata": {},
   "outputs": [
    {
     "data": {
      "text/plain": [
       "((1, 501), array([  20,    1, 1373,   49,   53]))"
      ]
     },
     "execution_count": 51,
     "metadata": {},
     "output_type": "execute_result"
    }
   ],
   "source": [
    "# TODO: Convert test_review into a form usable by the model and save the results in test_data\n",
    "test_review_words = review_to_words(test_review)\n",
    "test_review_words, length = convert_and_pad(word_dict, test_review_words)\n",
    "test_data = np.array([[length] + test_review_words])\n",
    "test_data.shape, test_data[0, :5]"
   ]
  },
  {
   "cell_type": "markdown",
   "metadata": {},
   "source": [
    "Now that we have processed the review, we can send the resulting array to our model to predict the sentiment of the review."
   ]
  },
  {
   "cell_type": "code",
   "execution_count": 52,
   "metadata": {},
   "outputs": [
    {
     "data": {
      "text/plain": [
       "array(0.87211025, dtype=float32)"
      ]
     },
     "execution_count": 52,
     "metadata": {},
     "output_type": "execute_result"
    }
   ],
   "source": [
    "predictor.predict(test_data)"
   ]
  },
  {
   "cell_type": "markdown",
   "metadata": {},
   "source": [
    "Since the return value of our model is close to `1`, we can be certain that the review we submitted is positive."
   ]
  },
  {
   "cell_type": "markdown",
   "metadata": {},
   "source": [
    "### Delete the endpoint\n",
    "\n",
    "Of course, just like in the XGBoost notebook, once we've deployed an endpoint it continues to run until we tell it to shut down. Since we are done using our endpoint for now, we can delete it."
   ]
  },
  {
   "cell_type": "code",
   "execution_count": 53,
   "metadata": {},
   "outputs": [
    {
     "name": "stderr",
     "output_type": "stream",
     "text": [
      "INFO:sagemaker:Deleting endpoint with name: sagemaker-pytorch-2019-04-06-05-22-59-671\n"
     ]
    }
   ],
   "source": [
    "estimator.delete_endpoint()"
   ]
  },
  {
   "cell_type": "markdown",
   "metadata": {},
   "source": [
    "## Step 6 (again) - Deploy the model for the web app\n",
    "\n",
    "Now that we know that our model is working, it's time to create some custom inference code so that we can send the model a review which has not been processed and have it determine the sentiment of the review.\n",
    "\n",
    "As we saw above, by default the estimator which we created, when deployed, will use the entry script and directory which we provided when creating the model. However, since we now wish to accept a string as input and our model expects a processed review, we need to write some custom inference code.\n",
    "\n",
    "We will store the code that we write in the `serve` directory. Provided in this directory is the `model.py` file that we used to construct our model, a `utils.py` file which contains the `review_to_words` and `convert_and_pad` pre-processing functions which we used during the initial data processing, and `predict.py`, the file which will contain our custom inference code. Note also that `requirements.txt` is present which will tell SageMaker what Python libraries are required by our custom inference code.\n",
    "\n",
    "When deploying a PyTorch model in SageMaker, you are expected to provide four functions which the SageMaker inference container will use.\n",
    " - `model_fn`: This function is the same function that we used in the training script and it tells SageMaker how to load our model.\n",
    " - `input_fn`: This function receives the raw serialized input that has been sent to the model's endpoint and its job is to de-serialize and make the input available for the inference code.\n",
    " - `output_fn`: This function takes the output of the inference code and its job is to serialize this output and return it to the caller of the model's endpoint.\n",
    " - `predict_fn`: The heart of the inference script, this is where the actual prediction is done and is the function which you will need to complete.\n",
    "\n",
    "For the simple website that we are constructing during this project, the `input_fn` and `output_fn` methods are relatively straightforward. We only require being able to accept a string as input and we expect to return a single value as output. You might imagine though that in a more complex application the input or output may be image data or some other binary data which would require some effort to serialize.\n",
    "\n",
    "### (TODO) Writing inference code\n",
    "\n",
    "Before writing our custom inference code, we will begin by taking a look at the code which has been provided."
   ]
  },
  {
   "cell_type": "code",
   "execution_count": 55,
   "metadata": {},
   "outputs": [
    {
     "name": "stdout",
     "output_type": "stream",
     "text": [
      "\u001b[34mimport\u001b[39;49;00m \u001b[04m\u001b[36margparse\u001b[39;49;00m\r\n",
      "\u001b[34mimport\u001b[39;49;00m \u001b[04m\u001b[36mjson\u001b[39;49;00m\r\n",
      "\u001b[34mimport\u001b[39;49;00m \u001b[04m\u001b[36mos\u001b[39;49;00m\r\n",
      "\u001b[34mimport\u001b[39;49;00m \u001b[04m\u001b[36mpickle\u001b[39;49;00m\r\n",
      "\u001b[34mimport\u001b[39;49;00m \u001b[04m\u001b[36msys\u001b[39;49;00m\r\n",
      "\u001b[34mimport\u001b[39;49;00m \u001b[04m\u001b[36msagemaker_containers\u001b[39;49;00m\r\n",
      "\u001b[34mimport\u001b[39;49;00m \u001b[04m\u001b[36mpandas\u001b[39;49;00m \u001b[34mas\u001b[39;49;00m \u001b[04m\u001b[36mpd\u001b[39;49;00m\r\n",
      "\u001b[34mimport\u001b[39;49;00m \u001b[04m\u001b[36mnumpy\u001b[39;49;00m \u001b[34mas\u001b[39;49;00m \u001b[04m\u001b[36mnp\u001b[39;49;00m\r\n",
      "\u001b[34mimport\u001b[39;49;00m \u001b[04m\u001b[36mtorch\u001b[39;49;00m\r\n",
      "\u001b[34mimport\u001b[39;49;00m \u001b[04m\u001b[36mtorch.nn\u001b[39;49;00m \u001b[34mas\u001b[39;49;00m \u001b[04m\u001b[36mnn\u001b[39;49;00m\r\n",
      "\u001b[34mimport\u001b[39;49;00m \u001b[04m\u001b[36mtorch.optim\u001b[39;49;00m \u001b[34mas\u001b[39;49;00m \u001b[04m\u001b[36moptim\u001b[39;49;00m\r\n",
      "\u001b[34mimport\u001b[39;49;00m \u001b[04m\u001b[36mtorch.utils.data\u001b[39;49;00m\r\n",
      "\r\n",
      "\u001b[34mfrom\u001b[39;49;00m \u001b[04m\u001b[36mmodel\u001b[39;49;00m \u001b[34mimport\u001b[39;49;00m LSTMClassifier\r\n",
      "\r\n",
      "\u001b[34mfrom\u001b[39;49;00m \u001b[04m\u001b[36mutils\u001b[39;49;00m \u001b[34mimport\u001b[39;49;00m review_to_words, convert_and_pad\r\n",
      "\r\n",
      "\u001b[34mdef\u001b[39;49;00m \u001b[32mmodel_fn\u001b[39;49;00m(model_dir):\r\n",
      "    \u001b[33m\"\"\"Load the PyTorch model from the `model_dir` directory.\"\"\"\u001b[39;49;00m\r\n",
      "    \u001b[34mprint\u001b[39;49;00m(\u001b[33m\"\u001b[39;49;00m\u001b[33mLoading model.\u001b[39;49;00m\u001b[33m\"\u001b[39;49;00m)\r\n",
      "\r\n",
      "    \u001b[37m# First, load the parameters used to create the model.\u001b[39;49;00m\r\n",
      "    model_info = {}\r\n",
      "    model_info_path = os.path.join(model_dir, \u001b[33m'\u001b[39;49;00m\u001b[33mmodel_info.pth\u001b[39;49;00m\u001b[33m'\u001b[39;49;00m)\r\n",
      "    \u001b[34mwith\u001b[39;49;00m \u001b[36mopen\u001b[39;49;00m(model_info_path, \u001b[33m'\u001b[39;49;00m\u001b[33mrb\u001b[39;49;00m\u001b[33m'\u001b[39;49;00m) \u001b[34mas\u001b[39;49;00m f:\r\n",
      "        model_info = torch.load(f)\r\n",
      "\r\n",
      "    \u001b[34mprint\u001b[39;49;00m(\u001b[33m\"\u001b[39;49;00m\u001b[33mmodel_info: {}\u001b[39;49;00m\u001b[33m\"\u001b[39;49;00m.format(model_info))\r\n",
      "\r\n",
      "    \u001b[37m# Determine the device and construct the model.\u001b[39;49;00m\r\n",
      "    device = torch.device(\u001b[33m\"\u001b[39;49;00m\u001b[33mcuda\u001b[39;49;00m\u001b[33m\"\u001b[39;49;00m \u001b[34mif\u001b[39;49;00m torch.cuda.is_available() \u001b[34melse\u001b[39;49;00m \u001b[33m\"\u001b[39;49;00m\u001b[33mcpu\u001b[39;49;00m\u001b[33m\"\u001b[39;49;00m)\r\n",
      "    model = LSTMClassifier(model_info[\u001b[33m'\u001b[39;49;00m\u001b[33membedding_dim\u001b[39;49;00m\u001b[33m'\u001b[39;49;00m], model_info[\u001b[33m'\u001b[39;49;00m\u001b[33mhidden_dim\u001b[39;49;00m\u001b[33m'\u001b[39;49;00m], model_info[\u001b[33m'\u001b[39;49;00m\u001b[33mvocab_size\u001b[39;49;00m\u001b[33m'\u001b[39;49;00m])\r\n",
      "\r\n",
      "    \u001b[37m# Load the store model parameters.\u001b[39;49;00m\r\n",
      "    model_path = os.path.join(model_dir, \u001b[33m'\u001b[39;49;00m\u001b[33mmodel.pth\u001b[39;49;00m\u001b[33m'\u001b[39;49;00m)\r\n",
      "    \u001b[34mwith\u001b[39;49;00m \u001b[36mopen\u001b[39;49;00m(model_path, \u001b[33m'\u001b[39;49;00m\u001b[33mrb\u001b[39;49;00m\u001b[33m'\u001b[39;49;00m) \u001b[34mas\u001b[39;49;00m f:\r\n",
      "        model.load_state_dict(torch.load(f))\r\n",
      "\r\n",
      "    \u001b[37m# Load the saved word_dict.\u001b[39;49;00m\r\n",
      "    word_dict_path = os.path.join(model_dir, \u001b[33m'\u001b[39;49;00m\u001b[33mword_dict.pkl\u001b[39;49;00m\u001b[33m'\u001b[39;49;00m)\r\n",
      "    \u001b[34mwith\u001b[39;49;00m \u001b[36mopen\u001b[39;49;00m(word_dict_path, \u001b[33m'\u001b[39;49;00m\u001b[33mrb\u001b[39;49;00m\u001b[33m'\u001b[39;49;00m) \u001b[34mas\u001b[39;49;00m f:\r\n",
      "        model.word_dict = pickle.load(f)\r\n",
      "\r\n",
      "    model.to(device).eval()\r\n",
      "\r\n",
      "    \u001b[34mprint\u001b[39;49;00m(\u001b[33m\"\u001b[39;49;00m\u001b[33mDone loading model.\u001b[39;49;00m\u001b[33m\"\u001b[39;49;00m)\r\n",
      "    \u001b[34mreturn\u001b[39;49;00m model\r\n",
      "\r\n",
      "\u001b[34mdef\u001b[39;49;00m \u001b[32minput_fn\u001b[39;49;00m(serialized_input_data, content_type):\r\n",
      "    \u001b[34mprint\u001b[39;49;00m(\u001b[33m'\u001b[39;49;00m\u001b[33mDeserializing the input data.\u001b[39;49;00m\u001b[33m'\u001b[39;49;00m)\r\n",
      "    \u001b[34mif\u001b[39;49;00m content_type == \u001b[33m'\u001b[39;49;00m\u001b[33mtext/plain\u001b[39;49;00m\u001b[33m'\u001b[39;49;00m:\r\n",
      "        data = serialized_input_data.decode(\u001b[33m'\u001b[39;49;00m\u001b[33mutf-8\u001b[39;49;00m\u001b[33m'\u001b[39;49;00m)\r\n",
      "        \u001b[34mreturn\u001b[39;49;00m data\r\n",
      "    \u001b[34mraise\u001b[39;49;00m \u001b[36mException\u001b[39;49;00m(\u001b[33m'\u001b[39;49;00m\u001b[33mRequested unsupported ContentType in content_type: \u001b[39;49;00m\u001b[33m'\u001b[39;49;00m + content_type)\r\n",
      "\r\n",
      "\u001b[34mdef\u001b[39;49;00m \u001b[32moutput_fn\u001b[39;49;00m(prediction_output, accept):\r\n",
      "    \u001b[34mprint\u001b[39;49;00m(\u001b[33m'\u001b[39;49;00m\u001b[33mSerializing the generated output.\u001b[39;49;00m\u001b[33m'\u001b[39;49;00m)\r\n",
      "    \u001b[34mreturn\u001b[39;49;00m \u001b[36mstr\u001b[39;49;00m(prediction_output)\r\n",
      "\r\n",
      "\u001b[34mdef\u001b[39;49;00m \u001b[32mpredict_fn\u001b[39;49;00m(input_data, model):\r\n",
      "    \u001b[34mprint\u001b[39;49;00m(\u001b[33m'\u001b[39;49;00m\u001b[33mInferring sentiment of input data.\u001b[39;49;00m\u001b[33m'\u001b[39;49;00m)\r\n",
      "\r\n",
      "    device = torch.device(\u001b[33m\"\u001b[39;49;00m\u001b[33mcuda\u001b[39;49;00m\u001b[33m\"\u001b[39;49;00m \u001b[34mif\u001b[39;49;00m torch.cuda.is_available() \u001b[34melse\u001b[39;49;00m \u001b[33m\"\u001b[39;49;00m\u001b[33mcpu\u001b[39;49;00m\u001b[33m\"\u001b[39;49;00m)\r\n",
      "    \r\n",
      "    \u001b[34mif\u001b[39;49;00m model.word_dict \u001b[35mis\u001b[39;49;00m \u001b[36mNone\u001b[39;49;00m:\r\n",
      "        \u001b[34mraise\u001b[39;49;00m \u001b[36mException\u001b[39;49;00m(\u001b[33m'\u001b[39;49;00m\u001b[33mModel has not been loaded properly, no word_dict.\u001b[39;49;00m\u001b[33m'\u001b[39;49;00m)\r\n",
      "    \r\n",
      "    \u001b[37m# TODO: Process input_data so that it is ready to be sent to our model.\u001b[39;49;00m\r\n",
      "    \u001b[37m#       You should produce two variables:\u001b[39;49;00m\r\n",
      "    \u001b[37m#         data_X   - A sequence of length 500 which represents the converted review\u001b[39;49;00m\r\n",
      "    \u001b[37m#         data_len - The length of the review\u001b[39;49;00m\r\n",
      "\r\n",
      "    review_words = review_to_words(input_data)\r\n",
      "    review_words, length = convert_and_pad(model.word_dict, review_words)\r\n",
      "    data_X = review_words\r\n",
      "    data_len = length\r\n",
      "\r\n",
      "    \u001b[37m# Using data_X and data_len we construct an appropriate input tensor. Remember\u001b[39;49;00m\r\n",
      "    \u001b[37m# that our model expects input data of the form 'len, review[500]'.\u001b[39;49;00m\r\n",
      "    data_pack = np.hstack((data_len, data_X))\r\n",
      "    data_pack = data_pack.reshape(\u001b[34m1\u001b[39;49;00m, -\u001b[34m1\u001b[39;49;00m)\r\n",
      "    \r\n",
      "    data = torch.from_numpy(data_pack)\r\n",
      "    data = data.to(device)\r\n",
      "\r\n",
      "    \u001b[37m# Make sure to put the model into evaluation mode\u001b[39;49;00m\r\n",
      "    model.eval()\r\n",
      "\r\n",
      "    \u001b[37m# TODO: Compute the result of applying the model to the input data. The variable `result` should\u001b[39;49;00m\r\n",
      "    \u001b[37m#       be a numpy array which contains a single integer which is either 1 or 0\u001b[39;49;00m\r\n",
      "\r\n",
      "    y_hat = model(data).detach().cpu().numpy()\r\n",
      "    \u001b[34mprint\u001b[39;49;00m(y_hat)\r\n",
      "    result = np.round(y_hat).astype(np.int)\r\n",
      "\r\n",
      "    \u001b[34mreturn\u001b[39;49;00m result\r\n"
     ]
    }
   ],
   "source": [
    "!pygmentize serve/predict.py"
   ]
  },
  {
   "cell_type": "markdown",
   "metadata": {},
   "source": [
    "As mentioned earlier, the `model_fn` method is the same as the one provided in the training code and the `input_fn` and `output_fn` methods are very simple and your task will be to complete the `predict_fn` method. Make sure that you save the completed file as `predict.py` in the `serve` directory.\n",
    "\n",
    "**TODO**: Complete the `predict_fn()` method in the `serve/predict.py` file."
   ]
  },
  {
   "cell_type": "markdown",
   "metadata": {},
   "source": [
    "### Deploying the model\n",
    "\n",
    "Now that the custom inference code has been written, we will create and deploy our model. To begin with, we need to construct a new PyTorchModel object which points to the model artifacts created during training and also points to the inference code that we wish to use. Then we can call the deploy method to launch the deployment container.\n",
    "\n",
    "**NOTE**: The default behaviour for a deployed PyTorch model is to assume that any input passed to the predictor is a `numpy` array. In our case we want to send a string so we need to construct a simple wrapper around the `RealTimePredictor` class to accomodate simple strings. In a more complicated situation you may want to provide a serialization object, for example if you wanted to sent image data."
   ]
  },
  {
   "cell_type": "code",
   "execution_count": 56,
   "metadata": {},
   "outputs": [
    {
     "name": "stderr",
     "output_type": "stream",
     "text": [
      "INFO:sagemaker:Creating model with name: sagemaker-pytorch-2019-04-06-05-53-26-441\n",
      "INFO:sagemaker:Creating endpoint with name sagemaker-pytorch-2019-04-06-05-53-26-441\n"
     ]
    },
    {
     "name": "stdout",
     "output_type": "stream",
     "text": [
      "---------------------------------------------------------------------------------------!"
     ]
    }
   ],
   "source": [
    "from sagemaker.predictor import RealTimePredictor\n",
    "from sagemaker.pytorch import PyTorchModel\n",
    "\n",
    "class StringPredictor(RealTimePredictor):\n",
    "    def __init__(self, endpoint_name, sagemaker_session):\n",
    "        super(StringPredictor, self).__init__(endpoint_name, sagemaker_session, content_type='text/plain')\n",
    "\n",
    "model = PyTorchModel(model_data=estimator.model_data,\n",
    "                     role = role,\n",
    "                     framework_version='0.4.0',\n",
    "                     entry_point='predict.py',\n",
    "                     source_dir='serve',\n",
    "                     predictor_cls=StringPredictor)\n",
    "predictor = model.deploy(initial_instance_count=1, instance_type='ml.m4.xlarge')"
   ]
  },
  {
   "cell_type": "markdown",
   "metadata": {},
   "source": [
    "### Testing the model\n",
    "\n",
    "Now that we have deployed our model with the custom inference code, we should test to see if everything is working. Here we test our model by loading the first `250` positive and negative reviews and send them to the endpoint, then collect the results. The reason for only sending some of the data is that the amount of time it takes for our model to process the input and then perform inference is quite long and so testing the entire data set would be prohibitive."
   ]
  },
  {
   "cell_type": "code",
   "execution_count": 57,
   "metadata": {},
   "outputs": [],
   "source": [
    "import glob\n",
    "\n",
    "def test_reviews(data_dir='../data/aclImdb', stop=250):\n",
    "    \n",
    "    results = []\n",
    "    ground = []\n",
    "    \n",
    "    # We make sure to test both positive and negative reviews    \n",
    "    for sentiment in ['pos', 'neg']:\n",
    "        \n",
    "        path = os.path.join(data_dir, 'test', sentiment, '*.txt')\n",
    "        files = glob.glob(path)\n",
    "        \n",
    "        files_read = 0\n",
    "        \n",
    "        print('Starting ', sentiment, ' files')\n",
    "        \n",
    "        # Iterate through the files and send them to the predictor\n",
    "        for f in files:\n",
    "            with open(f) as review:\n",
    "                # First, we store the ground truth (was the review positive or negative)\n",
    "                if sentiment == 'pos':\n",
    "                    ground.append(1)\n",
    "                else:\n",
    "                    ground.append(0)\n",
    "                # Read in the review and convert to 'utf-8' for transmission via HTTP\n",
    "                review_input = review.read().encode('utf-8')\n",
    "                # Send the review to the predictor and store the results\n",
    "                results.append(int(predictor.predict(review_input)))\n",
    "                \n",
    "            # Sending reviews to our endpoint one at a time takes a while so we\n",
    "            # only send a small number of reviews\n",
    "            files_read += 1\n",
    "            if files_read == stop:\n",
    "                break\n",
    "            \n",
    "    return ground, results"
   ]
  },
  {
   "cell_type": "code",
   "execution_count": 58,
   "metadata": {},
   "outputs": [
    {
     "name": "stdout",
     "output_type": "stream",
     "text": [
      "Starting  pos  files\n",
      "Starting  neg  files\n"
     ]
    }
   ],
   "source": [
    "ground, results = test_reviews()"
   ]
  },
  {
   "cell_type": "code",
   "execution_count": 59,
   "metadata": {},
   "outputs": [
    {
     "data": {
      "text/plain": [
       "0.844"
      ]
     },
     "execution_count": 59,
     "metadata": {},
     "output_type": "execute_result"
    }
   ],
   "source": [
    "from sklearn.metrics import accuracy_score\n",
    "accuracy_score(ground, results)"
   ]
  },
  {
   "cell_type": "markdown",
   "metadata": {},
   "source": [
    "As an additional test, we can try sending the `test_review` that we looked at earlier."
   ]
  },
  {
   "cell_type": "code",
   "execution_count": 60,
   "metadata": {},
   "outputs": [
    {
     "data": {
      "text/plain": [
       "b'1'"
      ]
     },
     "execution_count": 60,
     "metadata": {},
     "output_type": "execute_result"
    }
   ],
   "source": [
    "predictor.predict(test_review)"
   ]
  },
  {
   "cell_type": "markdown",
   "metadata": {},
   "source": [
    "Now that we know our endpoint is working as expected, we can set up the web page that will interact with it. If you don't have time to finish the project now, make sure to skip down to the end of this notebook and shut down your endpoint. You can deploy it again when you come back."
   ]
  },
  {
   "cell_type": "markdown",
   "metadata": {},
   "source": [
    "## Step 7 (again): Use the model for the web app\n",
    "\n",
    "> **TODO:** This entire section and the next contain tasks for you to complete, mostly using the AWS console.\n",
    "\n",
    "So far we have been accessing our model endpoint by constructing a predictor object which uses the endpoint and then just using the predictor object to perform inference. What if we wanted to create a web app which accessed our model? The way things are set up currently makes that not possible since in order to access a SageMaker endpoint the app would first have to authenticate with AWS using an IAM role which included access to SageMaker endpoints. However, there is an easier way! We just need to use some additional AWS services.\n",
    "\n",
    "<img src=\"Web App Diagram.svg\">\n",
    "\n",
    "The diagram above gives an overview of how the various services will work together. On the far right is the model which we trained above and which is deployed using SageMaker. On the far left is our web app that collects a user's movie review, sends it off and expects a positive or negative sentiment in return.\n",
    "\n",
    "In the middle is where some of the magic happens. We will construct a Lambda function, which you can think of as a straightforward Python function that can be executed whenever a specified event occurs. We will give this function permission to send and recieve data from a SageMaker endpoint.\n",
    "\n",
    "Lastly, the method we will use to execute the Lambda function is a new endpoint that we will create using API Gateway. This endpoint will be a url that listens for data to be sent to it. Once it gets some data it will pass that data on to the Lambda function and then return whatever the Lambda function returns. Essentially it will act as an interface that lets our web app communicate with the Lambda function.\n",
    "\n",
    "### Setting up a Lambda function\n",
    "\n",
    "The first thing we are going to do is set up a Lambda function. This Lambda function will be executed whenever our public API has data sent to it. When it is executed it will receive the data, perform any sort of processing that is required, send the data (the review) to the SageMaker endpoint we've created and then return the result.\n",
    "\n",
    "#### Part A: Create an IAM Role for the Lambda function\n",
    "\n",
    "Since we want the Lambda function to call a SageMaker endpoint, we need to make sure that it has permission to do so. To do this, we will construct a role that we can later give the Lambda function.\n",
    "\n",
    "Using the AWS Console, navigate to the **IAM** page and click on **Roles**. Then, click on **Create role**. Make sure that the **AWS service** is the type of trusted entity selected and choose **Lambda** as the service that will use this role, then click **Next: Permissions**.\n",
    "\n",
    "In the search box type `sagemaker` and select the check box next to the **AmazonSageMakerFullAccess** policy. Then, click on **Next: Review**.\n",
    "\n",
    "Lastly, give this role a name. Make sure you use a name that you will remember later on, for example `LambdaSageMakerRole`. Then, click on **Create role**.\n",
    "\n",
    "#### Part B: Create a Lambda function\n",
    "\n",
    "Now it is time to actually create the Lambda function.\n",
    "\n",
    "Using the AWS Console, navigate to the AWS Lambda page and click on **Create a function**. When you get to the next page, make sure that **Author from scratch** is selected. Now, name your Lambda function, using a name that you will remember later on, for example `sentiment_analysis_func`. Make sure that the **Python 3.6** runtime is selected and then choose the role that you created in the previous part. Then, click on **Create Function**.\n",
    "\n",
    "On the next page you will see some information about the Lambda function you've just created. If you scroll down you should see an editor in which you can write the code that will be executed when your Lambda function is triggered. In our example, we will use the code below. \n",
    "\n",
    "```python\n",
    "# We need to use the low-level library to interact with SageMaker since the SageMaker API\n",
    "# is not available natively through Lambda.\n",
    "import boto3\n",
    "\n",
    "def lambda_handler(event, context):\n",
    "\n",
    "    # The SageMaker runtime is what allows us to invoke the endpoint that we've created.\n",
    "    runtime = boto3.Session().client('sagemaker-runtime')\n",
    "\n",
    "    # Now we use the SageMaker runtime to invoke our endpoint, sending the review we were given\n",
    "    response = runtime.invoke_endpoint(EndpointName = '**ENDPOINT NAME HERE**',    # The name of the endpoint we created\n",
    "                                       ContentType = 'text/plain',                 # The data format that is expected\n",
    "                                       Body = event['body'])                       # The actual review\n",
    "\n",
    "    # The response is an HTTP response whose body contains the result of our inference\n",
    "    result = response['Body'].read().decode('utf-8')\n",
    "\n",
    "    return {\n",
    "        'statusCode' : 200,\n",
    "        'headers' : { 'Content-Type' : 'text/plain', 'Access-Control-Allow-Origin' : '*' },\n",
    "        'body' : result\n",
    "    }\n",
    "```\n",
    "\n",
    "Once you have copy and pasted the code above into the Lambda code editor, replace the `**ENDPOINT NAME HERE**` portion with the name of the endpoint that we deployed earlier. You can determine the name of the endpoint using the code cell below."
   ]
  },
  {
   "cell_type": "code",
   "execution_count": 61,
   "metadata": {},
   "outputs": [
    {
     "data": {
      "text/plain": [
       "'sagemaker-pytorch-2019-04-06-05-53-26-441'"
      ]
     },
     "execution_count": 61,
     "metadata": {},
     "output_type": "execute_result"
    }
   ],
   "source": [
    "predictor.endpoint"
   ]
  },
  {
   "cell_type": "markdown",
   "metadata": {},
   "source": [
    "Once you have added the endpoint name to the Lambda function, click on **Save**. Your Lambda function is now up and running. Next we need to create a way for our web app to execute the Lambda function.\n",
    "\n",
    "### Setting up API Gateway\n",
    "\n",
    "Now that our Lambda function is set up, it is time to create a new API using API Gateway that will trigger the Lambda function we have just created.\n",
    "\n",
    "Using AWS Console, navigate to **Amazon API Gateway** and then click on **Get started**.\n",
    "\n",
    "On the next page, make sure that **New API** is selected and give the new api a name, for example, `sentiment_analysis_api`. Then, click on **Create API**.\n",
    "\n",
    "Now we have created an API, however it doesn't currently do anything. What we want it to do is to trigger the Lambda function that we created earlier.\n",
    "\n",
    "Select the **Actions** dropdown menu and click **Create Method**. A new blank method will be created, select its dropdown menu and select **POST**, then click on the check mark beside it.\n",
    "\n",
    "For the integration point, make sure that **Lambda Function** is selected and click on the **Use Lambda Proxy integration**. This option makes sure that the data that is sent to the API is then sent directly to the Lambda function with no processing. It also means that the return value must be a proper response object as it will also not be processed by API Gateway.\n",
    "\n",
    "Type the name of the Lambda function you created earlier into the **Lambda Function** text entry box and then click on **Save**. Click on **OK** in the pop-up box that then appears, giving permission to API Gateway to invoke the Lambda function you created.\n",
    "\n",
    "The last step in creating the API Gateway is to select the **Actions** dropdown and click on **Deploy API**. You will need to create a new Deployment stage and name it anything you like, for example `prod`.\n",
    "\n",
    "You have now successfully set up a public API to access your SageMaker model. Make sure to copy or write down the URL provided to invoke your newly created public API as this will be needed in the next step. This URL can be found at the top of the page, highlighted in blue next to the text **Invoke URL**."
   ]
  },
  {
   "cell_type": "markdown",
   "metadata": {},
   "source": [
    "## Step 4: Deploying our web app\n",
    "\n",
    "Now that we have a publicly available API, we can start using it in a web app. For our purposes, we have provided a simple static html file which can make use of the public api you created earlier.\n",
    "\n",
    "In the `website` folder there should be a file called `index.html`. Download the file to your computer and open that file up in a text editor of your choice. There should be a line which contains **\\*\\*REPLACE WITH PUBLIC API URL\\*\\***. Replace this string with the url that you wrote down in the last step and then save the file.\n",
    "\n",
    "Now, if you open `index.html` on your local computer, your browser will behave as a local web server and you can use the provided site to interact with your SageMaker model.\n",
    "\n",
    "If you'd like to go further, you can host this html file anywhere you'd like, for example using github or hosting a static site on Amazon's S3. Once you have done this you can share the link with anyone you'd like and have them play with it too!\n",
    "\n",
    "> **Important Note** In order for the web app to communicate with the SageMaker endpoint, the endpoint has to actually be deployed and running. This means that you are paying for it. Make sure that the endpoint is running when you want to use the web app but that you shut it down when you don't need it, otherwise you will end up with a surprisingly large AWS bill.\n",
    "\n",
    "**TODO:** Make sure that you include the edited `index.html` file in your project submission."
   ]
  },
  {
   "cell_type": "markdown",
   "metadata": {},
   "source": [
    "Now that your web app is working, trying playing around with it and see how well it works.\n",
    "\n",
    "**Question**: Give an example of a review that you entered into your web app. What was the predicted sentiment of your example review?"
   ]
  },
  {
   "cell_type": "markdown",
   "metadata": {},
   "source": [
    "**Answer:** REVIEW:\"This is the first movie which compelled me to write a review. I will keep it short. The background score was just amazing and went along so well with the story. This movie reminds me of an outstanding song by Radiohead - Motion Picture Soundtrack. Just go ahead and watch this movie but be patient.\"\n",
    "PREDICTION:\"Your review was POSITIVE!\""
   ]
  },
  {
   "cell_type": "markdown",
   "metadata": {},
   "source": [
    "### Delete the endpoint\n",
    "\n",
    "Remember to always shut down your endpoint if you are no longer using it. You are charged for the length of time that the endpoint is running so if you forget and leave it on you could end up with an unexpectedly large bill."
   ]
  },
  {
   "cell_type": "code",
   "execution_count": 62,
   "metadata": {},
   "outputs": [
    {
     "name": "stderr",
     "output_type": "stream",
     "text": [
      "INFO:sagemaker:Deleting endpoint configuration with name: sagemaker-pytorch-2019-04-06-05-53-26-441\n",
      "INFO:sagemaker:Deleting endpoint with name: sagemaker-pytorch-2019-04-06-05-53-26-441\n"
     ]
    }
   ],
   "source": [
    "predictor.delete_endpoint()"
   ]
  },
  {
   "cell_type": "code",
   "execution_count": null,
   "metadata": {},
   "outputs": [],
   "source": []
  }
 ],
 "metadata": {
  "kernelspec": {
   "display_name": "conda_pytorch_p36",
   "language": "python",
   "name": "conda_pytorch_p36"
  },
  "language_info": {
   "codemirror_mode": {
    "name": "ipython",
    "version": 3
   },
   "file_extension": ".py",
   "mimetype": "text/x-python",
   "name": "python",
   "nbconvert_exporter": "python",
   "pygments_lexer": "ipython3",
   "version": "3.6.5"
  }
 },
 "nbformat": 4,
 "nbformat_minor": 2
}
