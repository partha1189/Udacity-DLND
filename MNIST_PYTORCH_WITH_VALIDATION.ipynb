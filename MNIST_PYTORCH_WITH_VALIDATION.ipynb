{
  "nbformat": 4,
  "nbformat_minor": 0,
  "metadata": {
    "colab": {
      "name": "MNIST_PYTORCH_WITH_VALIDATION.ipynb",
      "version": "0.3.2",
      "provenance": [],
      "collapsed_sections": [],
      "include_colab_link": true
    },
    "kernelspec": {
      "name": "python3",
      "display_name": "Python 3"
    },
    "accelerator": "GPU"
  },
  "cells": [
    {
      "cell_type": "markdown",
      "metadata": {
        "id": "view-in-github",
        "colab_type": "text"
      },
      "source": [
        "<a href=\"https://colab.research.google.com/github/partha1189/Udacity-DLND/blob/master/MNIST_PYTORCH_WITH_VALIDATION.ipynb\" target=\"_parent\"><img src=\"https://colab.research.google.com/assets/colab-badge.svg\" alt=\"Open In Colab\"/></a>"
      ]
    },
    {
      "metadata": {
        "id": "TGmyfG-h02bj",
        "colab_type": "code",
        "colab": {
          "base_uri": "https://localhost:8080/",
          "height": 54
        },
        "outputId": "424c0b36-299c-43b8-a856-1a98446bb97f"
      },
      "cell_type": "code",
      "source": [
        "# http://pytorch.org/\n",
        "from os.path import exists\n",
        "from wheel.pep425tags import get_abbr_impl, get_impl_ver, get_abi_tag\n",
        "platform = '{}{}-{}'.format(get_abbr_impl(), get_impl_ver(), get_abi_tag())\n",
        "cuda_output = !ldconfig -p|grep cudart.so|sed -e 's/.*\\.\\([0-9]*\\)\\.\\([0-9]*\\)$/cu\\1\\2/'\n",
        "accelerator = cuda_output[0] if exists('/dev/nvidia0') else 'cpu'\n",
        "\n",
        "!pip install -q http://download.pytorch.org/whl/{accelerator}/torch-0.4.1-{platform}-linux_x86_64.whl torchvision\n",
        "import torch"
      ],
      "execution_count": 1,
      "outputs": [
        {
          "output_type": "stream",
          "text": [
            "tcmalloc: large alloc 1073750016 bytes == 0x577e4000 @  0x7fe5a9f822a4 0x591a07 0x5b5d56 0x502e9a 0x506859 0x502209 0x502f3d 0x506859 0x504c28 0x502540 0x502f3d 0x506859 0x504c28 0x502540 0x502f3d 0x506859 0x504c28 0x502540 0x502f3d 0x507641 0x502209 0x502f3d 0x506859 0x504c28 0x502540 0x502f3d 0x507641 0x504c28 0x502540 0x502f3d 0x507641\n"
          ],
          "name": "stdout"
        }
      ]
    },
    {
      "metadata": {
        "id": "XJL7Jgv91QNJ",
        "colab_type": "code",
        "colab": {
          "base_uri": "https://localhost:8080/",
          "height": 54
        },
        "outputId": "9f881dfa-838d-4799-af28-c6e2585fd6f2"
      },
      "cell_type": "code",
      "source": [
        "!pip install Pillow"
      ],
      "execution_count": 2,
      "outputs": [
        {
          "output_type": "stream",
          "text": [
            "Requirement already satisfied: Pillow in /usr/local/lib/python3.6/dist-packages (5.4.0)\n"
          ],
          "name": "stdout"
        }
      ]
    },
    {
      "metadata": {
        "id": "zJTuQXAJ1RHv",
        "colab_type": "code",
        "colab": {}
      },
      "cell_type": "code",
      "source": [
        "# import libraries\n",
        "import torch\n",
        "import numpy as np\n",
        "\n",
        "from torchvision import datasets\n",
        "import torchvision.transforms as transforms\n",
        "from torch.utils.data.sampler import SubsetRandomSampler\n",
        "\n",
        "# number of subprocesses to use for data loading\n",
        "num_workers = 0\n",
        "# how many samples per batch to load\n",
        "batch_size = 20\n",
        "# percentage of training set to use as validation\n",
        "valid_size = 0.2"
      ],
      "execution_count": 0,
      "outputs": []
    },
    {
      "metadata": {
        "id": "B_ggbImX2DK7",
        "colab_type": "code",
        "colab": {
          "base_uri": "https://localhost:8080/",
          "height": 118
        },
        "outputId": "6e6a7524-462e-4916-abf5-ba21e11a7abe"
      },
      "cell_type": "code",
      "source": [
        "transform = transforms.ToTensor()\n",
        "\n",
        "train_data = datasets.MNIST(root='data',train= True,download=True,transform=transform)\n",
        "test_data = datasets.MNIST(root='data',train=False,download=True,transform=transform)\n",
        "\n",
        "num_train = len(train_data)\n",
        "indices = list(range(num_train))"
      ],
      "execution_count": 4,
      "outputs": [
        {
          "output_type": "stream",
          "text": [
            "Downloading http://yann.lecun.com/exdb/mnist/train-images-idx3-ubyte.gz\n",
            "Downloading http://yann.lecun.com/exdb/mnist/train-labels-idx1-ubyte.gz\n",
            "Downloading http://yann.lecun.com/exdb/mnist/t10k-images-idx3-ubyte.gz\n",
            "Downloading http://yann.lecun.com/exdb/mnist/t10k-labels-idx1-ubyte.gz\n",
            "Processing...\n",
            "Done!\n"
          ],
          "name": "stdout"
        }
      ]
    },
    {
      "metadata": {
        "id": "yIaTTf513F1H",
        "colab_type": "code",
        "colab": {
          "base_uri": "https://localhost:8080/",
          "height": 34
        },
        "outputId": "0302e1d9-4b6b-4b42-ece2-34cec5b447fb"
      },
      "cell_type": "code",
      "source": [
        "num_train"
      ],
      "execution_count": 5,
      "outputs": [
        {
          "output_type": "execute_result",
          "data": {
            "text/plain": [
              "60000"
            ]
          },
          "metadata": {
            "tags": []
          },
          "execution_count": 5
        }
      ]
    },
    {
      "metadata": {
        "id": "IMTiMJaK3Rep",
        "colab_type": "code",
        "colab": {}
      },
      "cell_type": "code",
      "source": [
        "np.random.shuffle(indices)"
      ],
      "execution_count": 0,
      "outputs": []
    },
    {
      "metadata": {
        "id": "97b1SxLx3dgb",
        "colab_type": "code",
        "colab": {}
      },
      "cell_type": "code",
      "source": [
        "split = int(np.floor(valid_size * num_train))"
      ],
      "execution_count": 0,
      "outputs": []
    },
    {
      "metadata": {
        "id": "Q8-45tmd3nJO",
        "colab_type": "code",
        "colab": {
          "base_uri": "https://localhost:8080/",
          "height": 34
        },
        "outputId": "f3b0fb9c-cf74-4716-f607-3a73b17a4d47"
      },
      "cell_type": "code",
      "source": [
        "split"
      ],
      "execution_count": 9,
      "outputs": [
        {
          "output_type": "execute_result",
          "data": {
            "text/plain": [
              "12000"
            ]
          },
          "metadata": {
            "tags": []
          },
          "execution_count": 9
        }
      ]
    },
    {
      "metadata": {
        "id": "AqD4Jg2a3odS",
        "colab_type": "code",
        "colab": {}
      },
      "cell_type": "code",
      "source": [
        "train_idx,valid_idx = indices[split:],indices[:split]"
      ],
      "execution_count": 0,
      "outputs": []
    },
    {
      "metadata": {
        "id": "b8TVUZEI38Aw",
        "colab_type": "code",
        "colab": {}
      },
      "cell_type": "code",
      "source": [
        "train_sampler = SubsetRandomSampler(train_idx)\n",
        "valid_sampler = SubsetRandomSampler(valid_idx)\n",
        "\n",
        "train_loader = torch.utils.data.DataLoader(train_data,batch_size=batch_size,sampler=train_sampler,num_workers=num_workers)\n",
        "valid_loader = torch.utils.data.DataLoader(train_data,batch_size=batch_size,sampler=valid_sampler,num_workers=num_workers)\n",
        "test_loader = torch.utils.data.DataLoader(test_data,batch_size=batch_size,num_workers=num_workers)"
      ],
      "execution_count": 0,
      "outputs": []
    },
    {
      "metadata": {
        "id": "fRI9vajV47Xf",
        "colab_type": "code",
        "colab": {
          "base_uri": "https://localhost:8080/",
          "height": 283
        },
        "outputId": "aecd5dd7-02ee-4a67-cb96-3436437cc574"
      },
      "cell_type": "code",
      "source": [
        "import matplotlib.pyplot as plt\n",
        "%matplotlib inline\n",
        "    \n",
        "# obtain one batch of training images\n",
        "dataiter = iter(train_loader)\n",
        "images, labels = dataiter.next()\n",
        "images = images.numpy()\n",
        "\n",
        "# plot the images in the batch, along with the corresponding labels\n",
        "fig = plt.figure(figsize=(25, 4))\n",
        "for idx in np.arange(20):\n",
        "    ax = fig.add_subplot(2, 20/2, idx+1, xticks=[], yticks=[])\n",
        "    ax.imshow(np.squeeze(images[idx]), cmap='gray')\n",
        "    # print out the correct label for each image\n",
        "    # .item() gets the value contained in a Tensor\n",
        "    ax.set_title(str(labels[idx].item()))"
      ],
      "execution_count": 12,
      "outputs": [
        {
          "output_type": "display_data",
          "data": {
            "image/png": "[encoded data removed]",
            "text/plain": [
              "<matplotlib.figure.Figure at 0x7f012e418048>"
            ]
          },
          "metadata": {
            "tags": []
          }
        }
      ]
    },
    {
      "metadata": {
        "id": "ZO0sMHCT5AYB",
        "colab_type": "code",
        "colab": {
          "base_uri": "https://localhost:8080/",
          "height": 118
        },
        "outputId": "db370943-27b0-4775-fff6-a242381ec5c0"
      },
      "cell_type": "code",
      "source": [
        "import torch.nn as nn\n",
        "import torch.nn.functional as F\n",
        "\n",
        "class Net(nn.Module):\n",
        "  def __init__(self):\n",
        "    super(Net,self).__init__()\n",
        "    \n",
        "    hidden_1 = 512\n",
        "    hidden_2 = 512\n",
        "    \n",
        "    self.fc1 = nn.Linear(28 * 28,hidden_1)\n",
        "    self.fc2 = nn.Linear(hidden_1,hidden_2)\n",
        "    self.fc3 = nn.Linear(hidden_2,10)\n",
        "    \n",
        "    self.dropout = nn.Dropout(0.2)\n",
        "    \n",
        "  def forward(self,x):\n",
        "    \n",
        "    x = x.view(-1,28 * 28)\n",
        "    \n",
        "    x = F.relu(self.fc1(x))\n",
        "    \n",
        "    x = self.dropout(x)\n",
        "    \n",
        "    x = F.relu(self.fc2(x))\n",
        "    \n",
        "    x = self.dropout(x)\n",
        "    \n",
        "    x = self.fc3(x)\n",
        "    \n",
        "    return x\n",
        "    \n",
        "    \n",
        "    \n",
        "model = Net()\n",
        "print(model)\n",
        "    \n",
        "    "
      ],
      "execution_count": 13,
      "outputs": [
        {
          "output_type": "stream",
          "text": [
            "Net(\n",
            "  (fc1): Linear(in_features=784, out_features=512, bias=True)\n",
            "  (fc2): Linear(in_features=512, out_features=512, bias=True)\n",
            "  (fc3): Linear(in_features=512, out_features=10, bias=True)\n",
            "  (dropout): Dropout(p=0.2)\n",
            ")\n"
          ],
          "name": "stdout"
        }
      ]
    },
    {
      "metadata": {
        "id": "lvY5CY3H6rB8",
        "colab_type": "code",
        "colab": {}
      },
      "cell_type": "code",
      "source": [
        "criterion = nn.CrossEntropyLoss()\n",
        "from torch import optim\n",
        "optimizer = optim.Adam(model.parameters(),lr=0.01)"
      ],
      "execution_count": 0,
      "outputs": []
    },
    {
      "metadata": {
        "id": "sc8DN6jk7BpK",
        "colab_type": "code",
        "colab": {
          "base_uri": "https://localhost:8080/",
          "height": 437
        },
        "outputId": "2adda027-f6a0-4629-c78f-33b278144eda"
      },
      "cell_type": "code",
      "source": [
        "n_epochs = 20\n",
        "\n",
        "#initialize tracker for min_valid_loss\n",
        "valid_loss_min = np.Inf\n",
        "\n",
        "for e in range(n_epochs):\n",
        "  \n",
        "  train_loss = 0.0\n",
        "  valid_loss = 0.0\n",
        "  \n",
        "  ##############\n",
        "  # TRAIN MODEL#\n",
        "  ##############\n",
        "  \n",
        "  model.train()\n",
        "  for data,target in train_loader:\n",
        "    optimizer.zero_grad()\n",
        "    \n",
        "    output = model(data)\n",
        "    \n",
        "    loss = criterion(output,target)\n",
        "    \n",
        "    loss.backward()\n",
        "    \n",
        "    optimizer.step()\n",
        "    \n",
        "    train_loss += loss.item()*data.size(0)\n",
        "  \n",
        "  ##################\n",
        "  # VALIDATE MODEL #\n",
        "  ##################\n",
        "  model.eval()\n",
        "  for data,target in valid_loader:\n",
        "    \n",
        "    output = model(data)\n",
        "    \n",
        "    loss = criterion(output,target)\n",
        "    \n",
        "    valid_loss += loss.item()*data.size(0)\n",
        "    \n",
        "  train_loss = train_loss/len(train_loader.dataset)\n",
        "  valid_loss = valid_loss/len(valid_loader.dataset)\n",
        "  \n",
        "  print('Epoch: {} \\tTraining Loss: {:.6f} \\tValidation Loss: {:.6f}'.format(\n",
        "        e+1, \n",
        "        train_loss,\n",
        "        valid_loss\n",
        "        ))\n",
        "  \n",
        "  #SAVE MODEL IF VALID_LOSS HAS DECREASED\n",
        "  \n",
        "  if valid_loss <= valid_loss_min:\n",
        "    print('Validation loss decreased ({:.6f} --> {:.6f}).  Saving model ...'.format(\n",
        "    valid_loss_min,\n",
        "    valid_loss))\n",
        "    \n",
        "    torch.save(model.state_dict(),'model.pt')\n",
        "    valid_loss_min = valid_loss\n"
      ],
      "execution_count": 19,
      "outputs": [
        {
          "output_type": "stream",
          "text": [
            "Epoch: 1 \tTraining Loss: 0.458091 \tValidation Loss: 0.076387\n",
            "Validation loss decreased (inf --> 0.076387).  Saving model ...\n",
            "Epoch: 2 \tTraining Loss: 0.434056 \tValidation Loss: 0.074681\n",
            "Validation loss decreased (0.076387 --> 0.074681).  Saving model ...\n",
            "Epoch: 3 \tTraining Loss: 0.399411 \tValidation Loss: 0.067464\n",
            "Validation loss decreased (0.074681 --> 0.067464).  Saving model ...\n",
            "Epoch: 4 \tTraining Loss: 0.375212 \tValidation Loss: 0.062720\n",
            "Validation loss decreased (0.067464 --> 0.062720).  Saving model ...\n",
            "Epoch: 5 \tTraining Loss: 0.371919 \tValidation Loss: 0.071235\n",
            "Epoch: 6 \tTraining Loss: 0.379447 \tValidation Loss: 0.068518\n",
            "Epoch: 7 \tTraining Loss: 0.374430 \tValidation Loss: 0.072261\n",
            "Epoch: 8 \tTraining Loss: 0.353137 \tValidation Loss: 0.073328\n",
            "Epoch: 9 \tTraining Loss: 0.371763 \tValidation Loss: 0.061512\n",
            "Validation loss decreased (0.062720 --> 0.061512).  Saving model ...\n",
            "Epoch: 10 \tTraining Loss: 0.319890 \tValidation Loss: 0.062009\n",
            "Epoch: 11 \tTraining Loss: 0.345786 \tValidation Loss: 0.067736\n",
            "Epoch: 12 \tTraining Loss: 0.319997 \tValidation Loss: 0.068958\n",
            "Epoch: 13 \tTraining Loss: 0.311406 \tValidation Loss: 0.067068\n",
            "Epoch: 14 \tTraining Loss: 0.327816 \tValidation Loss: 0.066829\n",
            "Epoch: 15 \tTraining Loss: 0.328473 \tValidation Loss: 0.073308\n",
            "Epoch: 16 \tTraining Loss: 0.309893 \tValidation Loss: 0.075520\n",
            "Epoch: 17 \tTraining Loss: 0.317661 \tValidation Loss: 0.075345\n",
            "Epoch: 18 \tTraining Loss: 0.299736 \tValidation Loss: 0.074687\n",
            "Epoch: 19 \tTraining Loss: 0.305209 \tValidation Loss: 0.073721\n",
            "Epoch: 20 \tTraining Loss: 0.310089 \tValidation Loss: 0.078122\n"
          ],
          "name": "stdout"
        }
      ]
    },
    {
      "metadata": {
        "id": "-wByLs1_FFwT",
        "colab_type": "code",
        "colab": {}
      },
      "cell_type": "code",
      "source": [
        "model.load_state_dict(torch.load('model.pt'))"
      ],
      "execution_count": 0,
      "outputs": []
    },
    {
      "metadata": {
        "id": "QHavQ-k7TfaD",
        "colab_type": "code",
        "colab": {
          "base_uri": "https://localhost:8080/",
          "height": 252
        },
        "outputId": "6c6aab2b-eacb-47a4-e740-be0c74fa3474"
      },
      "cell_type": "code",
      "source": [
        "# initialize lists to monitor test loss and accuracy\n",
        "test_loss = 0.0\n",
        "class_correct = list(0. for i in range(10))\n",
        "class_total = list(0. for i in range(10))\n",
        "\n",
        "model.eval() # prep model for evaluation\n",
        "\n",
        "for data, target in test_loader:\n",
        "    # forward pass: compute predicted outputs by passing inputs to the model\n",
        "    output = model(data)\n",
        "    # calculate the loss\n",
        "    loss = criterion(output, target)\n",
        "    # update test loss \n",
        "    test_loss += loss.item()*data.size(0)\n",
        "    # convert output probabilities to predicted class\n",
        "    _, pred = torch.max(output, 1)\n",
        "    # compare predictions to true label\n",
        "    correct = np.squeeze(pred.eq(target.data.view_as(pred)))\n",
        "    # calculate test accuracy for each object class\n",
        "    for i in range(batch_size):\n",
        "        label = target.data[i]\n",
        "        class_correct[label] += correct[i].item()\n",
        "        class_total[label] += 1\n",
        "\n",
        "# calculate and print avg test loss\n",
        "test_loss = test_loss/len(test_loader.dataset)\n",
        "print('Test Loss: {:.6f}\\n'.format(test_loss))\n",
        "\n",
        "for i in range(10):\n",
        "    if class_total[i] > 0:\n",
        "        print('Test Accuracy of %5s: %2d%% (%2d/%2d)' % (\n",
        "            str(i), 100 * class_correct[i] / class_total[i],\n",
        "            np.sum(class_correct[i]), np.sum(class_total[i])))\n",
        "    else:\n",
        "        print('Test Accuracy of %5s: N/A (no training examples)' % (classes[i]))\n",
        "\n",
        "print('\\nTest Accuracy (Overall): %2d%% (%2d/%2d)' % (\n",
        "    100. * np.sum(class_correct) / np.sum(class_total),\n",
        "    np.sum(class_correct), np.sum(class_total)))"
      ],
      "execution_count": 21,
      "outputs": [
        {
          "output_type": "stream",
          "text": [
            "Test Loss: 0.337004\n",
            "\n",
            "Test Accuracy of     0: 95% (940/980)\n",
            "Test Accuracy of     1: 97% (1103/1135)\n",
            "Test Accuracy of     2: 95% (988/1032)\n",
            "Test Accuracy of     3: 89% (902/1010)\n",
            "Test Accuracy of     4: 95% (938/982)\n",
            "Test Accuracy of     5: 90% (810/892)\n",
            "Test Accuracy of     6: 93% (891/958)\n",
            "Test Accuracy of     7: 97% (1000/1028)\n",
            "Test Accuracy of     8: 88% (865/974)\n",
            "Test Accuracy of     9: 88% (888/1009)\n",
            "\n",
            "Test Accuracy (Overall): 93% (9325/10000)\n"
          ],
          "name": "stdout"
        }
      ]
    },
    {
      "metadata": {
        "id": "mK59meq5TiBR",
        "colab_type": "code",
        "colab": {
          "base_uri": "https://localhost:8080/",
          "height": 283
        },
        "outputId": "e57f445e-8987-4dcd-d947-52db3784718b"
      },
      "cell_type": "code",
      "source": [
        "# obtain one batch of test images\n",
        "dataiter = iter(test_loader)\n",
        "images, labels = dataiter.next()\n",
        "\n",
        "# get sample outputs\n",
        "output = model(images)\n",
        "# convert output probabilities to predicted class\n",
        "_, preds = torch.max(output, 1)\n",
        "# prep images for display\n",
        "images = images.numpy()\n",
        "\n",
        "# plot the images in the batch, along with predicted and true labels\n",
        "fig = plt.figure(figsize=(25, 4))\n",
        "for idx in np.arange(20):\n",
        "    ax = fig.add_subplot(2, 20/2, idx+1, xticks=[], yticks=[])\n",
        "    ax.imshow(np.squeeze(images[idx]), cmap='gray')\n",
        "    ax.set_title(\"{} ({})\".format(str(preds[idx].item()), str(labels[idx].item())),\n",
        "                 color=(\"green\" if preds[idx]==labels[idx] else \"red\"))"
      ],
      "execution_count": 22,
      "outputs": [
        {
          "output_type": "display_data",
          "data": {
            "image/png": "[encoded data removed]",
            "text/plain": [
              "<matplotlib.figure.Figure at 0x7f00d814bf60>"
            ]
          },
          "metadata": {
            "tags": []
          }
        }
      ]
    },
    {
      "metadata": {
        "id": "mAcJEUnKTkn3",
        "colab_type": "code",
        "colab": {}
      },
      "cell_type": "code",
      "source": [
        ""
      ],
      "execution_count": 0,
      "outputs": []
    }
  ]
}